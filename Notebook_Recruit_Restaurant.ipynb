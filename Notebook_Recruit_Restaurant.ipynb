{
 "cells": [
  {
   "cell_type": "markdown",
   "metadata": {
    "id": "jXNdEGavUTjI"
   },
   "source": [
    "## Imports and loading data"
   ]
  },
  {
   "cell_type": "code",
   "execution_count": 144,
   "metadata": {
    "id": "g8JZEB6wVhDb"
   },
   "outputs": [],
   "source": [
    "#import python libraries\n",
    "import pandas as pd\n",
    "import numpy as np\n",
    "import matplotlib.pyplot as plt\n",
    "import seaborn as sns\n",
    "import xgboost as xg\n",
    "import lightgbm as lgb\n",
    "import catboost \n",
    "from datetime import datetime as dt\n",
    "from sklearn import datasets, linear_model\n",
    "from sklearn.metrics import mean_squared_log_error, r2_score\n",
    "from sklearn.model_selection import GridSearchCV\n",
    "from sklearn.tree import DecisionTreeRegressor\n",
    "from sklearn.neighbors import KNeighborsRegressor\n",
    "from sklearn.model_selection import train_test_split \n",
    "from sklearn.model_selection import KFold\n",
    "from sklearn.ensemble import RandomForestRegressor\n",
    "from sklearn.model_selection import cross_val_score\n",
    "from sklearn.preprocessing import MinMaxScaler"
   ]
  },
  {
   "cell_type": "code",
   "execution_count": 2,
   "metadata": {
    "colab": {
     "base_uri": "https://localhost:8080/"
    },
    "id": "ZAJrlgY4VobG",
    "outputId": "f0134640-6e8a-4ede-c626-5857d8b1904b"
   },
   "outputs": [
    {
     "name": "stdout",
     "output_type": "stream",
     "text": [
      "Mounted at /content/gdrive\n"
     ]
    }
   ],
   "source": [
    "#mounting google drive to load data from it\n",
    "from google.colab import drive\n",
    "drive.mount('/content/gdrive')"
   ]
  },
  {
   "cell_type": "code",
   "execution_count": 3,
   "metadata": {
    "colab": {
     "base_uri": "https://localhost:8080/"
    },
    "id": "cGytZXBjM_hu",
    "outputId": "c1b74d1e-7a43-4a3f-e1b9-5a361cb4a925"
   },
   "outputs": [
    {
     "name": "stdout",
     "output_type": "stream",
     "text": [
      "/content/gdrive/My Drive/Colab Notebooks/recruit\n"
     ]
    }
   ],
   "source": [
    "cd gdrive/My Drive/Colab Notebooks/recruit"
   ]
  },
  {
   "cell_type": "code",
   "execution_count": 4,
   "metadata": {
    "id": "qU9XXE8XVqVh"
   },
   "outputs": [],
   "source": [
    "path=\"\""
   ]
  },
  {
   "cell_type": "code",
   "execution_count": 5,
   "metadata": {
    "id": "uK4PerrPVuky"
   },
   "outputs": [],
   "source": [
    "# Read csv files\n",
    "air_reserve = pd.read_csv(path + 'air_reserve.csv')\n",
    "air_reserve.name=\"air_reserve\"\n",
    "air_store_info = pd.read_csv(path + 'air_store_info.csv')\n",
    "air_store_info.name=\"air_store_info\"\n",
    "air_visit_data = pd.read_csv(path + 'air_visit_data.csv')\n",
    "air_visit_data.name=\"air_visit_data\"\n",
    "hpg_reserve = pd.read_csv(path + 'hpg_reserve.csv')\n",
    "hpg_reserve.name=\"hpg_reserve\"\n",
    "hpg_store_info = pd.read_csv(path + 'hpg_store_info.csv')\n",
    "hpg_store_info.name=\"hpg_store_info\"\n",
    "store_id_relation = pd.read_csv(path + 'store_id_relation.csv')\n",
    "store_id_relation.name=\"store_relation_id\"\n",
    "date_info = pd.read_csv(path + 'date_info.csv')\n",
    "date_info.name=\"date_info\"\n",
    "sample_sub = pd.read_csv(path + 'sample_submission.csv')"
   ]
  },
  {
   "cell_type": "markdown",
   "metadata": {
    "id": "vpc9Jxj7NsW8"
   },
   "source": [
    "## EDA"
   ]
  },
  {
   "cell_type": "markdown",
   "metadata": {
    "id": "wGCcnj99N-Ie"
   },
   "source": [
    "###### Checking for Missing Data"
   ]
  },
  {
   "cell_type": "code",
   "execution_count": null,
   "metadata": {
    "colab": {
     "base_uri": "https://localhost:8080/"
    },
    "id": "_vKsx-hHN4rV",
    "outputId": "33ad6ea8-de2d-4439-b2b6-e2fd45d8c0e1"
   },
   "outputs": [
    {
     "name": "stdout",
     "output_type": "stream",
     "text": [
      "air_store_id        0\n",
      "visit_datetime      0\n",
      "reserve_datetime    0\n",
      "reserve_visitors    0\n",
      "dtype: int64 \n",
      "\n",
      "air_store_id      0\n",
      "air_genre_name    0\n",
      "air_area_name     0\n",
      "latitude          0\n",
      "longitude         0\n",
      "dtype: int64 \n",
      "\n",
      "calendar_date    0\n",
      "day_of_week      0\n",
      "holiday_flg      0\n",
      "dtype: int64 \n",
      "\n",
      "hpg_store_id        0\n",
      "visit_datetime      0\n",
      "reserve_datetime    0\n",
      "reserve_visitors    0\n",
      "dtype: int64 \n",
      "\n",
      "hpg_store_id      0\n",
      "hpg_genre_name    0\n",
      "hpg_area_name     0\n",
      "latitude          0\n",
      "longitude         0\n",
      "dtype: int64 \n",
      "\n",
      "air_store_id    0\n",
      "hpg_store_id    0\n",
      "dtype: int64 \n",
      "\n"
     ]
    }
   ],
   "source": [
    "listofdf=[air_reserve,air_store_info,date_info,hpg_reserve,hpg_store_info,store_id_relation]\n",
    "for df in listofdf:\n",
    "    print(df.isnull().sum(), \"\\n\")"
   ]
  },
  {
   "cell_type": "markdown",
   "metadata": {
    "id": "snhJEAzzOYkE"
   },
   "source": [
    "No missing data was found"
   ]
  },
  {
   "cell_type": "markdown",
   "metadata": {
    "id": "D83AI_bUOYeL"
   },
   "source": [
    "###### Stats of each dataset"
   ]
  },
  {
   "cell_type": "code",
   "execution_count": null,
   "metadata": {
    "colab": {
     "base_uri": "https://localhost:8080/"
    },
    "id": "v1YOM9YsOYZC",
    "outputId": "f40f6c94-ab58-48e6-ee32-8b2597e4aa55"
   },
   "outputs": [
    {
     "name": "stdout",
     "output_type": "stream",
     "text": [
      "air_reserve \n",
      "\n",
      "       reserve_visitors\n",
      "count      92378.000000\n",
      "mean           4.481749\n",
      "std            4.919669\n",
      "min            1.000000\n",
      "25%            2.000000\n",
      "50%            3.000000\n",
      "75%            5.000000\n",
      "max          100.000000 \n",
      "\n",
      "air_store_info \n",
      "\n",
      "         latitude   longitude\n",
      "count  829.000000  829.000000\n",
      "mean    35.647042  137.415311\n",
      "std      2.084659    3.650971\n",
      "min     33.211967  130.195555\n",
      "25%     34.695124  135.341564\n",
      "50%     35.658068  139.685474\n",
      "75%     35.694003  139.751599\n",
      "max     44.020632  144.273398 \n",
      "\n",
      "date_info \n",
      "\n",
      "       holiday_flg\n",
      "count   517.000000\n",
      "mean      0.067698\n",
      "std       0.251471\n",
      "min       0.000000\n",
      "25%       0.000000\n",
      "50%       0.000000\n",
      "75%       0.000000\n",
      "max       1.000000 \n",
      "\n",
      "hpg_reserve \n",
      "\n",
      "       reserve_visitors\n",
      "count      2.000320e+06\n",
      "mean       5.073785e+00\n",
      "std        5.416172e+00\n",
      "min        1.000000e+00\n",
      "25%        2.000000e+00\n",
      "50%        3.000000e+00\n",
      "75%        6.000000e+00\n",
      "max        1.000000e+02 \n",
      "\n",
      "hpg_store_info \n",
      "\n",
      "          latitude    longitude\n",
      "count  4690.000000  4690.000000\n",
      "mean     35.810261   137.675816\n",
      "std       2.138755     3.197233\n",
      "min      33.311645   130.339313\n",
      "25%      34.692109   135.498859\n",
      "50%      35.659214   139.495733\n",
      "75%      35.703381   139.737998\n",
      "max      43.774846   143.714585 \n",
      "\n",
      "store_relation_id \n",
      "\n",
      "                air_store_id          hpg_store_id\n",
      "count                    150                   150\n",
      "unique                   150                   150\n",
      "top     air_af63df35857b16e6  hpg_ee8cad9cd96718da\n",
      "freq                       1                     1 \n",
      "\n"
     ]
    }
   ],
   "source": [
    "for df in listofdf:\n",
    "    print(df.name,\"\\n\")\n",
    "    print(df.describe(),\"\\n\")"
   ]
  },
  {
   "cell_type": "markdown",
   "metadata": {
    "id": "2MQonBYxOYOQ"
   },
   "source": [
    "#### Visualization"
   ]
  },
  {
   "cell_type": "markdown",
   "metadata": {
    "id": "fSrB5MOGWO64"
   },
   "source": [
    "###### *Reservation data*"
   ]
  },
  {
   "cell_type": "code",
   "execution_count": 60,
   "metadata": {
    "id": "4q99go0-OYIT"
   },
   "outputs": [],
   "source": [
    "airres=air_reserve.copy()\n",
    "hpgres=hpg_reserve.copy()"
   ]
  },
  {
   "cell_type": "code",
   "execution_count": 61,
   "metadata": {
    "id": "Pbh5zmsoOYCS"
   },
   "outputs": [],
   "source": [
    "#convert visit date and time to separate date and time columns \n",
    "airres['Dates'] = pd.to_datetime(airres['visit_datetime']).dt.date\n",
    "airres['Time'] = pd.to_datetime(airres['visit_datetime']).dt.time\n",
    "\n",
    "hpgres['Dates'] = pd.to_datetime(hpgres['visit_datetime']).dt.date\n",
    "hpgres['Time'] = pd.to_datetime(hpgres['visit_datetime']).dt.time"
   ]
  },
  {
   "cell_type": "code",
   "execution_count": 62,
   "metadata": {
    "id": "9sPDLsfVOX8N"
   },
   "outputs": [],
   "source": [
    "#group the reservations by date to check the reservation trend\n",
    "group_date_air=airres.groupby(['Dates']).sum()\n",
    "group_date_hpg=hpgres.groupby(['Dates']).sum()"
   ]
  },
  {
   "cell_type": "code",
   "execution_count": 63,
   "metadata": {
    "colab": {
     "base_uri": "https://localhost:8080/",
     "height": 339
    },
    "id": "S3YCvQBgOX0U",
    "outputId": "2c4b6f7f-cd19-4cf4-a5d4-174b439e4e27"
   },
   "outputs": [
    {
     "data": {
      "image/png": "[encoded data removed]",
      "text/plain": [
       "<Figure size 1080x360 with 1 Axes>"
      ]
     },
     "metadata": {
      "tags": []
     },
     "output_type": "display_data"
    }
   ],
   "source": [
    "#plot reservation visitors vs date from airreserve\n",
    "sns.set(rc={'figure.figsize':(15,5)})\n",
    "group_date_air['reserve_visitors'].plot(linewidth=2);"
   ]
  },
  {
   "cell_type": "code",
   "execution_count": null,
   "metadata": {
    "id": "moOzD7Ux-Knb"
   },
   "outputs": [],
   "source": [
    "#There is missing data from July 2016 to November 2016 after which there is a huge spike of visitors. \n",
    "#New years time may have more number of people who go out for dining"
   ]
  },
  {
   "cell_type": "code",
   "execution_count": 64,
   "metadata": {
    "colab": {
     "base_uri": "https://localhost:8080/",
     "height": 339
    },
    "id": "IoU35a7YN4S6",
    "outputId": "3e1cda94-6203-4b5b-b0ce-b7a7a3c66364"
   },
   "outputs": [
    {
     "data": {
      "image/png": "[encoded data removed]",
      "text/plain": [
       "<Figure size 1080x360 with 1 Axes>"
      ]
     },
     "metadata": {
      "tags": []
     },
     "output_type": "display_data"
    }
   ],
   "source": [
    "#plot reservation visitors vs date from hpg_reserve\n",
    "sns.set(rc={'figure.figsize':(15,5)})\n",
    "group_date_hpg['reserve_visitors'].plot(linewidth=2);"
   ]
  },
  {
   "cell_type": "code",
   "execution_count": null,
   "metadata": {
    "id": "gPv5vxWg-lA_"
   },
   "outputs": [],
   "source": [
    "#Here again there is spike in January which might suggest the New Years time is popular for Dining out"
   ]
  },
  {
   "cell_type": "markdown",
   "metadata": {
    "id": "MvkO68VrN4Bk"
   },
   "source": [
    "##### *Holiday info*"
   ]
  },
  {
   "cell_type": "code",
   "execution_count": 65,
   "metadata": {
    "id": "qsLteU7EWoa4"
   },
   "outputs": [],
   "source": [
    "date=date_info.copy()"
   ]
  },
  {
   "cell_type": "code",
   "execution_count": 66,
   "metadata": {
    "id": "JQCYU6tRWokM"
   },
   "outputs": [],
   "source": [
    "date['holiday_flg']=date['holiday_flg'].astype(int)\n",
    "datehol=date.loc[date['holiday_flg']==1]"
   ]
  },
  {
   "cell_type": "code",
   "execution_count": 67,
   "metadata": {
    "colab": {
     "base_uri": "https://localhost:8080/",
     "height": 284
    },
    "id": "ax9TE6Q9ZnE4",
    "outputId": "c7875cbc-6283-4b98-e26a-1c1a5ca47be6"
   },
   "outputs": [
    {
     "data": {
      "text/html": [
       "<div>\n",
       "<style scoped>\n",
       "    .dataframe tbody tr th:only-of-type {\n",
       "        vertical-align: middle;\n",
       "    }\n",
       "\n",
       "    .dataframe tbody tr th {\n",
       "        vertical-align: top;\n",
       "    }\n",
       "\n",
       "    .dataframe thead th {\n",
       "        text-align: right;\n",
       "    }\n",
       "</style>\n",
       "<table border=\"1\" class=\"dataframe\">\n",
       "  <thead>\n",
       "    <tr style=\"text-align: right;\">\n",
       "      <th></th>\n",
       "      <th>holiday_flg</th>\n",
       "    </tr>\n",
       "    <tr>\n",
       "      <th>day_of_week</th>\n",
       "      <th></th>\n",
       "    </tr>\n",
       "  </thead>\n",
       "  <tbody>\n",
       "    <tr>\n",
       "      <th>Friday</th>\n",
       "      <td>5</td>\n",
       "    </tr>\n",
       "    <tr>\n",
       "      <th>Monday</th>\n",
       "      <td>9</td>\n",
       "    </tr>\n",
       "    <tr>\n",
       "      <th>Saturday</th>\n",
       "      <td>5</td>\n",
       "    </tr>\n",
       "    <tr>\n",
       "      <th>Sunday</th>\n",
       "      <td>4</td>\n",
       "    </tr>\n",
       "    <tr>\n",
       "      <th>Thursday</th>\n",
       "      <td>7</td>\n",
       "    </tr>\n",
       "    <tr>\n",
       "      <th>Tuesday</th>\n",
       "      <td>2</td>\n",
       "    </tr>\n",
       "    <tr>\n",
       "      <th>Wednesday</th>\n",
       "      <td>3</td>\n",
       "    </tr>\n",
       "  </tbody>\n",
       "</table>\n",
       "</div>"
      ],
      "text/plain": [
       "             holiday_flg\n",
       "day_of_week             \n",
       "Friday                 5\n",
       "Monday                 9\n",
       "Saturday               5\n",
       "Sunday                 4\n",
       "Thursday               7\n",
       "Tuesday                2\n",
       "Wednesday              3"
      ]
     },
     "execution_count": 67,
     "metadata": {
      "tags": []
     },
     "output_type": "execute_result"
    }
   ],
   "source": [
    "datehol.groupby('day_of_week').sum()"
   ]
  },
  {
   "cell_type": "code",
   "execution_count": 68,
   "metadata": {
    "colab": {
     "base_uri": "https://localhost:8080/",
     "height": 356
    },
    "id": "7vZUCHfBY_hN",
    "outputId": "f432da0c-e80a-4a73-f896-32fb50e99c9e"
   },
   "outputs": [
    {
     "data": {
      "text/plain": [
       "<matplotlib.axes._subplots.AxesSubplot at 0x7f8665c53d30>"
      ]
     },
     "execution_count": 68,
     "metadata": {
      "tags": []
     },
     "output_type": "execute_result"
    },
    {
     "data": {
      "image/png": "[encoded data removed]",
      "text/plain": [
       "<Figure size 1080x360 with 1 Axes>"
      ]
     },
     "metadata": {
      "tags": []
     },
     "output_type": "display_data"
    }
   ],
   "source": [
    "sns.countplot(data=datehol.groupby('day_of_week').mean(),x=datehol.day_of_week)\n",
    "#count of holidays vs day of week\n",
    "#monday has the hightest number of holidays"
   ]
  },
  {
   "cell_type": "markdown",
   "metadata": {
    "id": "ClslGOXxWoz9"
   },
   "source": [
    "##### *Store id vs visitors*"
   ]
  },
  {
   "cell_type": "code",
   "execution_count": 72,
   "metadata": {
    "colab": {
     "base_uri": "https://localhost:8080/",
     "height": 357
    },
    "id": "zQqD-yQ8dmOU",
    "outputId": "0366812b-6fb7-43c0-e4ec-745d40e95f30"
   },
   "outputs": [
    {
     "data": {
      "text/plain": [
       "<matplotlib.axes._subplots.AxesSubplot at 0x7f8665577ac8>"
      ]
     },
     "execution_count": 72,
     "metadata": {
      "tags": []
     },
     "output_type": "execute_result"
    },
    {
     "data": {
      "image/png": "[encoded data removed]",
      "text/plain": [
       "<Figure size 1080x360 with 1 Axes>"
      ]
     },
     "metadata": {
      "tags": []
     },
     "output_type": "display_data"
    }
   ],
   "source": [
    "air_visit=air_visit_data.copy()\n",
    "# air_Visit group by air_store_id\n",
    "group_id_air_visit=air_visit.groupby(['air_store_id']).sum()\n",
    "group_id_air_visit=group_id_air_visit.sort_values(by='visitors',ascending=False)\n",
    "group_id_air_visit.plot()\n",
    "\n",
    "#air store id vs total no of visitors"
   ]
  },
  {
   "cell_type": "markdown",
   "metadata": {
    "id": "C4vX3FP1DNHT"
   },
   "source": [
    "###### *Number of visitors and time*"
   ]
  },
  {
   "cell_type": "code",
   "execution_count": 75,
   "metadata": {
    "colab": {
     "base_uri": "https://localhost:8080/",
     "height": 356
    },
    "id": "ZbOuqcBrI9u7",
    "outputId": "a9707080-2700-4983-b9b7-7b5ce0332a6d"
   },
   "outputs": [
    {
     "data": {
      "text/plain": [
       "<matplotlib.axes._subplots.AxesSubplot at 0x7f86657d67b8>"
      ]
     },
     "execution_count": 75,
     "metadata": {
      "tags": []
     },
     "output_type": "execute_result"
    },
    {
     "data": {
      "image/png": "[encoded data removed]",
      "text/plain": [
       "<Figure size 1080x360 with 1 Axes>"
      ]
     },
     "metadata": {
      "tags": []
     },
     "output_type": "display_data"
    }
   ],
   "source": [
    "visitors_time=airres[['Time','reserve_visitors']]\n",
    "group_visitors_time=visitors_time.groupby('Time').sum()\n",
    "group_visitors_time.plot()\n",
    "\n",
    "# time of day vs total number of visitors\n",
    "# we can see the number of visitors peak at after 6pm "
   ]
  },
  {
   "cell_type": "markdown",
   "metadata": {
    "id": "PRfAoSp0MZA8"
   },
   "source": [
    "##### *Area and Genre*"
   ]
  },
  {
   "cell_type": "code",
   "execution_count": 78,
   "metadata": {
    "id": "hEcywrZiJwTV"
   },
   "outputs": [],
   "source": [
    "air_res_store=pd.merge(airres,air_store_info,on='air_store_id', how='inner')\n",
    "air=pd.merge(air_res_store,air_visit,on='air_store_id',how='inner')"
   ]
  },
  {
   "cell_type": "code",
   "execution_count": 79,
   "metadata": {
    "colab": {
     "base_uri": "https://localhost:8080/",
     "height": 515
    },
    "id": "UcVBkvlUJ9fG",
    "outputId": "2ded966a-4bb5-40fa-cb99-75fde0a56298"
   },
   "outputs": [
    {
     "data": {
      "image/png": "[encoded data removed]",
      "text/plain": [
       "<Figure size 1080x360 with 1 Axes>"
      ]
     },
     "metadata": {
      "tags": []
     },
     "output_type": "display_data"
    }
   ],
   "source": [
    "g_genre=air.groupby('air_genre_name')\n",
    "df=g_genre['visitors'].count().sort_values().plot(kind='bar',align='center')\n",
    "# Genre vs Number of visitors"
   ]
  },
  {
   "cell_type": "code",
   "execution_count": 84,
   "metadata": {
    "colab": {
     "base_uri": "https://localhost:8080/",
     "height": 615
    },
    "id": "tA54VdfqKrP4",
    "outputId": "96b8dae0-9c65-46a5-98eb-d0e1d2847186"
   },
   "outputs": [
    {
     "data": {
      "image/png": "[encoded data removed]",
      "text/plain": [
       "<Figure size 1080x360 with 1 Axes>"
      ]
     },
     "metadata": {
      "tags": []
     },
     "output_type": "display_data"
    }
   ],
   "source": [
    "#visitors based on area name\n",
    "g_genre=air.groupby('air_area_name')\n",
    "df=g_genre['visitors'].count().sort_values().plot(kind='bar',align='center')\n",
    "# area vs no of visitors"
   ]
  },
  {
   "cell_type": "code",
   "execution_count": 83,
   "metadata": {
    "colab": {
     "base_uri": "https://localhost:8080/",
     "height": 573
    },
    "id": "lB5yBYaNKDt3",
    "outputId": "5903d5c9-a5d7-4033-fa8e-f38f361b9173"
   },
   "outputs": [
    {
     "data": {
      "text/plain": [
       "<matplotlib.axes._subplots.AxesSubplot at 0x7f8665252080>"
      ]
     },
     "execution_count": 83,
     "metadata": {
      "tags": []
     },
     "output_type": "execute_result"
    },
    {
     "data": {
      "image/png": "[encoded data removed]",
      "text/plain": [
       "<Figure size 1080x360 with 1 Axes>"
      ]
     },
     "metadata": {
      "tags": []
     },
     "output_type": "display_data"
    }
   ],
   "source": [
    "#top 15 areas with max restaurants\n",
    "temp=air_store_info.air_area_name.value_counts()\n",
    "temp[:15].sort_values().plot(kind='bar')"
   ]
  },
  {
   "cell_type": "code",
   "execution_count": 85,
   "metadata": {
    "id": "HQ8qRKdVK7Zv"
   },
   "outputs": [],
   "source": [
    "visits_dates=pd.merge(air_visit,date,left_on='visit_date', right_on='calendar_date',how='left')"
   ]
  },
  {
   "cell_type": "markdown",
   "metadata": {
    "id": "7jasZDD1Lk2d"
   },
   "source": [
    "##### *Trend of visitors if its a holiday*"
   ]
  },
  {
   "cell_type": "code",
   "execution_count": 86,
   "metadata": {
    "colab": {
     "base_uri": "https://localhost:8080/",
     "height": 356
    },
    "id": "xjbTUI-oLRLt",
    "outputId": "4297dcf1-0dae-4c4d-c78f-0ad6cc82f277"
   },
   "outputs": [
    {
     "data": {
      "text/plain": [
       "<matplotlib.axes._subplots.AxesSubplot at 0x7f8664fb65c0>"
      ]
     },
     "execution_count": 86,
     "metadata": {
      "tags": []
     },
     "output_type": "execute_result"
    },
    {
     "data": {
      "image/png": "[encoded data removed]",
      "text/plain": [
       "<Figure size 1080x360 with 1 Axes>"
      ]
     },
     "metadata": {
      "tags": []
     },
     "output_type": "display_data"
    }
   ],
   "source": [
    "visits_dates_grp=visits_dates.loc[visits_dates['holiday_flg']==1]\n",
    "sns.countplot(data=visits_dates_grp,x=visits_dates_grp.day_of_week)\n",
    "#mondays are popular if its a holiday"
   ]
  },
  {
   "cell_type": "markdown",
   "metadata": {
    "id": "fpqcMvEKLySM"
   },
   "source": [
    "##### *Trend of visitors if its not a holiday*"
   ]
  },
  {
   "cell_type": "code",
   "execution_count": 87,
   "metadata": {
    "colab": {
     "base_uri": "https://localhost:8080/",
     "height": 356
    },
    "id": "bMQIQ4KyLV1M",
    "outputId": "8729f73d-1cb4-4328-e0f0-cabc789d6ebe"
   },
   "outputs": [
    {
     "data": {
      "text/plain": [
       "<matplotlib.axes._subplots.AxesSubplot at 0x7f8664795630>"
      ]
     },
     "execution_count": 87,
     "metadata": {
      "tags": []
     },
     "output_type": "execute_result"
    },
    {
     "data": {
      "image/png": "[encoded data removed]",
      "text/plain": [
       "<Figure size 1080x360 with 1 Axes>"
      ]
     },
     "metadata": {
      "tags": []
     },
     "output_type": "display_data"
    }
   ],
   "source": [
    "visits_dates_grp_normal=visits_dates.loc[visits_dates['holiday_flg']==0]\n",
    "sns.countplot(data=visits_dates_grp_normal,x=visits_dates_grp_normal.day_of_week)\n",
    "#friday is the most popular choice for a non holiday while monday is the least popular"
   ]
  },
  {
   "cell_type": "code",
   "execution_count": 94,
   "metadata": {
    "id": "rX8bmnbJMwLy"
   },
   "outputs": [],
   "source": [
    "visits_genre=pd.merge(air_visit,air_store_info,left_on='air_store_id', right_on='air_store_id',how='left')\n",
    "visits_genre=visits_genre.drop(['latitude', 'longitude','air_area_name','air_store_id'], axis=1)"
   ]
  },
  {
   "cell_type": "code",
   "execution_count": 95,
   "metadata": {
    "id": "BTRlPcjLNHcG"
   },
   "outputs": [],
   "source": [
    "visits_genre['visit_date'] = pd.to_datetime(visits_genre.visit_date)\n",
    "visits_genre['visit_date'] = visits_genre['visit_date'].dt.strftime('%Y-%m')\n",
    "visits_genre_grp=visits_genre.groupby('air_genre_name').count()\n"
   ]
  },
  {
   "cell_type": "code",
   "execution_count": 96,
   "metadata": {
    "colab": {
     "base_uri": "https://localhost:8080/",
     "height": 491
    },
    "id": "BWwYpPtbNMaY",
    "outputId": "6f33e39d-4339-4b24-9146-2e91e6d6bd14"
   },
   "outputs": [
    {
     "data": {
      "text/html": [
       "<div>\n",
       "<style scoped>\n",
       "    .dataframe tbody tr th:only-of-type {\n",
       "        vertical-align: middle;\n",
       "    }\n",
       "\n",
       "    .dataframe tbody tr th {\n",
       "        vertical-align: top;\n",
       "    }\n",
       "\n",
       "    .dataframe thead th {\n",
       "        text-align: right;\n",
       "    }\n",
       "</style>\n",
       "<table border=\"1\" class=\"dataframe\">\n",
       "  <thead>\n",
       "    <tr style=\"text-align: right;\">\n",
       "      <th></th>\n",
       "      <th>visitors</th>\n",
       "      <th>Count of each cuisine</th>\n",
       "      <th>Avg Visitors</th>\n",
       "    </tr>\n",
       "    <tr>\n",
       "      <th>air_genre_name</th>\n",
       "      <th></th>\n",
       "      <th></th>\n",
       "      <th></th>\n",
       "    </tr>\n",
       "  </thead>\n",
       "  <tbody>\n",
       "    <tr>\n",
       "      <th>Asian</th>\n",
       "      <td>20730</td>\n",
       "      <td>535</td>\n",
       "      <td>38.747664</td>\n",
       "    </tr>\n",
       "    <tr>\n",
       "      <th>Karaoke/Party</th>\n",
       "      <td>15476</td>\n",
       "      <td>516</td>\n",
       "      <td>29.992248</td>\n",
       "    </tr>\n",
       "    <tr>\n",
       "      <th>International cuisine</th>\n",
       "      <td>9378</td>\n",
       "      <td>372</td>\n",
       "      <td>25.209677</td>\n",
       "    </tr>\n",
       "    <tr>\n",
       "      <th>Creative cuisine</th>\n",
       "      <td>91285</td>\n",
       "      <td>3868</td>\n",
       "      <td>23.600052</td>\n",
       "    </tr>\n",
       "    <tr>\n",
       "      <th>Izakaya</th>\n",
       "      <td>1432337</td>\n",
       "      <td>62052</td>\n",
       "      <td>23.082850</td>\n",
       "    </tr>\n",
       "    <tr>\n",
       "      <th>Okonomiyaki/Monja/Teppanyaki</th>\n",
       "      <td>83797</td>\n",
       "      <td>3706</td>\n",
       "      <td>22.611171</td>\n",
       "    </tr>\n",
       "    <tr>\n",
       "      <th>Cafe/Sweets</th>\n",
       "      <td>1192802</td>\n",
       "      <td>52764</td>\n",
       "      <td>22.606360</td>\n",
       "    </tr>\n",
       "    <tr>\n",
       "      <th>Italian/French</th>\n",
       "      <td>677737</td>\n",
       "      <td>30011</td>\n",
       "      <td>22.582953</td>\n",
       "    </tr>\n",
       "    <tr>\n",
       "      <th>Western food</th>\n",
       "      <td>109086</td>\n",
       "      <td>4897</td>\n",
       "      <td>22.276087</td>\n",
       "    </tr>\n",
       "    <tr>\n",
       "      <th>Yakiniku/Korean food</th>\n",
       "      <td>149182</td>\n",
       "      <td>7025</td>\n",
       "      <td>21.235872</td>\n",
       "    </tr>\n",
       "    <tr>\n",
       "      <th>Other</th>\n",
       "      <td>163781</td>\n",
       "      <td>8246</td>\n",
       "      <td>19.861872</td>\n",
       "    </tr>\n",
       "    <tr>\n",
       "      <th>Japanese food</th>\n",
       "      <td>367352</td>\n",
       "      <td>18789</td>\n",
       "      <td>19.551440</td>\n",
       "    </tr>\n",
       "    <tr>\n",
       "      <th>Dining bar</th>\n",
       "      <td>640195</td>\n",
       "      <td>34192</td>\n",
       "      <td>18.723532</td>\n",
       "    </tr>\n",
       "    <tr>\n",
       "      <th>Bar/Cocktail</th>\n",
       "      <td>334515</td>\n",
       "      <td>25135</td>\n",
       "      <td>13.308733</td>\n",
       "    </tr>\n",
       "  </tbody>\n",
       "</table>\n",
       "</div>"
      ],
      "text/plain": [
       "                              visitors  Count of each cuisine  Avg Visitors\n",
       "air_genre_name                                                             \n",
       "Asian                            20730                    535     38.747664\n",
       "Karaoke/Party                    15476                    516     29.992248\n",
       "International cuisine             9378                    372     25.209677\n",
       "Creative cuisine                 91285                   3868     23.600052\n",
       "Izakaya                        1432337                  62052     23.082850\n",
       "Okonomiyaki/Monja/Teppanyaki     83797                   3706     22.611171\n",
       "Cafe/Sweets                    1192802                  52764     22.606360\n",
       "Italian/French                  677737                  30011     22.582953\n",
       "Western food                    109086                   4897     22.276087\n",
       "Yakiniku/Korean food            149182                   7025     21.235872\n",
       "Other                           163781                   8246     19.861872\n",
       "Japanese food                   367352                  18789     19.551440\n",
       "Dining bar                      640195                  34192     18.723532\n",
       "Bar/Cocktail                    334515                  25135     13.308733"
      ]
     },
     "execution_count": 96,
     "metadata": {
      "tags": []
     },
     "output_type": "execute_result"
    }
   ],
   "source": [
    "visits_genre_grp_sum=visits_genre.groupby('air_genre_name').sum()\n",
    "visits_genre_grp_sum['Count of each cuisine'] = visits_genre_grp['visitors']\n",
    "visits_genre_grp_sum['Avg Visitors'] = visits_genre_grp_sum['visitors']/visits_genre_grp_sum['Count of each cuisine']\n",
    "visits_genre_grp_sum.sort_values(by=['Avg Visitors'], ascending=False)"
   ]
  },
  {
   "cell_type": "code",
   "execution_count": 97,
   "metadata": {
    "colab": {
     "base_uri": "https://localhost:8080/",
     "height": 521
    },
    "id": "GTx_pWlaNRu9",
    "outputId": "e6067b87-f001-41b1-89ae-0d31cbc0b45b"
   },
   "outputs": [
    {
     "data": {
      "text/plain": [
       "<matplotlib.axes._subplots.AxesSubplot at 0x7f8663933ef0>"
      ]
     },
     "execution_count": 97,
     "metadata": {
      "tags": []
     },
     "output_type": "execute_result"
    },
    {
     "data": {
      "image/png": "[encoded data removed]",
      "text/plain": [
       "<Figure size 1080x360 with 1 Axes>"
      ]
     },
     "metadata": {
      "tags": []
     },
     "output_type": "display_data"
    }
   ],
   "source": [
    "visits_genre.groupby(['air_genre_name']).size().plot(kind = \"bar\")"
   ]
  },
  {
   "cell_type": "code",
   "execution_count": 98,
   "metadata": {
    "colab": {
     "base_uri": "https://localhost:8080/",
     "height": 356
    },
    "id": "gBcbEVszNVEs",
    "outputId": "b722adab-0c81-467f-a904-e7e31af19e66"
   },
   "outputs": [
    {
     "data": {
      "text/plain": [
       "<matplotlib.axes._subplots.AxesSubplot at 0x7f86656b3b38>"
      ]
     },
     "execution_count": 98,
     "metadata": {
      "tags": []
     },
     "output_type": "execute_result"
    },
    {
     "data": {
      "image/png": "[encoded data removed]",
      "text/plain": [
       "<Figure size 1080x360 with 1 Axes>"
      ]
     },
     "metadata": {
      "tags": []
     },
     "output_type": "display_data"
    }
   ],
   "source": [
    "visits_genre.groupby(['visit_date']).sum().plot(linewidth=2)"
   ]
  },
  {
   "cell_type": "markdown",
   "metadata": {
    "id": "trexCtlKWpEA"
   },
   "source": [
    "## Feature Engineering"
   ]
  },
  {
   "cell_type": "markdown",
   "metadata": {
    "id": "QVmdf-7Ki3l5"
   },
   "source": [
    "###### *Reservation Data*"
   ]
  },
  {
   "cell_type": "code",
   "execution_count": 100,
   "metadata": {
    "id": "t2gKXGdIVv6p"
   },
   "outputs": [],
   "source": [
    "# combine air and hpg Reserve databases \n",
    "hpg_air_reserve = store_id_relation.join(hpg_reserve.set_index('hpg_store_id'), on = 'hpg_store_id')\n",
    "temp_air_reserve = air_reserve.copy()\n",
    "#dropping hpg_store_id since its counter air_store_id is present\n",
    "hpg_air_reserve = hpg_air_reserve.drop('hpg_store_id', axis = 1)\n",
    "#concatenating the entire reserve data together \n",
    "reserve = pd.concat([temp_air_reserve, hpg_air_reserve])"
   ]
  },
  {
   "cell_type": "code",
   "execution_count": 101,
   "metadata": {
    "id": "45v27o3h-WzB"
   },
   "outputs": [],
   "source": [
    "# convert columns of \"reserve\" table into datetime format\n",
    "reserve['visit_datetime'] =  pd.to_datetime(reserve['visit_datetime'])\n",
    "reserve['reserve_datetime'] =  pd.to_datetime(reserve['reserve_datetime'])\n",
    "\n",
    "# create column for visit date inside \"reserve\" table (since air_visit_data has the visit_date only and not the time, we'll need this columns while merging)\n",
    "reserve['visit_date'] = reserve['visit_datetime'].apply(lambda x: str(x)[0:10])\n",
    "\n",
    "# calculate the gap between visit time and reservation time inside \"reserve\" table\n",
    "reserve['hour_gap'] = reserve['visit_datetime'].sub(reserve['reserve_datetime'])\n",
    "reserve['hour_gap'] = reserve['hour_gap'].apply(lambda x: x/np.timedelta64(1,'h'))"
   ]
  },
  {
   "cell_type": "code",
   "execution_count": 102,
   "metadata": {
    "id": "rfBd4Qxo-W6i"
   },
   "outputs": [],
   "source": [
    "# separate reservation into 5 categories based on gap length\n",
    "# gaps are of length (0.5 day, 1 day, 1 day, 1 day, remaining time) \n",
    "reserve['reserve_-12_h'] = np.where(reserve['hour_gap'] <= 12,\n",
    "                                    reserve['reserve_visitors'], 0)\n",
    "reserve['reserve_12_37_h'] = np.where((reserve['hour_gap'] <= 37) & (reserve['hour_gap'] > 12),\n",
    "                                       reserve['reserve_visitors'], 0)\n",
    "reserve['reserve_37_59_h'] = np.where((reserve['hour_gap'] <= 59) & (reserve['hour_gap'] > 37),\n",
    "                                       reserve['reserve_visitors'], 0)\n",
    "reserve['reserve_59_85_h'] = np.where((reserve['hour_gap'] <= 85) & (reserve['hour_gap'] > 59),\n",
    "                                       reserve['reserve_visitors'], 0)\n",
    "reserve['reserve_85+_h'] = np.where((reserve['hour_gap'] > 85),\n",
    "                                     reserve['reserve_visitors'], 0)"
   ]
  },
  {
   "cell_type": "code",
   "execution_count": 103,
   "metadata": {
    "id": "Ythu3tkG-XBB"
   },
   "outputs": [],
   "source": [
    "# group by air_store_id and visit_date to enable joining with main table\n",
    "group_list = ['air_store_id', 'visit_date', 'reserve_visitors', 'reserve_-12_h',\n",
    "              'reserve_12_37_h', 'reserve_37_59_h', 'reserve_59_85_h', 'reserve_85+_h']\n",
    "\n",
    "reserve = reserve[group_list].groupby(['air_store_id', 'visit_date'], as_index = False).sum()"
   ]
  },
  {
   "cell_type": "markdown",
   "metadata": {
    "id": "bO1-s9ePjsG8"
   },
   "source": [
    "###### Genre and Area"
   ]
  },
  {
   "cell_type": "code",
   "execution_count": 104,
   "metadata": {
    "id": "kySaN7zF-XPw"
   },
   "outputs": [],
   "source": [
    "# total amount of restaurants of specific genres by area_name \n",
    "# group by air genre and area name\n",
    "air_genres_in_area = air_store_info.copy()\n",
    "air_genres_in_area = air_genres_in_area[['air_store_id', 'air_genre_name', 'air_area_name']].groupby(['air_genre_name', 'air_area_name'],\n",
    "                                                                                              as_index = False).count()\n",
    "air_genres_in_area = air_genres_in_area.rename(columns = {'air_store_id': 'genre_in_area'})"
   ]
  },
  {
   "cell_type": "code",
   "execution_count": 105,
   "metadata": {
    "id": "HdgMOZxe-skR"
   },
   "outputs": [],
   "source": [
    "# merge df with air_genres_in_area to ge the total restaurants of same genre in an area, with respect to store id\n",
    "def merge_genres_area(df):\n",
    "    df = pd.merge(df, air_genres_in_area, how = 'left',left_on = ['air_genre_name', 'air_area_name'],right_on = ['air_genre_name', 'air_area_name'])\n",
    "    return df"
   ]
  },
  {
   "cell_type": "code",
   "execution_count": 106,
   "metadata": {
    "id": "8CXN-igW-spY"
   },
   "outputs": [],
   "source": [
    "# total amount of restaurants in area \n",
    "# group by area name and count the no of restaurants in that area\n",
    "air_area_total_ret = air_store_info.copy()\n",
    "air_area_total_ret = air_area_total_ret[['air_store_id', 'air_area_name']].groupby(['air_area_name'], as_index = False).count()\n",
    "air_area_total_ret = air_area_total_ret.rename(columns = {'air_store_id': 'total_rt_in_area'})"
   ]
  },
  {
   "cell_type": "code",
   "execution_count": 107,
   "metadata": {
    "id": "oQ2vt4JE-ssQ"
   },
   "outputs": [],
   "source": [
    "# merge df with air_area_total_ret to get the total number of restaurants in an area with respect to store id\n",
    "def merge_total_rt_in_area(df):\n",
    "  df = pd.merge(df, air_area_total_ret, how = 'left',left_on = ['air_area_name'],right_on = ['air_area_name'])\n",
    "  return df;"
   ]
  },
  {
   "cell_type": "markdown",
   "metadata": {
    "id": "C2yUCvSWlUJd"
   },
   "source": [
    "###### *Holidays*"
   ]
  },
  {
   "cell_type": "code",
   "execution_count": 108,
   "metadata": {
    "id": "2alilEJV-svJ"
   },
   "outputs": [],
   "source": [
    "# additional features for weekends and holidays\n",
    "date_info_mod = date_info.copy()\n",
    "date_info_mod['holiday_eve'] = np.zeros(date_info_mod.shape[0])"
   ]
  },
  {
   "cell_type": "code",
   "execution_count": 109,
   "metadata": {
    "colab": {
     "base_uri": "https://localhost:8080/",
     "height": 0
    },
    "id": "ITsGLgXi-2UU",
    "outputId": "44bfda8f-2502-411f-e204-7108e1de7f3a"
   },
   "outputs": [
    {
     "name": "stderr",
     "output_type": "stream",
     "text": [
      "/usr/local/lib/python3.6/dist-packages/pandas/core/indexing.py:670: SettingWithCopyWarning: \n",
      "A value is trying to be set on a copy of a slice from a DataFrame\n",
      "\n",
      "See the caveats in the documentation: https://pandas.pydata.org/pandas-docs/stable/user_guide/indexing.html#returning-a-view-versus-a-copy\n",
      "  iloc._setitem_with_indexer(indexer, value)\n"
     ]
    },
    {
     "data": {
      "text/html": [
       "<div>\n",
       "<style scoped>\n",
       "    .dataframe tbody tr th:only-of-type {\n",
       "        vertical-align: middle;\n",
       "    }\n",
       "\n",
       "    .dataframe tbody tr th {\n",
       "        vertical-align: top;\n",
       "    }\n",
       "\n",
       "    .dataframe thead th {\n",
       "        text-align: right;\n",
       "    }\n",
       "</style>\n",
       "<table border=\"1\" class=\"dataframe\">\n",
       "  <thead>\n",
       "    <tr style=\"text-align: right;\">\n",
       "      <th></th>\n",
       "      <th>calendar_date</th>\n",
       "      <th>day_of_week</th>\n",
       "      <th>holiday_flg</th>\n",
       "      <th>holiday_eve</th>\n",
       "    </tr>\n",
       "  </thead>\n",
       "  <tbody>\n",
       "    <tr>\n",
       "      <th>0</th>\n",
       "      <td>2016-01-01</td>\n",
       "      <td>Friday</td>\n",
       "      <td>1</td>\n",
       "      <td>1.0</td>\n",
       "    </tr>\n",
       "    <tr>\n",
       "      <th>1</th>\n",
       "      <td>2016-01-02</td>\n",
       "      <td>Saturday</td>\n",
       "      <td>1</td>\n",
       "      <td>1.0</td>\n",
       "    </tr>\n",
       "    <tr>\n",
       "      <th>2</th>\n",
       "      <td>2016-01-03</td>\n",
       "      <td>Sunday</td>\n",
       "      <td>1</td>\n",
       "      <td>0.0</td>\n",
       "    </tr>\n",
       "    <tr>\n",
       "      <th>3</th>\n",
       "      <td>2016-01-04</td>\n",
       "      <td>Monday</td>\n",
       "      <td>0</td>\n",
       "      <td>0.0</td>\n",
       "    </tr>\n",
       "  </tbody>\n",
       "</table>\n",
       "</div>"
      ],
      "text/plain": [
       "  calendar_date day_of_week  holiday_flg  holiday_eve\n",
       "0    2016-01-01      Friday            1          1.0\n",
       "1    2016-01-02    Saturday            1          1.0\n",
       "2    2016-01-03      Sunday            1          0.0\n",
       "3    2016-01-04      Monday            0          0.0"
      ]
     },
     "execution_count": 109,
     "metadata": {
      "tags": []
     },
     "output_type": "execute_result"
    }
   ],
   "source": [
    "# holiday eve feature created which marks whether the next day is a holiday or not\n",
    "date_info_mod['holiday_eve'].iloc[:-1] = date_info_mod['holiday_flg'].copy().values[1:]\n",
    "date_info_mod.head(4)"
   ]
  },
  {
   "cell_type": "code",
   "execution_count": 110,
   "metadata": {
    "colab": {
     "base_uri": "https://localhost:8080/",
     "height": 0
    },
    "id": "7Rl_pej7-2XE",
    "outputId": "897076cb-5af3-482f-b6ad-e5dacd9075d9"
   },
   "outputs": [
    {
     "data": {
      "text/html": [
       "<div>\n",
       "<style scoped>\n",
       "    .dataframe tbody tr th:only-of-type {\n",
       "        vertical-align: middle;\n",
       "    }\n",
       "\n",
       "    .dataframe tbody tr th {\n",
       "        vertical-align: top;\n",
       "    }\n",
       "\n",
       "    .dataframe thead th {\n",
       "        text-align: right;\n",
       "    }\n",
       "</style>\n",
       "<table border=\"1\" class=\"dataframe\">\n",
       "  <thead>\n",
       "    <tr style=\"text-align: right;\">\n",
       "      <th></th>\n",
       "      <th>calendar_date</th>\n",
       "      <th>day_of_week</th>\n",
       "      <th>holiday_flg</th>\n",
       "      <th>holiday_eve</th>\n",
       "      <th>non_working_day</th>\n",
       "    </tr>\n",
       "  </thead>\n",
       "  <tbody>\n",
       "    <tr>\n",
       "      <th>0</th>\n",
       "      <td>2016-01-01</td>\n",
       "      <td>Friday</td>\n",
       "      <td>1</td>\n",
       "      <td>1.0</td>\n",
       "      <td>1</td>\n",
       "    </tr>\n",
       "    <tr>\n",
       "      <th>1</th>\n",
       "      <td>2016-01-02</td>\n",
       "      <td>Saturday</td>\n",
       "      <td>1</td>\n",
       "      <td>1.0</td>\n",
       "      <td>1</td>\n",
       "    </tr>\n",
       "    <tr>\n",
       "      <th>2</th>\n",
       "      <td>2016-01-03</td>\n",
       "      <td>Sunday</td>\n",
       "      <td>1</td>\n",
       "      <td>0.0</td>\n",
       "      <td>1</td>\n",
       "    </tr>\n",
       "    <tr>\n",
       "      <th>3</th>\n",
       "      <td>2016-01-04</td>\n",
       "      <td>Monday</td>\n",
       "      <td>0</td>\n",
       "      <td>0.0</td>\n",
       "      <td>0</td>\n",
       "    </tr>\n",
       "  </tbody>\n",
       "</table>\n",
       "</div>"
      ],
      "text/plain": [
       "  calendar_date day_of_week  holiday_flg  holiday_eve  non_working_day\n",
       "0    2016-01-01      Friday            1          1.0                1\n",
       "1    2016-01-02    Saturday            1          1.0                1\n",
       "2    2016-01-03      Sunday            1          0.0                1\n",
       "3    2016-01-04      Monday            0          0.0                0"
      ]
     },
     "execution_count": 110,
     "metadata": {
      "tags": []
     },
     "output_type": "execute_result"
    }
   ],
   "source": [
    "# non_working_day feature indicates whether it is a working or non-working day. Includes holidays along with weekends\n",
    "date_info_mod['non_working_day'] = np.where(date_info_mod['day_of_week'].isin(['Saturday', 'Sunday']) |date_info_mod['holiday_flg'] == 1, 1, 0)\n",
    "date_info_mod.head(4)"
   ]
  },
  {
   "cell_type": "code",
   "execution_count": 111,
   "metadata": {
    "id": "gmIyk7xg-2Zj"
   },
   "outputs": [],
   "source": [
    "# drop redundant feature holiday_flag\n",
    "date_info_mod = date_info_mod.drop('holiday_flg', axis = 1)"
   ]
  },
  {
   "cell_type": "code",
   "execution_count": 112,
   "metadata": {
    "colab": {
     "base_uri": "https://localhost:8080/",
     "height": 0
    },
    "id": "kQO4b5kz-2hc",
    "outputId": "54bbd02a-31c1-4915-f138-4f84f173f625"
   },
   "outputs": [
    {
     "data": {
      "text/html": [
       "<div>\n",
       "<style scoped>\n",
       "    .dataframe tbody tr th:only-of-type {\n",
       "        vertical-align: middle;\n",
       "    }\n",
       "\n",
       "    .dataframe tbody tr th {\n",
       "        vertical-align: top;\n",
       "    }\n",
       "\n",
       "    .dataframe thead th {\n",
       "        text-align: right;\n",
       "    }\n",
       "</style>\n",
       "<table border=\"1\" class=\"dataframe\">\n",
       "  <thead>\n",
       "    <tr style=\"text-align: right;\">\n",
       "      <th></th>\n",
       "      <th>air_store_id</th>\n",
       "      <th>visit_date</th>\n",
       "      <th>visitors</th>\n",
       "      <th>day_of_week</th>\n",
       "      <th>holiday_eve</th>\n",
       "      <th>non_working_day</th>\n",
       "    </tr>\n",
       "  </thead>\n",
       "  <tbody>\n",
       "    <tr>\n",
       "      <th>0</th>\n",
       "      <td>air_ba937bf13d40fb24</td>\n",
       "      <td>2016-01-13</td>\n",
       "      <td>25</td>\n",
       "      <td>Wednesday</td>\n",
       "      <td>0.0</td>\n",
       "      <td>0</td>\n",
       "    </tr>\n",
       "    <tr>\n",
       "      <th>1</th>\n",
       "      <td>air_ba937bf13d40fb24</td>\n",
       "      <td>2016-01-14</td>\n",
       "      <td>32</td>\n",
       "      <td>Thursday</td>\n",
       "      <td>0.0</td>\n",
       "      <td>0</td>\n",
       "    </tr>\n",
       "    <tr>\n",
       "      <th>2</th>\n",
       "      <td>air_ba937bf13d40fb24</td>\n",
       "      <td>2016-01-15</td>\n",
       "      <td>29</td>\n",
       "      <td>Friday</td>\n",
       "      <td>0.0</td>\n",
       "      <td>0</td>\n",
       "    </tr>\n",
       "    <tr>\n",
       "      <th>3</th>\n",
       "      <td>air_ba937bf13d40fb24</td>\n",
       "      <td>2016-01-16</td>\n",
       "      <td>22</td>\n",
       "      <td>Saturday</td>\n",
       "      <td>0.0</td>\n",
       "      <td>1</td>\n",
       "    </tr>\n",
       "    <tr>\n",
       "      <th>4</th>\n",
       "      <td>air_ba937bf13d40fb24</td>\n",
       "      <td>2016-01-18</td>\n",
       "      <td>6</td>\n",
       "      <td>Monday</td>\n",
       "      <td>0.0</td>\n",
       "      <td>0</td>\n",
       "    </tr>\n",
       "  </tbody>\n",
       "</table>\n",
       "</div>"
      ],
      "text/plain": [
       "           air_store_id  visit_date  ...  holiday_eve non_working_day\n",
       "0  air_ba937bf13d40fb24  2016-01-13  ...          0.0               0\n",
       "1  air_ba937bf13d40fb24  2016-01-14  ...          0.0               0\n",
       "2  air_ba937bf13d40fb24  2016-01-15  ...          0.0               0\n",
       "3  air_ba937bf13d40fb24  2016-01-16  ...          0.0               1\n",
       "4  air_ba937bf13d40fb24  2016-01-18  ...          0.0               0\n",
       "\n",
       "[5 rows x 6 columns]"
      ]
     },
     "execution_count": 112,
     "metadata": {
      "tags": []
     },
     "output_type": "execute_result"
    }
   ],
   "source": [
    "# joining air_visit_data with the date_info we created above\n",
    "air_visit_wd = air_visit_data.join(date_info_mod.set_index('calendar_date'), on = 'visit_date')\n",
    "air_visit_wd.head()"
   ]
  },
  {
   "cell_type": "code",
   "execution_count": 113,
   "metadata": {
    "id": "2SM3GM2Z-_Zp"
   },
   "outputs": [],
   "source": [
    "# average visitors per restaurant by working and non-working days\n",
    "# average visitors per restaurant\n",
    "mean_of_visitors = air_visit_wd[['visitors','air_store_id','non_working_day']].copy().groupby(['air_store_id','non_working_day'],as_index = False).mean()\n",
    "mean_of_visitors = mean_of_visitors.rename(columns = {'visitors': 'nwd_mean_visitors'})\n",
    "\n",
    "\n",
    "# median visitors per restaurant\n",
    "median_of_visitors = air_visit_wd[['visitors','air_store_id','non_working_day']].copy().groupby(['air_store_id','non_working_day'],as_index = False).median()\n",
    "median_of_visitors = median_of_visitors.rename(columns = {'visitors': 'nwd_median_visitors'})\n",
    "\n",
    "\n",
    "# max visitors per restaurant\n",
    "max_visitors = air_visit_wd[['visitors','air_store_id','non_working_day']].copy().groupby(['air_store_id','non_working_day'],as_index = False).max()\n",
    "max_visitors = max_visitors.rename(columns = {'visitors': 'nwd_max_visitors'})\n"
   ]
  },
  {
   "cell_type": "code",
   "execution_count": 114,
   "metadata": {
    "id": "NiBisnF7-_cD"
   },
   "outputs": [],
   "source": [
    "# merge dataframe with the calculated data -> mean median and max visitors as per restaurant\n",
    "def merge_calc_wd_data(data, calc_data):\n",
    "    data = pd.merge(data, calc_data, how = 'left',left_on = ['air_store_id', 'non_working_day'],right_on = ['air_store_id', 'non_working_day'])\n",
    "    return data"
   ]
  },
  {
   "cell_type": "markdown",
   "metadata": {
    "id": "SuLbwJu3r6gG"
   },
   "source": [
    "###### *Latitude and Longitude*"
   ]
  },
  {
   "cell_type": "code",
   "execution_count": 115,
   "metadata": {
    "id": "qMFTn4UUzCFI"
   },
   "outputs": [],
   "source": [
    "# calculate the sum of latitude and longitude which is then normalized\n",
    "# calculate the difference between max latitude( or longitude )\n",
    "def longitude_latitude_calc(data):\n",
    "        \n",
    "    data['longitude_latitude_sum'] = data['latitude'] + data['longitude']\n",
    "    data['longitude_latitude_sum'] = data['longitude_latitude_sum'].apply(lambda x: np.log1p(x)) \n",
    "    \n",
    "    data['diff_max_latitude'] = data['latitude'].max() - data['latitude']\n",
    "    data['diff_max_longitude'] = data['longitude'].max() - data['longitude']\n",
    "    \n",
    "    return data"
   ]
  },
  {
   "cell_type": "markdown",
   "metadata": {
    "id": "_37mmH_PvFoB"
   },
   "source": [
    "###### *Date Information*"
   ]
  },
  {
   "cell_type": "code",
   "execution_count": 116,
   "metadata": {
    "id": "SiKfmGaSPnbv"
   },
   "outputs": [],
   "source": [
    "# convert air store id + visit date into two separate columns\n",
    "# divide date into separate features: date, month, day of week, week of year\n",
    "def get_id_and_visit_date_details(X):    \n",
    "    \n",
    "    X['id'] = X['air_store_id'] + str('_') + X['visit_date']\n",
    "    \n",
    "    X['visit_date'] = pd.to_datetime(X['visit_date'],format= '%Y-%m-%d')\n",
    "    X['visit_date_month'] =X.visit_date.dt.month\n",
    "    X['visit_date_dayofw'] =X.visit_date.dt.dayofweek\n",
    "    X['visit_date_year'] =X.visit_date.dt.year\n",
    "    X['visit_date_dayofm'] =X.visit_date.dt.day\n",
    "    X['weekofyear'] =X.visit_date.dt.weekofyear\n",
    "    X.loc[X.weekofyear==53,'weekofyear'] =0 \n",
    "    return X"
   ]
  },
  {
   "cell_type": "markdown",
   "metadata": {
    "id": "XXSOt1DVw3tB"
   },
   "source": [
    "###### *Merging features created till now*"
   ]
  },
  {
   "cell_type": "code",
   "execution_count": 117,
   "metadata": {
    "id": "sWhnvuxv-_fI"
   },
   "outputs": [],
   "source": [
    "# Merge all the feature engineered data\n",
    "def merge_fe_data(data):\n",
    "    # add month of visit\n",
    "    data['month'] = data['visit_date'].apply(lambda x: float(str(x)[5:7]))\n",
    "\n",
    "    # add weekday and holiday flag\n",
    "    data = data.join(date_info_mod.set_index('calendar_date'), on = 'visit_date')\n",
    "    # add genre and area name)\n",
    "    data = data.join(air_store_info.set_index('air_store_id'), on = 'air_store_id')\n",
    "    # add quantity of same genre in area\n",
    "    data = merge_genres_area(data);\n",
    "     # add total quatity of restaurants in area\n",
    "    data = merge_total_rt_in_area(data);\n",
    "   \n",
    "    # add reservation information\n",
    "    data = pd.merge(data, reserve, how = 'left', left_on = ['air_store_id', 'visit_date'],right_on = ['air_store_id', 'visit_date'])\n",
    "    \n",
    "    # add visitors number mean, median, max for each restaurant based on non-working day\n",
    "    data = merge_calc_wd_data(data, mean_of_visitors)\n",
    "    data = merge_calc_wd_data(data, median_of_visitors)\n",
    "    data = merge_calc_wd_data(data, max_visitors)\n",
    "\n",
    "    # add latitude and longitude sum and difference\n",
    "    data = longitude_latitude_calc(data)\n",
    "   \n",
    "    # change NaN to 0\n",
    "    data = data.fillna(0) \n",
    "    return data"
   ]
  },
  {
   "cell_type": "code",
   "execution_count": 118,
   "metadata": {
    "colab": {
     "base_uri": "https://localhost:8080/",
     "height": 0
    },
    "id": "VYdKUZPv-_mQ",
    "outputId": "af1e8726-055b-4cee-deb2-5ec1c8aa9891"
   },
   "outputs": [
    {
     "name": "stderr",
     "output_type": "stream",
     "text": [
      "/usr/local/lib/python3.6/dist-packages/ipykernel_launcher.py:12: FutureWarning: Series.dt.weekofyear and Series.dt.week have been deprecated.  Please use Series.dt.isocalendar().week instead.\n",
      "  if sys.path[0] == '':\n"
     ]
    },
    {
     "data": {
      "text/html": [
       "<div>\n",
       "<style scoped>\n",
       "    .dataframe tbody tr th:only-of-type {\n",
       "        vertical-align: middle;\n",
       "    }\n",
       "\n",
       "    .dataframe tbody tr th {\n",
       "        vertical-align: top;\n",
       "    }\n",
       "\n",
       "    .dataframe thead th {\n",
       "        text-align: right;\n",
       "    }\n",
       "</style>\n",
       "<table border=\"1\" class=\"dataframe\">\n",
       "  <thead>\n",
       "    <tr style=\"text-align: right;\">\n",
       "      <th></th>\n",
       "      <th>air_store_id</th>\n",
       "      <th>visit_date</th>\n",
       "      <th>visitors</th>\n",
       "      <th>month</th>\n",
       "      <th>day_of_week</th>\n",
       "      <th>holiday_eve</th>\n",
       "      <th>non_working_day</th>\n",
       "      <th>air_genre_name</th>\n",
       "      <th>air_area_name</th>\n",
       "      <th>latitude</th>\n",
       "      <th>longitude</th>\n",
       "      <th>genre_in_area</th>\n",
       "      <th>total_rt_in_area</th>\n",
       "      <th>reserve_visitors</th>\n",
       "      <th>reserve_-12_h</th>\n",
       "      <th>reserve_12_37_h</th>\n",
       "      <th>reserve_37_59_h</th>\n",
       "      <th>reserve_59_85_h</th>\n",
       "      <th>reserve_85+_h</th>\n",
       "      <th>nwd_mean_visitors</th>\n",
       "      <th>nwd_median_visitors</th>\n",
       "      <th>nwd_max_visitors</th>\n",
       "      <th>longitude_latitude_sum</th>\n",
       "      <th>diff_max_latitude</th>\n",
       "      <th>diff_max_longitude</th>\n",
       "      <th>id</th>\n",
       "      <th>visit_date_month</th>\n",
       "      <th>visit_date_dayofw</th>\n",
       "      <th>visit_date_year</th>\n",
       "      <th>visit_date_dayofm</th>\n",
       "      <th>weekofyear</th>\n",
       "    </tr>\n",
       "  </thead>\n",
       "  <tbody>\n",
       "    <tr>\n",
       "      <th>0</th>\n",
       "      <td>air_ba937bf13d40fb24</td>\n",
       "      <td>2016-01-13</td>\n",
       "      <td>25</td>\n",
       "      <td>1.0</td>\n",
       "      <td>Wednesday</td>\n",
       "      <td>0.0</td>\n",
       "      <td>0</td>\n",
       "      <td>Dining bar</td>\n",
       "      <td>Tōkyō-to Minato-ku Shibakōen</td>\n",
       "      <td>35.658068</td>\n",
       "      <td>139.751599</td>\n",
       "      <td>8</td>\n",
       "      <td>51</td>\n",
       "      <td>0.0</td>\n",
       "      <td>0.0</td>\n",
       "      <td>0.0</td>\n",
       "      <td>0.0</td>\n",
       "      <td>0.0</td>\n",
       "      <td>0.0</td>\n",
       "      <td>22.663399</td>\n",
       "      <td>21.5</td>\n",
       "      <td>61</td>\n",
       "      <td>5.172809</td>\n",
       "      <td>8.362564</td>\n",
       "      <td>4.521799</td>\n",
       "      <td>air_ba937bf13d40fb24_2016-01-13</td>\n",
       "      <td>1</td>\n",
       "      <td>2</td>\n",
       "      <td>2016</td>\n",
       "      <td>13</td>\n",
       "      <td>2</td>\n",
       "    </tr>\n",
       "    <tr>\n",
       "      <th>1</th>\n",
       "      <td>air_ba937bf13d40fb24</td>\n",
       "      <td>2016-01-14</td>\n",
       "      <td>32</td>\n",
       "      <td>1.0</td>\n",
       "      <td>Thursday</td>\n",
       "      <td>0.0</td>\n",
       "      <td>0</td>\n",
       "      <td>Dining bar</td>\n",
       "      <td>Tōkyō-to Minato-ku Shibakōen</td>\n",
       "      <td>35.658068</td>\n",
       "      <td>139.751599</td>\n",
       "      <td>8</td>\n",
       "      <td>51</td>\n",
       "      <td>0.0</td>\n",
       "      <td>0.0</td>\n",
       "      <td>0.0</td>\n",
       "      <td>0.0</td>\n",
       "      <td>0.0</td>\n",
       "      <td>0.0</td>\n",
       "      <td>22.663399</td>\n",
       "      <td>21.5</td>\n",
       "      <td>61</td>\n",
       "      <td>5.172809</td>\n",
       "      <td>8.362564</td>\n",
       "      <td>4.521799</td>\n",
       "      <td>air_ba937bf13d40fb24_2016-01-14</td>\n",
       "      <td>1</td>\n",
       "      <td>3</td>\n",
       "      <td>2016</td>\n",
       "      <td>14</td>\n",
       "      <td>2</td>\n",
       "    </tr>\n",
       "    <tr>\n",
       "      <th>2</th>\n",
       "      <td>air_ba937bf13d40fb24</td>\n",
       "      <td>2016-01-15</td>\n",
       "      <td>29</td>\n",
       "      <td>1.0</td>\n",
       "      <td>Friday</td>\n",
       "      <td>0.0</td>\n",
       "      <td>0</td>\n",
       "      <td>Dining bar</td>\n",
       "      <td>Tōkyō-to Minato-ku Shibakōen</td>\n",
       "      <td>35.658068</td>\n",
       "      <td>139.751599</td>\n",
       "      <td>8</td>\n",
       "      <td>51</td>\n",
       "      <td>0.0</td>\n",
       "      <td>0.0</td>\n",
       "      <td>0.0</td>\n",
       "      <td>0.0</td>\n",
       "      <td>0.0</td>\n",
       "      <td>0.0</td>\n",
       "      <td>22.663399</td>\n",
       "      <td>21.5</td>\n",
       "      <td>61</td>\n",
       "      <td>5.172809</td>\n",
       "      <td>8.362564</td>\n",
       "      <td>4.521799</td>\n",
       "      <td>air_ba937bf13d40fb24_2016-01-15</td>\n",
       "      <td>1</td>\n",
       "      <td>4</td>\n",
       "      <td>2016</td>\n",
       "      <td>15</td>\n",
       "      <td>2</td>\n",
       "    </tr>\n",
       "    <tr>\n",
       "      <th>3</th>\n",
       "      <td>air_ba937bf13d40fb24</td>\n",
       "      <td>2016-01-16</td>\n",
       "      <td>22</td>\n",
       "      <td>1.0</td>\n",
       "      <td>Saturday</td>\n",
       "      <td>0.0</td>\n",
       "      <td>1</td>\n",
       "      <td>Dining bar</td>\n",
       "      <td>Tōkyō-to Minato-ku Shibakōen</td>\n",
       "      <td>35.658068</td>\n",
       "      <td>139.751599</td>\n",
       "      <td>8</td>\n",
       "      <td>51</td>\n",
       "      <td>0.0</td>\n",
       "      <td>0.0</td>\n",
       "      <td>0.0</td>\n",
       "      <td>0.0</td>\n",
       "      <td>0.0</td>\n",
       "      <td>0.0</td>\n",
       "      <td>23.211765</td>\n",
       "      <td>23.0</td>\n",
       "      <td>54</td>\n",
       "      <td>5.172809</td>\n",
       "      <td>8.362564</td>\n",
       "      <td>4.521799</td>\n",
       "      <td>air_ba937bf13d40fb24_2016-01-16</td>\n",
       "      <td>1</td>\n",
       "      <td>5</td>\n",
       "      <td>2016</td>\n",
       "      <td>16</td>\n",
       "      <td>2</td>\n",
       "    </tr>\n",
       "    <tr>\n",
       "      <th>4</th>\n",
       "      <td>air_ba937bf13d40fb24</td>\n",
       "      <td>2016-01-18</td>\n",
       "      <td>6</td>\n",
       "      <td>1.0</td>\n",
       "      <td>Monday</td>\n",
       "      <td>0.0</td>\n",
       "      <td>0</td>\n",
       "      <td>Dining bar</td>\n",
       "      <td>Tōkyō-to Minato-ku Shibakōen</td>\n",
       "      <td>35.658068</td>\n",
       "      <td>139.751599</td>\n",
       "      <td>8</td>\n",
       "      <td>51</td>\n",
       "      <td>0.0</td>\n",
       "      <td>0.0</td>\n",
       "      <td>0.0</td>\n",
       "      <td>0.0</td>\n",
       "      <td>0.0</td>\n",
       "      <td>0.0</td>\n",
       "      <td>22.663399</td>\n",
       "      <td>21.5</td>\n",
       "      <td>61</td>\n",
       "      <td>5.172809</td>\n",
       "      <td>8.362564</td>\n",
       "      <td>4.521799</td>\n",
       "      <td>air_ba937bf13d40fb24_2016-01-18</td>\n",
       "      <td>1</td>\n",
       "      <td>0</td>\n",
       "      <td>2016</td>\n",
       "      <td>18</td>\n",
       "      <td>3</td>\n",
       "    </tr>\n",
       "  </tbody>\n",
       "</table>\n",
       "</div>"
      ],
      "text/plain": [
       "           air_store_id visit_date  ...  visit_date_dayofm  weekofyear\n",
       "0  air_ba937bf13d40fb24 2016-01-13  ...                 13           2\n",
       "1  air_ba937bf13d40fb24 2016-01-14  ...                 14           2\n",
       "2  air_ba937bf13d40fb24 2016-01-15  ...                 15           2\n",
       "3  air_ba937bf13d40fb24 2016-01-16  ...                 16           2\n",
       "4  air_ba937bf13d40fb24 2016-01-18  ...                 18           3\n",
       "\n",
       "[5 rows x 31 columns]"
      ]
     },
     "execution_count": 118,
     "metadata": {
      "tags": []
     },
     "output_type": "execute_result"
    }
   ],
   "source": [
    "# combine train/test data with additional information\n",
    "air_train = air_visit_data.copy()\n",
    "X = merge_fe_data(air_train)\n",
    "X = get_id_and_visit_date_details(X)\n",
    "X.head()"
   ]
  },
  {
   "cell_type": "code",
   "execution_count": 119,
   "metadata": {
    "colab": {
     "base_uri": "https://localhost:8080/",
     "height": 0
    },
    "id": "WMWU_AZU_u2J",
    "outputId": "85a8243b-90ee-470f-a19b-4a001f17ce00"
   },
   "outputs": [
    {
     "name": "stderr",
     "output_type": "stream",
     "text": [
      "/usr/local/lib/python3.6/dist-packages/ipykernel_launcher.py:12: FutureWarning: Series.dt.weekofyear and Series.dt.week have been deprecated.  Please use Series.dt.isocalendar().week instead.\n",
      "  if sys.path[0] == '':\n"
     ]
    },
    {
     "data": {
      "text/html": [
       "<div>\n",
       "<style scoped>\n",
       "    .dataframe tbody tr th:only-of-type {\n",
       "        vertical-align: middle;\n",
       "    }\n",
       "\n",
       "    .dataframe tbody tr th {\n",
       "        vertical-align: top;\n",
       "    }\n",
       "\n",
       "    .dataframe thead th {\n",
       "        text-align: right;\n",
       "    }\n",
       "</style>\n",
       "<table border=\"1\" class=\"dataframe\">\n",
       "  <thead>\n",
       "    <tr style=\"text-align: right;\">\n",
       "      <th></th>\n",
       "      <th>id</th>\n",
       "      <th>visitors</th>\n",
       "      <th>air_store_id</th>\n",
       "      <th>visit_date</th>\n",
       "      <th>month</th>\n",
       "      <th>day_of_week</th>\n",
       "      <th>holiday_eve</th>\n",
       "      <th>non_working_day</th>\n",
       "      <th>air_genre_name</th>\n",
       "      <th>air_area_name</th>\n",
       "      <th>latitude</th>\n",
       "      <th>longitude</th>\n",
       "      <th>genre_in_area</th>\n",
       "      <th>total_rt_in_area</th>\n",
       "      <th>reserve_visitors</th>\n",
       "      <th>reserve_-12_h</th>\n",
       "      <th>reserve_12_37_h</th>\n",
       "      <th>reserve_37_59_h</th>\n",
       "      <th>reserve_59_85_h</th>\n",
       "      <th>reserve_85+_h</th>\n",
       "      <th>nwd_mean_visitors</th>\n",
       "      <th>nwd_median_visitors</th>\n",
       "      <th>nwd_max_visitors</th>\n",
       "      <th>longitude_latitude_sum</th>\n",
       "      <th>diff_max_latitude</th>\n",
       "      <th>diff_max_longitude</th>\n",
       "      <th>visit_date_month</th>\n",
       "      <th>visit_date_dayofw</th>\n",
       "      <th>visit_date_year</th>\n",
       "      <th>visit_date_dayofm</th>\n",
       "      <th>weekofyear</th>\n",
       "    </tr>\n",
       "  </thead>\n",
       "  <tbody>\n",
       "    <tr>\n",
       "      <th>0</th>\n",
       "      <td>air_e3020992d5fe5dfd_2017-04-06</td>\n",
       "      <td>0</td>\n",
       "      <td>air_e3020992d5fe5dfd</td>\n",
       "      <td>2017-04-06</td>\n",
       "      <td>4.0</td>\n",
       "      <td>Thursday</td>\n",
       "      <td>0.0</td>\n",
       "      <td>0</td>\n",
       "      <td>Italian/French</td>\n",
       "      <td>Tōkyō-to Chūō-ku Tsukiji</td>\n",
       "      <td>35.670651</td>\n",
       "      <td>139.771861</td>\n",
       "      <td>10</td>\n",
       "      <td>29</td>\n",
       "      <td>0.0</td>\n",
       "      <td>0.0</td>\n",
       "      <td>0.0</td>\n",
       "      <td>0.0</td>\n",
       "      <td>0.0</td>\n",
       "      <td>0.0</td>\n",
       "      <td>12.354839</td>\n",
       "      <td>12.0</td>\n",
       "      <td>27</td>\n",
       "      <td>5.172995</td>\n",
       "      <td>8.349981</td>\n",
       "      <td>4.501537</td>\n",
       "      <td>4</td>\n",
       "      <td>3</td>\n",
       "      <td>2017</td>\n",
       "      <td>6</td>\n",
       "      <td>14</td>\n",
       "    </tr>\n",
       "    <tr>\n",
       "      <th>1</th>\n",
       "      <td>air_e3020992d5fe5dfd_2017-04-07</td>\n",
       "      <td>0</td>\n",
       "      <td>air_e3020992d5fe5dfd</td>\n",
       "      <td>2017-04-07</td>\n",
       "      <td>4.0</td>\n",
       "      <td>Friday</td>\n",
       "      <td>0.0</td>\n",
       "      <td>0</td>\n",
       "      <td>Italian/French</td>\n",
       "      <td>Tōkyō-to Chūō-ku Tsukiji</td>\n",
       "      <td>35.670651</td>\n",
       "      <td>139.771861</td>\n",
       "      <td>10</td>\n",
       "      <td>29</td>\n",
       "      <td>0.0</td>\n",
       "      <td>0.0</td>\n",
       "      <td>0.0</td>\n",
       "      <td>0.0</td>\n",
       "      <td>0.0</td>\n",
       "      <td>0.0</td>\n",
       "      <td>12.354839</td>\n",
       "      <td>12.0</td>\n",
       "      <td>27</td>\n",
       "      <td>5.172995</td>\n",
       "      <td>8.349981</td>\n",
       "      <td>4.501537</td>\n",
       "      <td>4</td>\n",
       "      <td>4</td>\n",
       "      <td>2017</td>\n",
       "      <td>7</td>\n",
       "      <td>14</td>\n",
       "    </tr>\n",
       "    <tr>\n",
       "      <th>2</th>\n",
       "      <td>air_e3020992d5fe5dfd_2017-04-08</td>\n",
       "      <td>0</td>\n",
       "      <td>air_e3020992d5fe5dfd</td>\n",
       "      <td>2017-04-08</td>\n",
       "      <td>4.0</td>\n",
       "      <td>Saturday</td>\n",
       "      <td>0.0</td>\n",
       "      <td>1</td>\n",
       "      <td>Italian/French</td>\n",
       "      <td>Tōkyō-to Chūō-ku Tsukiji</td>\n",
       "      <td>35.670651</td>\n",
       "      <td>139.771861</td>\n",
       "      <td>10</td>\n",
       "      <td>29</td>\n",
       "      <td>0.0</td>\n",
       "      <td>0.0</td>\n",
       "      <td>0.0</td>\n",
       "      <td>0.0</td>\n",
       "      <td>0.0</td>\n",
       "      <td>0.0</td>\n",
       "      <td>12.849057</td>\n",
       "      <td>14.0</td>\n",
       "      <td>30</td>\n",
       "      <td>5.172995</td>\n",
       "      <td>8.349981</td>\n",
       "      <td>4.501537</td>\n",
       "      <td>4</td>\n",
       "      <td>5</td>\n",
       "      <td>2017</td>\n",
       "      <td>8</td>\n",
       "      <td>14</td>\n",
       "    </tr>\n",
       "    <tr>\n",
       "      <th>3</th>\n",
       "      <td>air_e3020992d5fe5dfd_2017-04-10</td>\n",
       "      <td>0</td>\n",
       "      <td>air_e3020992d5fe5dfd</td>\n",
       "      <td>2017-04-10</td>\n",
       "      <td>4.0</td>\n",
       "      <td>Monday</td>\n",
       "      <td>0.0</td>\n",
       "      <td>0</td>\n",
       "      <td>Italian/French</td>\n",
       "      <td>Tōkyō-to Chūō-ku Tsukiji</td>\n",
       "      <td>35.670651</td>\n",
       "      <td>139.771861</td>\n",
       "      <td>10</td>\n",
       "      <td>29</td>\n",
       "      <td>0.0</td>\n",
       "      <td>0.0</td>\n",
       "      <td>0.0</td>\n",
       "      <td>0.0</td>\n",
       "      <td>0.0</td>\n",
       "      <td>0.0</td>\n",
       "      <td>12.354839</td>\n",
       "      <td>12.0</td>\n",
       "      <td>27</td>\n",
       "      <td>5.172995</td>\n",
       "      <td>8.349981</td>\n",
       "      <td>4.501537</td>\n",
       "      <td>4</td>\n",
       "      <td>0</td>\n",
       "      <td>2017</td>\n",
       "      <td>10</td>\n",
       "      <td>15</td>\n",
       "    </tr>\n",
       "    <tr>\n",
       "      <th>4</th>\n",
       "      <td>air_e3020992d5fe5dfd_2017-04-11</td>\n",
       "      <td>0</td>\n",
       "      <td>air_e3020992d5fe5dfd</td>\n",
       "      <td>2017-04-11</td>\n",
       "      <td>4.0</td>\n",
       "      <td>Tuesday</td>\n",
       "      <td>0.0</td>\n",
       "      <td>0</td>\n",
       "      <td>Italian/French</td>\n",
       "      <td>Tōkyō-to Chūō-ku Tsukiji</td>\n",
       "      <td>35.670651</td>\n",
       "      <td>139.771861</td>\n",
       "      <td>10</td>\n",
       "      <td>29</td>\n",
       "      <td>0.0</td>\n",
       "      <td>0.0</td>\n",
       "      <td>0.0</td>\n",
       "      <td>0.0</td>\n",
       "      <td>0.0</td>\n",
       "      <td>0.0</td>\n",
       "      <td>12.354839</td>\n",
       "      <td>12.0</td>\n",
       "      <td>27</td>\n",
       "      <td>5.172995</td>\n",
       "      <td>8.349981</td>\n",
       "      <td>4.501537</td>\n",
       "      <td>4</td>\n",
       "      <td>1</td>\n",
       "      <td>2017</td>\n",
       "      <td>11</td>\n",
       "      <td>15</td>\n",
       "    </tr>\n",
       "  </tbody>\n",
       "</table>\n",
       "</div>"
      ],
      "text/plain": [
       "                                id  visitors  ... visit_date_dayofm weekofyear\n",
       "0  air_e3020992d5fe5dfd_2017-04-06         0  ...                 6         14\n",
       "1  air_e3020992d5fe5dfd_2017-04-07         0  ...                 7         14\n",
       "2  air_e3020992d5fe5dfd_2017-04-08         0  ...                 8         14\n",
       "3  air_e3020992d5fe5dfd_2017-04-10         0  ...                10         15\n",
       "4  air_e3020992d5fe5dfd_2017-04-11         0  ...                11         15\n",
       "\n",
       "[5 rows x 31 columns]"
      ]
     },
     "execution_count": 119,
     "metadata": {
      "tags": []
     },
     "output_type": "execute_result"
    }
   ],
   "source": [
    "# Merge the test data as well\n",
    "air_test = sample_sub.copy()\n",
    "air_test['air_store_id'] = air_test['id'].apply(lambda x: str(x)[:-11])\n",
    "air_test['visit_date'] = air_test['id'].apply(lambda x: str(x)[-10:])\n",
    "X_test = merge_fe_data(air_test)\n",
    "X_test=get_id_and_visit_date_details(X_test)\n",
    "X_test.head(5)"
   ]
  },
  {
   "cell_type": "markdown",
   "metadata": {
    "id": "2V7oDJgnQJvk"
   },
   "source": [
    "###### *Mean Median and Max Visitors based on different features*"
   ]
  },
  {
   "cell_type": "code",
   "execution_count": 120,
   "metadata": {
    "id": "Dh2RAnUiQXeD"
   },
   "outputs": [],
   "source": [
    "# create copy of train and test set created till now\n",
    "k = [i for i in X.columns if i in X_test.columns]\n",
    "train = X.copy()\n",
    "test = X_test.copy()"
   ]
  },
  {
   "cell_type": "code",
   "execution_count": 121,
   "metadata": {
    "id": "T9A_YwY9nOau"
   },
   "outputs": [],
   "source": [
    "# normalize the columns that have large values\n",
    "def normalize_data(data, col_name) :\n",
    "  data[col_name] = data[col_name].apply(lambda x: np.log1p(x))\n",
    "  return data"
   ]
  },
  {
   "cell_type": "code",
   "execution_count": 122,
   "metadata": {
    "id": "5zzPqnWaQXpH"
   },
   "outputs": [],
   "source": [
    "# Find the mean, median and max visitors of stores based on day of week, month\n",
    "\n",
    "k1 = train[['visitors','air_store_id','visit_date_dayofw']].groupby(['air_store_id','visit_date_dayofw']).agg('mean').reset_index()\n",
    "k1.columns = ['air_store_id','visit_date_dayofw','store_dayofw_mean_visitors']\n",
    "\n",
    "k2 = train[['visitors','air_store_id','visit_date_dayofw']].groupby(['air_store_id','visit_date_dayofw']).agg('median').reset_index()\n",
    "k2.columns = ['air_store_id','visit_date_dayofw','store_dayofw_median_visitors']\n",
    "\n",
    "k3 = train[['visitors','air_store_id','visit_date_dayofw']].groupby(['air_store_id','visit_date_dayofw']).agg('max').reset_index()\n",
    "k3.columns = ['air_store_id','visit_date_dayofw','store_dayofw_max_visitors']\n",
    "\n",
    "k4 = train[['visitors','visit_date_month']].groupby(['visit_date_month']).agg('mean').reset_index()\n",
    "k4.columns = ['visit_date_month','month_mean_visitors']\n",
    "\n",
    "k5 = train[['visitors','visit_date_month']].groupby(['visit_date_month']).agg('median').reset_index()\n",
    "k5.columns = ['visit_date_month','month_median_visitors']\n",
    "\n",
    "# normalize max visitors\n",
    "k6 = train[['visitors','visit_date_month']].groupby(['visit_date_month']).agg('max').reset_index()\n",
    "k6.columns = ['visit_date_month','month_max_visitors']\n",
    "k6 = normalize_data(k6, 'month_max_visitors')\n",
    "\n",
    "k7 = train[['visitors','air_store_id']].groupby('air_store_id').agg('mean').reset_index()\n",
    "k7.columns = ['air_store_id','store_mean_visitors']\n",
    "\n",
    "k8 = train[['visitors','air_store_id']].groupby('air_store_id').agg('median').reset_index()\n",
    "k8.columns = ['air_store_id','store_median_visitors']\n",
    "\n",
    "k9 = train[['visitors','air_store_id']].groupby('air_store_id').agg('max').reset_index()\n",
    "k9.columns = ['air_store_id','store_max_visitors']\n",
    "\n",
    "k10 = train[['visitors','visit_date_dayofw']].groupby(['visit_date_dayofw']).agg('mean').reset_index()\n",
    "k10.columns = ['visit_date_dayofw','dayofw_mean_visitors']\n",
    "\n",
    "k11 = train[['visitors','visit_date_dayofw']].groupby(['visit_date_dayofw']).agg('median').reset_index()\n",
    "k11.columns = ['visit_date_dayofw','dayofw_median_visitors']\n",
    "\n",
    "# normalize max visitors\n",
    "k12 = train[['visitors','visit_date_dayofw']].groupby(['visit_date_dayofw']).agg('max').reset_index()\n",
    "k12.columns = ['visit_date_dayofw','dayofw_max_visitors']\n",
    "k12 = normalize_data(k12, 'dayofw_max_visitors')\n",
    "\n",
    "k13 = train[['visitors','air_store_id','visit_date_month']].groupby(['air_store_id','visit_date_month']).agg('mean').reset_index()\n",
    "k13.columns = ['air_store_id','visit_date_month','store_month_mean_visitors']\n",
    "\n",
    "k14 = train[['visitors','air_store_id','visit_date_month']].groupby(['air_store_id','visit_date_month']).agg('median').reset_index()\n",
    "k14.columns = ['air_store_id','visit_date_month','store_month_median_visitors']\n",
    "\n",
    "k15 = train[['visitors','air_store_id','visit_date_month']].groupby(['air_store_id','visit_date_month']).agg('max').reset_index()\n",
    "k15.columns = ['air_store_id','visit_date_month','store_month_max_visitors']"
   ]
  },
  {
   "cell_type": "code",
   "execution_count": 123,
   "metadata": {
    "id": "2q5S4JNVQfDf"
   },
   "outputs": [],
   "source": [
    "# Merge all the newly created min max visitors with train and test set\n",
    "\n",
    "train = X.copy()\n",
    "test = X_test.copy()\n",
    "train = train[k]\n",
    "test = test[k]\n",
    "\n",
    "train = train.merge(k1,on=['air_store_id','visit_date_dayofw'],how='left')\n",
    "test = test.merge(k1,on= ['air_store_id','visit_date_dayofw'],how='left')\n",
    "\n",
    "train = train.merge(k2,on=['air_store_id','visit_date_dayofw'],how='left')\n",
    "test = test.merge(k2,on= ['air_store_id','visit_date_dayofw'],how='left')\n",
    "\n",
    "train = train.merge(k3,on=['air_store_id','visit_date_dayofw'],how='left')\n",
    "test = test.merge(k3,on= ['air_store_id','visit_date_dayofw'],how='left')\n",
    "\n",
    "train = train.merge(k4,on=['visit_date_month'],how='left')\n",
    "test = test.merge(k4,on= ['visit_date_month'],how='left')\n",
    "\n",
    "train = train.merge(k5,on=['visit_date_month'],how='left')\n",
    "test = test.merge(k5,on= ['visit_date_month'],how='left')\n",
    "\n",
    "train = train.merge(k6,on=['visit_date_month'],how='left')\n",
    "test = test.merge(k6,on= ['visit_date_month'],how='left')\n",
    "\n",
    "train = train.merge(k7,on=['air_store_id'],how='left')\n",
    "test = test.merge(k7,on= ['air_store_id'],how='left')\n",
    "\n",
    "train = train.merge(k8,on=['air_store_id'],how='left')\n",
    "test = test.merge(k8,on= ['air_store_id'],how='left')\n",
    "\n",
    "train = train.merge(k9,on=['air_store_id'],how='left')\n",
    "test = test.merge(k9,on= ['air_store_id'],how='left')\n",
    "\n",
    "train = train.merge(k10,on=['visit_date_dayofw'],how='left')\n",
    "test = test.merge(k10,on= ['visit_date_dayofw'],how='left')\n",
    "\n",
    "train = train.merge(k11,on=['visit_date_dayofw'],how='left')\n",
    "test = test.merge(k11,on= ['visit_date_dayofw'],how='left')\n",
    "\n",
    "train = train.merge(k12,on=['visit_date_dayofw'],how='left')\n",
    "test = test.merge(k12,on= ['visit_date_dayofw'],how='left')\n",
    "\n",
    "\n",
    "train = train.merge(k13,on=['air_store_id','visit_date_month'],how='left')\n",
    "test = test.merge(k13,on= ['air_store_id','visit_date_month'],how='left')\n",
    "\n",
    "train = train.merge(k14,on=['air_store_id','visit_date_month'],how='left')\n",
    "test = test.merge(k14,on= ['air_store_id','visit_date_month'],how='left')\n",
    "\n",
    "train = train.merge(k15,on=['air_store_id','visit_date_month'],how='left')\n",
    "test = test.merge(k15,on= ['air_store_id','visit_date_month'],how='left')\n",
    "\n",
    "train.replace(np.nan,-1,inplace=True)\n",
    "test.replace(np.nan,-1,inplace=True)"
   ]
  },
  {
   "cell_type": "markdown",
   "metadata": {
    "id": "ZHwtTfK6QNv5"
   },
   "source": [
    "###### *Area and Genre - One hot encoding*"
   ]
  },
  {
   "cell_type": "code",
   "execution_count": 124,
   "metadata": {
    "id": "TFHjH_WXPuu-"
   },
   "outputs": [],
   "source": [
    "# split the area name and create new columns\n",
    "# only first part of area will be used\n",
    "def split_area(df):\n",
    "  df[['area1','area2','area3','4','5']]=df.air_area_name.str.split(pat=' ',expand=True)\n",
    "  df.drop(columns=['area3','4','5'],axis=1,inplace=True)\n",
    "  return df"
   ]
  },
  {
   "cell_type": "code",
   "execution_count": 125,
   "metadata": {
    "id": "_U9tcPsMP5fZ"
   },
   "outputs": [],
   "source": [
    "train=split_area(train)\n",
    "test=split_area(test)"
   ]
  },
  {
   "cell_type": "code",
   "execution_count": 126,
   "metadata": {
    "id": "uccA0anchk-A"
   },
   "outputs": [],
   "source": [
    "# one hot encoding of the area and genre columns for train set\n",
    "dum=pd.get_dummies(train.area1)\n",
    "dum2=pd.get_dummies(train.air_genre_name)\n",
    "frames=[train,dum,dum2]\n",
    "train=pd.concat(frames,axis=1)\n",
    "\n",
    "# one hot encoding of the area and genre columns for train set\n",
    "dum=pd.get_dummies(test.area1)\n",
    "dum2=pd.get_dummies(test.air_genre_name)\n",
    "frames=[test,dum,dum2]\n",
    "test=pd.concat(frames,axis=1)"
   ]
  },
  {
   "cell_type": "code",
   "execution_count": 127,
   "metadata": {
    "colab": {
     "base_uri": "https://localhost:8080/",
     "height": 0
    },
    "id": "NgYUHVmGCaMV",
    "outputId": "f5a1327b-ef05-4e90-a263-99f7088aab99"
   },
   "outputs": [
    {
     "data": {
      "text/html": [
       "<div>\n",
       "<style scoped>\n",
       "    .dataframe tbody tr th:only-of-type {\n",
       "        vertical-align: middle;\n",
       "    }\n",
       "\n",
       "    .dataframe tbody tr th {\n",
       "        vertical-align: top;\n",
       "    }\n",
       "\n",
       "    .dataframe thead th {\n",
       "        text-align: right;\n",
       "    }\n",
       "</style>\n",
       "<table border=\"1\" class=\"dataframe\">\n",
       "  <thead>\n",
       "    <tr style=\"text-align: right;\">\n",
       "      <th></th>\n",
       "      <th>visitors</th>\n",
       "      <th>holiday_eve</th>\n",
       "      <th>non_working_day</th>\n",
       "      <th>air_genre_name</th>\n",
       "      <th>genre_in_area</th>\n",
       "      <th>total_rt_in_area</th>\n",
       "      <th>reserve_visitors</th>\n",
       "      <th>reserve_-12_h</th>\n",
       "      <th>reserve_12_37_h</th>\n",
       "      <th>reserve_37_59_h</th>\n",
       "      <th>reserve_59_85_h</th>\n",
       "      <th>reserve_85+_h</th>\n",
       "      <th>nwd_mean_visitors</th>\n",
       "      <th>nwd_median_visitors</th>\n",
       "      <th>nwd_max_visitors</th>\n",
       "      <th>longitude_latitude_sum</th>\n",
       "      <th>diff_max_latitude</th>\n",
       "      <th>diff_max_longitude</th>\n",
       "      <th>id</th>\n",
       "      <th>visit_date_month</th>\n",
       "      <th>visit_date_dayofw</th>\n",
       "      <th>visit_date_dayofm</th>\n",
       "      <th>weekofyear</th>\n",
       "      <th>store_dayofw_mean_visitors</th>\n",
       "      <th>store_dayofw_median_visitors</th>\n",
       "      <th>store_dayofw_max_visitors</th>\n",
       "      <th>month_mean_visitors</th>\n",
       "      <th>month_median_visitors</th>\n",
       "      <th>month_max_visitors</th>\n",
       "      <th>store_mean_visitors</th>\n",
       "      <th>store_median_visitors</th>\n",
       "      <th>store_max_visitors</th>\n",
       "      <th>dayofw_mean_visitors</th>\n",
       "      <th>dayofw_median_visitors</th>\n",
       "      <th>dayofw_max_visitors</th>\n",
       "      <th>store_month_mean_visitors</th>\n",
       "      <th>store_month_median_visitors</th>\n",
       "      <th>store_month_max_visitors</th>\n",
       "      <th>area1</th>\n",
       "      <th>area2</th>\n",
       "      <th>Fukuoka-ken</th>\n",
       "      <th>Hiroshima-ken</th>\n",
       "      <th>Hokkaidō</th>\n",
       "      <th>Hyōgo-ken</th>\n",
       "      <th>Miyagi-ken</th>\n",
       "      <th>Niigata-ken</th>\n",
       "      <th>Shizuoka-ken</th>\n",
       "      <th>Tōkyō-to</th>\n",
       "      <th>Ōsaka-fu</th>\n",
       "      <th>Asian</th>\n",
       "      <th>Bar/Cocktail</th>\n",
       "      <th>Cafe/Sweets</th>\n",
       "      <th>Creative cuisine</th>\n",
       "      <th>Dining bar</th>\n",
       "      <th>International cuisine</th>\n",
       "      <th>Italian/French</th>\n",
       "      <th>Izakaya</th>\n",
       "      <th>Japanese food</th>\n",
       "      <th>Karaoke/Party</th>\n",
       "      <th>Okonomiyaki/Monja/Teppanyaki</th>\n",
       "      <th>Other</th>\n",
       "      <th>Western food</th>\n",
       "      <th>Yakiniku/Korean food</th>\n",
       "    </tr>\n",
       "  </thead>\n",
       "  <tbody>\n",
       "    <tr>\n",
       "      <th>0</th>\n",
       "      <td>25</td>\n",
       "      <td>0.0</td>\n",
       "      <td>0</td>\n",
       "      <td>Dining bar</td>\n",
       "      <td>8</td>\n",
       "      <td>51</td>\n",
       "      <td>0.0</td>\n",
       "      <td>0.0</td>\n",
       "      <td>0.0</td>\n",
       "      <td>0.0</td>\n",
       "      <td>0.0</td>\n",
       "      <td>0.0</td>\n",
       "      <td>22.663399</td>\n",
       "      <td>21.5</td>\n",
       "      <td>61</td>\n",
       "      <td>5.172809</td>\n",
       "      <td>8.362564</td>\n",
       "      <td>4.521799</td>\n",
       "      <td>air_ba937bf13d40fb24_2016-01-13</td>\n",
       "      <td>1</td>\n",
       "      <td>2</td>\n",
       "      <td>13</td>\n",
       "      <td>2</td>\n",
       "      <td>23.843750</td>\n",
       "      <td>25.0</td>\n",
       "      <td>57</td>\n",
       "      <td>19.976758</td>\n",
       "      <td>16</td>\n",
       "      <td>6.244167</td>\n",
       "      <td>22.782609</td>\n",
       "      <td>22.0</td>\n",
       "      <td>61</td>\n",
       "      <td>19.230121</td>\n",
       "      <td>16</td>\n",
       "      <td>6.777647</td>\n",
       "      <td>18.35</td>\n",
       "      <td>21.0</td>\n",
       "      <td>38</td>\n",
       "      <td>Tōkyō-to</td>\n",
       "      <td>Minato-ku</td>\n",
       "      <td>0</td>\n",
       "      <td>0</td>\n",
       "      <td>0</td>\n",
       "      <td>0</td>\n",
       "      <td>0</td>\n",
       "      <td>0</td>\n",
       "      <td>0</td>\n",
       "      <td>1</td>\n",
       "      <td>0</td>\n",
       "      <td>0</td>\n",
       "      <td>0</td>\n",
       "      <td>0</td>\n",
       "      <td>0</td>\n",
       "      <td>1</td>\n",
       "      <td>0</td>\n",
       "      <td>0</td>\n",
       "      <td>0</td>\n",
       "      <td>0</td>\n",
       "      <td>0</td>\n",
       "      <td>0</td>\n",
       "      <td>0</td>\n",
       "      <td>0</td>\n",
       "      <td>0</td>\n",
       "    </tr>\n",
       "    <tr>\n",
       "      <th>1</th>\n",
       "      <td>32</td>\n",
       "      <td>0.0</td>\n",
       "      <td>0</td>\n",
       "      <td>Dining bar</td>\n",
       "      <td>8</td>\n",
       "      <td>51</td>\n",
       "      <td>0.0</td>\n",
       "      <td>0.0</td>\n",
       "      <td>0.0</td>\n",
       "      <td>0.0</td>\n",
       "      <td>0.0</td>\n",
       "      <td>0.0</td>\n",
       "      <td>22.663399</td>\n",
       "      <td>21.5</td>\n",
       "      <td>61</td>\n",
       "      <td>5.172809</td>\n",
       "      <td>8.362564</td>\n",
       "      <td>4.521799</td>\n",
       "      <td>air_ba937bf13d40fb24_2016-01-14</td>\n",
       "      <td>1</td>\n",
       "      <td>3</td>\n",
       "      <td>14</td>\n",
       "      <td>2</td>\n",
       "      <td>20.292308</td>\n",
       "      <td>21.0</td>\n",
       "      <td>54</td>\n",
       "      <td>19.976758</td>\n",
       "      <td>16</td>\n",
       "      <td>6.244167</td>\n",
       "      <td>22.782609</td>\n",
       "      <td>22.0</td>\n",
       "      <td>61</td>\n",
       "      <td>18.922702</td>\n",
       "      <td>16</td>\n",
       "      <td>5.913503</td>\n",
       "      <td>18.35</td>\n",
       "      <td>21.0</td>\n",
       "      <td>38</td>\n",
       "      <td>Tōkyō-to</td>\n",
       "      <td>Minato-ku</td>\n",
       "      <td>0</td>\n",
       "      <td>0</td>\n",
       "      <td>0</td>\n",
       "      <td>0</td>\n",
       "      <td>0</td>\n",
       "      <td>0</td>\n",
       "      <td>0</td>\n",
       "      <td>1</td>\n",
       "      <td>0</td>\n",
       "      <td>0</td>\n",
       "      <td>0</td>\n",
       "      <td>0</td>\n",
       "      <td>0</td>\n",
       "      <td>1</td>\n",
       "      <td>0</td>\n",
       "      <td>0</td>\n",
       "      <td>0</td>\n",
       "      <td>0</td>\n",
       "      <td>0</td>\n",
       "      <td>0</td>\n",
       "      <td>0</td>\n",
       "      <td>0</td>\n",
       "      <td>0</td>\n",
       "    </tr>\n",
       "    <tr>\n",
       "      <th>2</th>\n",
       "      <td>29</td>\n",
       "      <td>0.0</td>\n",
       "      <td>0</td>\n",
       "      <td>Dining bar</td>\n",
       "      <td>8</td>\n",
       "      <td>51</td>\n",
       "      <td>0.0</td>\n",
       "      <td>0.0</td>\n",
       "      <td>0.0</td>\n",
       "      <td>0.0</td>\n",
       "      <td>0.0</td>\n",
       "      <td>0.0</td>\n",
       "      <td>22.663399</td>\n",
       "      <td>21.5</td>\n",
       "      <td>61</td>\n",
       "      <td>5.172809</td>\n",
       "      <td>8.362564</td>\n",
       "      <td>4.521799</td>\n",
       "      <td>air_ba937bf13d40fb24_2016-01-15</td>\n",
       "      <td>1</td>\n",
       "      <td>4</td>\n",
       "      <td>15</td>\n",
       "      <td>2</td>\n",
       "      <td>34.738462</td>\n",
       "      <td>35.0</td>\n",
       "      <td>61</td>\n",
       "      <td>19.976758</td>\n",
       "      <td>16</td>\n",
       "      <td>6.244167</td>\n",
       "      <td>22.782609</td>\n",
       "      <td>22.0</td>\n",
       "      <td>61</td>\n",
       "      <td>23.072737</td>\n",
       "      <td>19</td>\n",
       "      <td>5.786897</td>\n",
       "      <td>18.35</td>\n",
       "      <td>21.0</td>\n",
       "      <td>38</td>\n",
       "      <td>Tōkyō-to</td>\n",
       "      <td>Minato-ku</td>\n",
       "      <td>0</td>\n",
       "      <td>0</td>\n",
       "      <td>0</td>\n",
       "      <td>0</td>\n",
       "      <td>0</td>\n",
       "      <td>0</td>\n",
       "      <td>0</td>\n",
       "      <td>1</td>\n",
       "      <td>0</td>\n",
       "      <td>0</td>\n",
       "      <td>0</td>\n",
       "      <td>0</td>\n",
       "      <td>0</td>\n",
       "      <td>1</td>\n",
       "      <td>0</td>\n",
       "      <td>0</td>\n",
       "      <td>0</td>\n",
       "      <td>0</td>\n",
       "      <td>0</td>\n",
       "      <td>0</td>\n",
       "      <td>0</td>\n",
       "      <td>0</td>\n",
       "      <td>0</td>\n",
       "    </tr>\n",
       "    <tr>\n",
       "      <th>3</th>\n",
       "      <td>22</td>\n",
       "      <td>0.0</td>\n",
       "      <td>1</td>\n",
       "      <td>Dining bar</td>\n",
       "      <td>8</td>\n",
       "      <td>51</td>\n",
       "      <td>0.0</td>\n",
       "      <td>0.0</td>\n",
       "      <td>0.0</td>\n",
       "      <td>0.0</td>\n",
       "      <td>0.0</td>\n",
       "      <td>0.0</td>\n",
       "      <td>23.211765</td>\n",
       "      <td>23.0</td>\n",
       "      <td>54</td>\n",
       "      <td>5.172809</td>\n",
       "      <td>8.362564</td>\n",
       "      <td>4.521799</td>\n",
       "      <td>air_ba937bf13d40fb24_2016-01-16</td>\n",
       "      <td>1</td>\n",
       "      <td>5</td>\n",
       "      <td>16</td>\n",
       "      <td>2</td>\n",
       "      <td>27.651515</td>\n",
       "      <td>27.0</td>\n",
       "      <td>53</td>\n",
       "      <td>19.976758</td>\n",
       "      <td>16</td>\n",
       "      <td>6.244167</td>\n",
       "      <td>22.782609</td>\n",
       "      <td>22.0</td>\n",
       "      <td>61</td>\n",
       "      <td>26.313688</td>\n",
       "      <td>22</td>\n",
       "      <td>6.016157</td>\n",
       "      <td>18.35</td>\n",
       "      <td>21.0</td>\n",
       "      <td>38</td>\n",
       "      <td>Tōkyō-to</td>\n",
       "      <td>Minato-ku</td>\n",
       "      <td>0</td>\n",
       "      <td>0</td>\n",
       "      <td>0</td>\n",
       "      <td>0</td>\n",
       "      <td>0</td>\n",
       "      <td>0</td>\n",
       "      <td>0</td>\n",
       "      <td>1</td>\n",
       "      <td>0</td>\n",
       "      <td>0</td>\n",
       "      <td>0</td>\n",
       "      <td>0</td>\n",
       "      <td>0</td>\n",
       "      <td>1</td>\n",
       "      <td>0</td>\n",
       "      <td>0</td>\n",
       "      <td>0</td>\n",
       "      <td>0</td>\n",
       "      <td>0</td>\n",
       "      <td>0</td>\n",
       "      <td>0</td>\n",
       "      <td>0</td>\n",
       "      <td>0</td>\n",
       "    </tr>\n",
       "    <tr>\n",
       "      <th>4</th>\n",
       "      <td>6</td>\n",
       "      <td>0.0</td>\n",
       "      <td>0</td>\n",
       "      <td>Dining bar</td>\n",
       "      <td>8</td>\n",
       "      <td>51</td>\n",
       "      <td>0.0</td>\n",
       "      <td>0.0</td>\n",
       "      <td>0.0</td>\n",
       "      <td>0.0</td>\n",
       "      <td>0.0</td>\n",
       "      <td>0.0</td>\n",
       "      <td>22.663399</td>\n",
       "      <td>21.5</td>\n",
       "      <td>61</td>\n",
       "      <td>5.172809</td>\n",
       "      <td>8.362564</td>\n",
       "      <td>4.521799</td>\n",
       "      <td>air_ba937bf13d40fb24_2016-01-18</td>\n",
       "      <td>1</td>\n",
       "      <td>0</td>\n",
       "      <td>18</td>\n",
       "      <td>3</td>\n",
       "      <td>13.754386</td>\n",
       "      <td>12.0</td>\n",
       "      <td>34</td>\n",
       "      <td>19.976758</td>\n",
       "      <td>16</td>\n",
       "      <td>6.244167</td>\n",
       "      <td>22.782609</td>\n",
       "      <td>22.0</td>\n",
       "      <td>61</td>\n",
       "      <td>17.177009</td>\n",
       "      <td>14</td>\n",
       "      <td>5.855072</td>\n",
       "      <td>18.35</td>\n",
       "      <td>21.0</td>\n",
       "      <td>38</td>\n",
       "      <td>Tōkyō-to</td>\n",
       "      <td>Minato-ku</td>\n",
       "      <td>0</td>\n",
       "      <td>0</td>\n",
       "      <td>0</td>\n",
       "      <td>0</td>\n",
       "      <td>0</td>\n",
       "      <td>0</td>\n",
       "      <td>0</td>\n",
       "      <td>1</td>\n",
       "      <td>0</td>\n",
       "      <td>0</td>\n",
       "      <td>0</td>\n",
       "      <td>0</td>\n",
       "      <td>0</td>\n",
       "      <td>1</td>\n",
       "      <td>0</td>\n",
       "      <td>0</td>\n",
       "      <td>0</td>\n",
       "      <td>0</td>\n",
       "      <td>0</td>\n",
       "      <td>0</td>\n",
       "      <td>0</td>\n",
       "      <td>0</td>\n",
       "      <td>0</td>\n",
       "    </tr>\n",
       "  </tbody>\n",
       "</table>\n",
       "</div>"
      ],
      "text/plain": [
       "   visitors  holiday_eve  ...  Western food Yakiniku/Korean food\n",
       "0        25          0.0  ...             0                    0\n",
       "1        32          0.0  ...             0                    0\n",
       "2        29          0.0  ...             0                    0\n",
       "3        22          0.0  ...             0                    0\n",
       "4         6          0.0  ...             0                    0\n",
       "\n",
       "[5 rows x 63 columns]"
      ]
     },
     "execution_count": 127,
     "metadata": {
      "tags": []
     },
     "output_type": "execute_result"
    }
   ],
   "source": [
    "# drop columns not necessary for train set\n",
    "k = ['air_store_id', u'visit_date', u'month', u'day_of_week', u'air_area_name', 'visit_date_year', u'latitude', u'longitude']\n",
    "X = train.drop(k,axis=1)\n",
    "X.head(5)"
   ]
  },
  {
   "cell_type": "code",
   "execution_count": 128,
   "metadata": {
    "colab": {
     "base_uri": "https://localhost:8080/",
     "height": 0
    },
    "id": "nRul86lwCaO1",
    "outputId": "265660f5-c104-4a79-8256-866328c390dc"
   },
   "outputs": [
    {
     "data": {
      "text/html": [
       "<div>\n",
       "<style scoped>\n",
       "    .dataframe tbody tr th:only-of-type {\n",
       "        vertical-align: middle;\n",
       "    }\n",
       "\n",
       "    .dataframe tbody tr th {\n",
       "        vertical-align: top;\n",
       "    }\n",
       "\n",
       "    .dataframe thead th {\n",
       "        text-align: right;\n",
       "    }\n",
       "</style>\n",
       "<table border=\"1\" class=\"dataframe\">\n",
       "  <thead>\n",
       "    <tr style=\"text-align: right;\">\n",
       "      <th></th>\n",
       "      <th>visitors</th>\n",
       "      <th>holiday_eve</th>\n",
       "      <th>non_working_day</th>\n",
       "      <th>air_genre_name</th>\n",
       "      <th>genre_in_area</th>\n",
       "      <th>total_rt_in_area</th>\n",
       "      <th>reserve_visitors</th>\n",
       "      <th>reserve_-12_h</th>\n",
       "      <th>reserve_12_37_h</th>\n",
       "      <th>reserve_37_59_h</th>\n",
       "      <th>reserve_59_85_h</th>\n",
       "      <th>reserve_85+_h</th>\n",
       "      <th>nwd_mean_visitors</th>\n",
       "      <th>nwd_median_visitors</th>\n",
       "      <th>nwd_max_visitors</th>\n",
       "      <th>longitude_latitude_sum</th>\n",
       "      <th>diff_max_latitude</th>\n",
       "      <th>diff_max_longitude</th>\n",
       "      <th>id</th>\n",
       "      <th>visit_date_month</th>\n",
       "      <th>visit_date_dayofw</th>\n",
       "      <th>visit_date_dayofm</th>\n",
       "      <th>weekofyear</th>\n",
       "      <th>store_dayofw_mean_visitors</th>\n",
       "      <th>store_dayofw_median_visitors</th>\n",
       "      <th>store_dayofw_max_visitors</th>\n",
       "      <th>month_mean_visitors</th>\n",
       "      <th>month_median_visitors</th>\n",
       "      <th>month_max_visitors</th>\n",
       "      <th>store_mean_visitors</th>\n",
       "      <th>store_median_visitors</th>\n",
       "      <th>store_max_visitors</th>\n",
       "      <th>dayofw_mean_visitors</th>\n",
       "      <th>dayofw_median_visitors</th>\n",
       "      <th>dayofw_max_visitors</th>\n",
       "      <th>store_month_mean_visitors</th>\n",
       "      <th>store_month_median_visitors</th>\n",
       "      <th>store_month_max_visitors</th>\n",
       "      <th>area1</th>\n",
       "      <th>area2</th>\n",
       "      <th>Fukuoka-ken</th>\n",
       "      <th>Hiroshima-ken</th>\n",
       "      <th>Hokkaidō</th>\n",
       "      <th>Hyōgo-ken</th>\n",
       "      <th>Miyagi-ken</th>\n",
       "      <th>Niigata-ken</th>\n",
       "      <th>Shizuoka-ken</th>\n",
       "      <th>Tōkyō-to</th>\n",
       "      <th>Ōsaka-fu</th>\n",
       "      <th>Asian</th>\n",
       "      <th>Bar/Cocktail</th>\n",
       "      <th>Cafe/Sweets</th>\n",
       "      <th>Creative cuisine</th>\n",
       "      <th>Dining bar</th>\n",
       "      <th>International cuisine</th>\n",
       "      <th>Italian/French</th>\n",
       "      <th>Izakaya</th>\n",
       "      <th>Japanese food</th>\n",
       "      <th>Karaoke/Party</th>\n",
       "      <th>Okonomiyaki/Monja/Teppanyaki</th>\n",
       "      <th>Other</th>\n",
       "      <th>Western food</th>\n",
       "      <th>Yakiniku/Korean food</th>\n",
       "    </tr>\n",
       "  </thead>\n",
       "  <tbody>\n",
       "    <tr>\n",
       "      <th>0</th>\n",
       "      <td>0</td>\n",
       "      <td>0.0</td>\n",
       "      <td>0</td>\n",
       "      <td>Italian/French</td>\n",
       "      <td>10</td>\n",
       "      <td>29</td>\n",
       "      <td>0.0</td>\n",
       "      <td>0.0</td>\n",
       "      <td>0.0</td>\n",
       "      <td>0.0</td>\n",
       "      <td>0.0</td>\n",
       "      <td>0.0</td>\n",
       "      <td>12.354839</td>\n",
       "      <td>12.0</td>\n",
       "      <td>27</td>\n",
       "      <td>5.172995</td>\n",
       "      <td>8.349981</td>\n",
       "      <td>4.501537</td>\n",
       "      <td>air_e3020992d5fe5dfd_2017-04-06</td>\n",
       "      <td>4</td>\n",
       "      <td>3</td>\n",
       "      <td>6</td>\n",
       "      <td>14</td>\n",
       "      <td>11.157895</td>\n",
       "      <td>8.5</td>\n",
       "      <td>27</td>\n",
       "      <td>21.816002</td>\n",
       "      <td>18</td>\n",
       "      <td>6.656727</td>\n",
       "      <td>12.464435</td>\n",
       "      <td>12.0</td>\n",
       "      <td>30</td>\n",
       "      <td>18.922702</td>\n",
       "      <td>16</td>\n",
       "      <td>5.913503</td>\n",
       "      <td>12.210526</td>\n",
       "      <td>13.0</td>\n",
       "      <td>21</td>\n",
       "      <td>Tōkyō-to</td>\n",
       "      <td>Chūō-ku</td>\n",
       "      <td>0</td>\n",
       "      <td>0</td>\n",
       "      <td>0</td>\n",
       "      <td>0</td>\n",
       "      <td>0</td>\n",
       "      <td>0</td>\n",
       "      <td>0</td>\n",
       "      <td>1</td>\n",
       "      <td>0</td>\n",
       "      <td>0</td>\n",
       "      <td>0</td>\n",
       "      <td>0</td>\n",
       "      <td>0</td>\n",
       "      <td>0</td>\n",
       "      <td>0</td>\n",
       "      <td>1</td>\n",
       "      <td>0</td>\n",
       "      <td>0</td>\n",
       "      <td>0</td>\n",
       "      <td>0</td>\n",
       "      <td>0</td>\n",
       "      <td>0</td>\n",
       "      <td>0</td>\n",
       "    </tr>\n",
       "    <tr>\n",
       "      <th>1</th>\n",
       "      <td>0</td>\n",
       "      <td>0.0</td>\n",
       "      <td>0</td>\n",
       "      <td>Italian/French</td>\n",
       "      <td>10</td>\n",
       "      <td>29</td>\n",
       "      <td>0.0</td>\n",
       "      <td>0.0</td>\n",
       "      <td>0.0</td>\n",
       "      <td>0.0</td>\n",
       "      <td>0.0</td>\n",
       "      <td>0.0</td>\n",
       "      <td>12.354839</td>\n",
       "      <td>12.0</td>\n",
       "      <td>27</td>\n",
       "      <td>5.172995</td>\n",
       "      <td>8.349981</td>\n",
       "      <td>4.501537</td>\n",
       "      <td>air_e3020992d5fe5dfd_2017-04-07</td>\n",
       "      <td>4</td>\n",
       "      <td>4</td>\n",
       "      <td>7</td>\n",
       "      <td>14</td>\n",
       "      <td>16.023256</td>\n",
       "      <td>18.0</td>\n",
       "      <td>25</td>\n",
       "      <td>21.816002</td>\n",
       "      <td>18</td>\n",
       "      <td>6.656727</td>\n",
       "      <td>12.464435</td>\n",
       "      <td>12.0</td>\n",
       "      <td>30</td>\n",
       "      <td>23.072737</td>\n",
       "      <td>19</td>\n",
       "      <td>5.786897</td>\n",
       "      <td>12.210526</td>\n",
       "      <td>13.0</td>\n",
       "      <td>21</td>\n",
       "      <td>Tōkyō-to</td>\n",
       "      <td>Chūō-ku</td>\n",
       "      <td>0</td>\n",
       "      <td>0</td>\n",
       "      <td>0</td>\n",
       "      <td>0</td>\n",
       "      <td>0</td>\n",
       "      <td>0</td>\n",
       "      <td>0</td>\n",
       "      <td>1</td>\n",
       "      <td>0</td>\n",
       "      <td>0</td>\n",
       "      <td>0</td>\n",
       "      <td>0</td>\n",
       "      <td>0</td>\n",
       "      <td>0</td>\n",
       "      <td>0</td>\n",
       "      <td>1</td>\n",
       "      <td>0</td>\n",
       "      <td>0</td>\n",
       "      <td>0</td>\n",
       "      <td>0</td>\n",
       "      <td>0</td>\n",
       "      <td>0</td>\n",
       "      <td>0</td>\n",
       "    </tr>\n",
       "    <tr>\n",
       "      <th>2</th>\n",
       "      <td>0</td>\n",
       "      <td>0.0</td>\n",
       "      <td>1</td>\n",
       "      <td>Italian/French</td>\n",
       "      <td>10</td>\n",
       "      <td>29</td>\n",
       "      <td>0.0</td>\n",
       "      <td>0.0</td>\n",
       "      <td>0.0</td>\n",
       "      <td>0.0</td>\n",
       "      <td>0.0</td>\n",
       "      <td>0.0</td>\n",
       "      <td>12.849057</td>\n",
       "      <td>14.0</td>\n",
       "      <td>30</td>\n",
       "      <td>5.172995</td>\n",
       "      <td>8.349981</td>\n",
       "      <td>4.501537</td>\n",
       "      <td>air_e3020992d5fe5dfd_2017-04-08</td>\n",
       "      <td>4</td>\n",
       "      <td>5</td>\n",
       "      <td>8</td>\n",
       "      <td>14</td>\n",
       "      <td>13.625000</td>\n",
       "      <td>14.5</td>\n",
       "      <td>30</td>\n",
       "      <td>21.816002</td>\n",
       "      <td>18</td>\n",
       "      <td>6.656727</td>\n",
       "      <td>12.464435</td>\n",
       "      <td>12.0</td>\n",
       "      <td>30</td>\n",
       "      <td>26.313688</td>\n",
       "      <td>22</td>\n",
       "      <td>6.016157</td>\n",
       "      <td>12.210526</td>\n",
       "      <td>13.0</td>\n",
       "      <td>21</td>\n",
       "      <td>Tōkyō-to</td>\n",
       "      <td>Chūō-ku</td>\n",
       "      <td>0</td>\n",
       "      <td>0</td>\n",
       "      <td>0</td>\n",
       "      <td>0</td>\n",
       "      <td>0</td>\n",
       "      <td>0</td>\n",
       "      <td>0</td>\n",
       "      <td>1</td>\n",
       "      <td>0</td>\n",
       "      <td>0</td>\n",
       "      <td>0</td>\n",
       "      <td>0</td>\n",
       "      <td>0</td>\n",
       "      <td>0</td>\n",
       "      <td>0</td>\n",
       "      <td>1</td>\n",
       "      <td>0</td>\n",
       "      <td>0</td>\n",
       "      <td>0</td>\n",
       "      <td>0</td>\n",
       "      <td>0</td>\n",
       "      <td>0</td>\n",
       "      <td>0</td>\n",
       "    </tr>\n",
       "    <tr>\n",
       "      <th>3</th>\n",
       "      <td>0</td>\n",
       "      <td>0.0</td>\n",
       "      <td>0</td>\n",
       "      <td>Italian/French</td>\n",
       "      <td>10</td>\n",
       "      <td>29</td>\n",
       "      <td>0.0</td>\n",
       "      <td>0.0</td>\n",
       "      <td>0.0</td>\n",
       "      <td>0.0</td>\n",
       "      <td>0.0</td>\n",
       "      <td>0.0</td>\n",
       "      <td>12.354839</td>\n",
       "      <td>12.0</td>\n",
       "      <td>27</td>\n",
       "      <td>5.172995</td>\n",
       "      <td>8.349981</td>\n",
       "      <td>4.501537</td>\n",
       "      <td>air_e3020992d5fe5dfd_2017-04-10</td>\n",
       "      <td>4</td>\n",
       "      <td>0</td>\n",
       "      <td>10</td>\n",
       "      <td>15</td>\n",
       "      <td>9.687500</td>\n",
       "      <td>9.0</td>\n",
       "      <td>22</td>\n",
       "      <td>21.816002</td>\n",
       "      <td>18</td>\n",
       "      <td>6.656727</td>\n",
       "      <td>12.464435</td>\n",
       "      <td>12.0</td>\n",
       "      <td>30</td>\n",
       "      <td>17.177009</td>\n",
       "      <td>14</td>\n",
       "      <td>5.855072</td>\n",
       "      <td>12.210526</td>\n",
       "      <td>13.0</td>\n",
       "      <td>21</td>\n",
       "      <td>Tōkyō-to</td>\n",
       "      <td>Chūō-ku</td>\n",
       "      <td>0</td>\n",
       "      <td>0</td>\n",
       "      <td>0</td>\n",
       "      <td>0</td>\n",
       "      <td>0</td>\n",
       "      <td>0</td>\n",
       "      <td>0</td>\n",
       "      <td>1</td>\n",
       "      <td>0</td>\n",
       "      <td>0</td>\n",
       "      <td>0</td>\n",
       "      <td>0</td>\n",
       "      <td>0</td>\n",
       "      <td>0</td>\n",
       "      <td>0</td>\n",
       "      <td>1</td>\n",
       "      <td>0</td>\n",
       "      <td>0</td>\n",
       "      <td>0</td>\n",
       "      <td>0</td>\n",
       "      <td>0</td>\n",
       "      <td>0</td>\n",
       "      <td>0</td>\n",
       "    </tr>\n",
       "    <tr>\n",
       "      <th>4</th>\n",
       "      <td>0</td>\n",
       "      <td>0.0</td>\n",
       "      <td>0</td>\n",
       "      <td>Italian/French</td>\n",
       "      <td>10</td>\n",
       "      <td>29</td>\n",
       "      <td>0.0</td>\n",
       "      <td>0.0</td>\n",
       "      <td>0.0</td>\n",
       "      <td>0.0</td>\n",
       "      <td>0.0</td>\n",
       "      <td>0.0</td>\n",
       "      <td>12.354839</td>\n",
       "      <td>12.0</td>\n",
       "      <td>27</td>\n",
       "      <td>5.172995</td>\n",
       "      <td>8.349981</td>\n",
       "      <td>4.501537</td>\n",
       "      <td>air_e3020992d5fe5dfd_2017-04-11</td>\n",
       "      <td>4</td>\n",
       "      <td>1</td>\n",
       "      <td>11</td>\n",
       "      <td>15</td>\n",
       "      <td>11.025000</td>\n",
       "      <td>10.5</td>\n",
       "      <td>24</td>\n",
       "      <td>21.816002</td>\n",
       "      <td>18</td>\n",
       "      <td>6.656727</td>\n",
       "      <td>12.464435</td>\n",
       "      <td>12.0</td>\n",
       "      <td>30</td>\n",
       "      <td>17.672137</td>\n",
       "      <td>14</td>\n",
       "      <td>6.656727</td>\n",
       "      <td>12.210526</td>\n",
       "      <td>13.0</td>\n",
       "      <td>21</td>\n",
       "      <td>Tōkyō-to</td>\n",
       "      <td>Chūō-ku</td>\n",
       "      <td>0</td>\n",
       "      <td>0</td>\n",
       "      <td>0</td>\n",
       "      <td>0</td>\n",
       "      <td>0</td>\n",
       "      <td>0</td>\n",
       "      <td>0</td>\n",
       "      <td>1</td>\n",
       "      <td>0</td>\n",
       "      <td>0</td>\n",
       "      <td>0</td>\n",
       "      <td>0</td>\n",
       "      <td>0</td>\n",
       "      <td>0</td>\n",
       "      <td>0</td>\n",
       "      <td>1</td>\n",
       "      <td>0</td>\n",
       "      <td>0</td>\n",
       "      <td>0</td>\n",
       "      <td>0</td>\n",
       "      <td>0</td>\n",
       "      <td>0</td>\n",
       "      <td>0</td>\n",
       "    </tr>\n",
       "  </tbody>\n",
       "</table>\n",
       "</div>"
      ],
      "text/plain": [
       "   visitors  holiday_eve  ...  Western food Yakiniku/Korean food\n",
       "0         0          0.0  ...             0                    0\n",
       "1         0          0.0  ...             0                    0\n",
       "2         0          0.0  ...             0                    0\n",
       "3         0          0.0  ...             0                    0\n",
       "4         0          0.0  ...             0                    0\n",
       "\n",
       "[5 rows x 63 columns]"
      ]
     },
     "execution_count": 128,
     "metadata": {
      "tags": []
     },
     "output_type": "execute_result"
    }
   ],
   "source": [
    "# drop unnecessary columns for test\n",
    "X_test = test.drop(k,axis=1)\n",
    "X_test.head(5)"
   ]
  },
  {
   "cell_type": "code",
   "execution_count": 129,
   "metadata": {
    "id": "J4rEFylXCeVo"
   },
   "outputs": [],
   "source": [
    "# save newly created train and test set\n",
    "X.to_csv('new_train.csv',index = False)\n",
    "X_test.to_csv('new_test.csv',index = False)"
   ]
  },
  {
   "cell_type": "markdown",
   "metadata": {
    "id": "tnOqNtzAADbB"
   },
   "source": [
    "## Training "
   ]
  },
  {
   "cell_type": "markdown",
   "metadata": {
    "id": "wzswR_cA8xHy"
   },
   "source": [
    "##### *Final train test set creation*"
   ]
  },
  {
   "cell_type": "code",
   "execution_count": 130,
   "metadata": {
    "id": "6bekIs8Z-5Ml"
   },
   "outputs": [],
   "source": [
    "# Reading the train and  test data from new_train. and new_test.csv files respectively\n",
    "ntrain = pd.read_csv(path + 'new_train.csv')\n",
    "ntest = pd.read_csv(path +'new_test.csv')"
   ]
  },
  {
   "cell_type": "code",
   "execution_count": 131,
   "metadata": {
    "id": "UEIbJj_THi7L"
   },
   "outputs": [],
   "source": [
    "# dropping id and visitors columns from test dataset and id column from train dataset\n",
    "ntest_1=ntest.drop(['id','visitors'],axis=1)\n",
    "ntrain_1=ntrain.drop(['id'],axis=1)"
   ]
  },
  {
   "cell_type": "code",
   "execution_count": 132,
   "metadata": {
    "id": "1-Dn0dWJa-mR"
   },
   "outputs": [],
   "source": [
    "# selecting final features to train on\n",
    "final_cols=['holiday_eve', 'non_working_day',\n",
    "       'genre_in_area', 'total_rt_in_area', 'reserve_visitors',\n",
    "       'reserve_-12_h', 'reserve_12_37_h', 'reserve_37_59_h',\n",
    "       'reserve_59_85_h', 'reserve_85+_h', 'nwd_mean_visitors',\n",
    "       'nwd_median_visitors', 'nwd_max_visitors', 'longitude_latitude_sum',\n",
    "       'diff_max_latitude', 'diff_max_longitude', 'visit_date_month',\n",
    "       'visit_date_dayofw', 'visit_date_dayofm', 'weekofyear',\n",
    "       'store_dayofw_mean_visitors', 'store_dayofw_median_visitors',\n",
    "       'store_dayofw_max_visitors',  'store_mean_visitors',\n",
    "       'store_median_visitors', 'store_max_visitors', 'store_month_mean_visitors', \n",
    "       'store_month_median_visitors','store_month_max_visitors',\n",
    "       'Fukuoka-ken', 'Hiroshima-ken', 'Hokkaidō', 'Hyōgo-ken', 'Miyagi-ken',\n",
    "       'Niigata-ken', 'Shizuoka-ken', 'Tōkyō-to', 'Ōsaka-fu', 'Asian',\n",
    "       'Bar/Cocktail', 'Cafe/Sweets', 'Creative cuisine', 'Dining bar',\n",
    "       'International cuisine', 'Italian/French', 'Izakaya', 'Japanese food',\n",
    "       'Karaoke/Party', 'Okonomiyaki/Monja/Teppanyaki', 'Other',\n",
    "       'Western food', 'Yakiniku/Korean food']"
   ]
  },
  {
   "cell_type": "code",
   "execution_count": 133,
   "metadata": {
    "colab": {
     "base_uri": "https://localhost:8080/",
     "height": 232
    },
    "id": "vQC85QpXAitW",
    "outputId": "fe353cf7-8841-4ea8-b400-903a3b3817c5"
   },
   "outputs": [
    {
     "data": {
      "text/html": [
       "<div>\n",
       "<style scoped>\n",
       "    .dataframe tbody tr th:only-of-type {\n",
       "        vertical-align: middle;\n",
       "    }\n",
       "\n",
       "    .dataframe tbody tr th {\n",
       "        vertical-align: top;\n",
       "    }\n",
       "\n",
       "    .dataframe thead th {\n",
       "        text-align: right;\n",
       "    }\n",
       "</style>\n",
       "<table border=\"1\" class=\"dataframe\">\n",
       "  <thead>\n",
       "    <tr style=\"text-align: right;\">\n",
       "      <th></th>\n",
       "      <th>holiday_eve</th>\n",
       "      <th>non_working_day</th>\n",
       "      <th>genre_in_area</th>\n",
       "      <th>total_rt_in_area</th>\n",
       "      <th>reserve_visitors</th>\n",
       "      <th>reserve_-12_h</th>\n",
       "      <th>reserve_12_37_h</th>\n",
       "      <th>reserve_37_59_h</th>\n",
       "      <th>reserve_59_85_h</th>\n",
       "      <th>reserve_85+_h</th>\n",
       "      <th>nwd_mean_visitors</th>\n",
       "      <th>nwd_median_visitors</th>\n",
       "      <th>nwd_max_visitors</th>\n",
       "      <th>longitude_latitude_sum</th>\n",
       "      <th>diff_max_latitude</th>\n",
       "      <th>diff_max_longitude</th>\n",
       "      <th>visit_date_month</th>\n",
       "      <th>visit_date_dayofw</th>\n",
       "      <th>visit_date_dayofm</th>\n",
       "      <th>weekofyear</th>\n",
       "      <th>store_dayofw_mean_visitors</th>\n",
       "      <th>store_dayofw_median_visitors</th>\n",
       "      <th>store_dayofw_max_visitors</th>\n",
       "      <th>store_mean_visitors</th>\n",
       "      <th>store_median_visitors</th>\n",
       "      <th>store_max_visitors</th>\n",
       "      <th>store_month_mean_visitors</th>\n",
       "      <th>store_month_median_visitors</th>\n",
       "      <th>store_month_max_visitors</th>\n",
       "      <th>Fukuoka-ken</th>\n",
       "      <th>Hiroshima-ken</th>\n",
       "      <th>Hokkaidō</th>\n",
       "      <th>Hyōgo-ken</th>\n",
       "      <th>Miyagi-ken</th>\n",
       "      <th>Niigata-ken</th>\n",
       "      <th>Shizuoka-ken</th>\n",
       "      <th>Tōkyō-to</th>\n",
       "      <th>Ōsaka-fu</th>\n",
       "      <th>Asian</th>\n",
       "      <th>Bar/Cocktail</th>\n",
       "      <th>Cafe/Sweets</th>\n",
       "      <th>Creative cuisine</th>\n",
       "      <th>Dining bar</th>\n",
       "      <th>International cuisine</th>\n",
       "      <th>Italian/French</th>\n",
       "      <th>Izakaya</th>\n",
       "      <th>Japanese food</th>\n",
       "      <th>Karaoke/Party</th>\n",
       "      <th>Okonomiyaki/Monja/Teppanyaki</th>\n",
       "      <th>Other</th>\n",
       "      <th>Western food</th>\n",
       "      <th>Yakiniku/Korean food</th>\n",
       "    </tr>\n",
       "  </thead>\n",
       "  <tbody>\n",
       "    <tr>\n",
       "      <th>0</th>\n",
       "      <td>0.0</td>\n",
       "      <td>0</td>\n",
       "      <td>10</td>\n",
       "      <td>29</td>\n",
       "      <td>0.0</td>\n",
       "      <td>0.0</td>\n",
       "      <td>0.0</td>\n",
       "      <td>0.0</td>\n",
       "      <td>0.0</td>\n",
       "      <td>0.0</td>\n",
       "      <td>12.354839</td>\n",
       "      <td>12.0</td>\n",
       "      <td>27</td>\n",
       "      <td>5.172995</td>\n",
       "      <td>8.349981</td>\n",
       "      <td>4.501537</td>\n",
       "      <td>4</td>\n",
       "      <td>3</td>\n",
       "      <td>6</td>\n",
       "      <td>14</td>\n",
       "      <td>11.157895</td>\n",
       "      <td>8.5</td>\n",
       "      <td>27</td>\n",
       "      <td>12.464435</td>\n",
       "      <td>12.0</td>\n",
       "      <td>30</td>\n",
       "      <td>12.210526</td>\n",
       "      <td>13.0</td>\n",
       "      <td>21</td>\n",
       "      <td>0</td>\n",
       "      <td>0</td>\n",
       "      <td>0</td>\n",
       "      <td>0</td>\n",
       "      <td>0</td>\n",
       "      <td>0</td>\n",
       "      <td>0</td>\n",
       "      <td>1</td>\n",
       "      <td>0</td>\n",
       "      <td>0</td>\n",
       "      <td>0</td>\n",
       "      <td>0</td>\n",
       "      <td>0</td>\n",
       "      <td>0</td>\n",
       "      <td>0</td>\n",
       "      <td>1</td>\n",
       "      <td>0</td>\n",
       "      <td>0</td>\n",
       "      <td>0</td>\n",
       "      <td>0</td>\n",
       "      <td>0</td>\n",
       "      <td>0</td>\n",
       "      <td>0</td>\n",
       "    </tr>\n",
       "    <tr>\n",
       "      <th>1</th>\n",
       "      <td>0.0</td>\n",
       "      <td>0</td>\n",
       "      <td>10</td>\n",
       "      <td>29</td>\n",
       "      <td>0.0</td>\n",
       "      <td>0.0</td>\n",
       "      <td>0.0</td>\n",
       "      <td>0.0</td>\n",
       "      <td>0.0</td>\n",
       "      <td>0.0</td>\n",
       "      <td>12.354839</td>\n",
       "      <td>12.0</td>\n",
       "      <td>27</td>\n",
       "      <td>5.172995</td>\n",
       "      <td>8.349981</td>\n",
       "      <td>4.501537</td>\n",
       "      <td>4</td>\n",
       "      <td>4</td>\n",
       "      <td>7</td>\n",
       "      <td>14</td>\n",
       "      <td>16.023256</td>\n",
       "      <td>18.0</td>\n",
       "      <td>25</td>\n",
       "      <td>12.464435</td>\n",
       "      <td>12.0</td>\n",
       "      <td>30</td>\n",
       "      <td>12.210526</td>\n",
       "      <td>13.0</td>\n",
       "      <td>21</td>\n",
       "      <td>0</td>\n",
       "      <td>0</td>\n",
       "      <td>0</td>\n",
       "      <td>0</td>\n",
       "      <td>0</td>\n",
       "      <td>0</td>\n",
       "      <td>0</td>\n",
       "      <td>1</td>\n",
       "      <td>0</td>\n",
       "      <td>0</td>\n",
       "      <td>0</td>\n",
       "      <td>0</td>\n",
       "      <td>0</td>\n",
       "      <td>0</td>\n",
       "      <td>0</td>\n",
       "      <td>1</td>\n",
       "      <td>0</td>\n",
       "      <td>0</td>\n",
       "      <td>0</td>\n",
       "      <td>0</td>\n",
       "      <td>0</td>\n",
       "      <td>0</td>\n",
       "      <td>0</td>\n",
       "    </tr>\n",
       "    <tr>\n",
       "      <th>2</th>\n",
       "      <td>0.0</td>\n",
       "      <td>1</td>\n",
       "      <td>10</td>\n",
       "      <td>29</td>\n",
       "      <td>0.0</td>\n",
       "      <td>0.0</td>\n",
       "      <td>0.0</td>\n",
       "      <td>0.0</td>\n",
       "      <td>0.0</td>\n",
       "      <td>0.0</td>\n",
       "      <td>12.849057</td>\n",
       "      <td>14.0</td>\n",
       "      <td>30</td>\n",
       "      <td>5.172995</td>\n",
       "      <td>8.349981</td>\n",
       "      <td>4.501537</td>\n",
       "      <td>4</td>\n",
       "      <td>5</td>\n",
       "      <td>8</td>\n",
       "      <td>14</td>\n",
       "      <td>13.625000</td>\n",
       "      <td>14.5</td>\n",
       "      <td>30</td>\n",
       "      <td>12.464435</td>\n",
       "      <td>12.0</td>\n",
       "      <td>30</td>\n",
       "      <td>12.210526</td>\n",
       "      <td>13.0</td>\n",
       "      <td>21</td>\n",
       "      <td>0</td>\n",
       "      <td>0</td>\n",
       "      <td>0</td>\n",
       "      <td>0</td>\n",
       "      <td>0</td>\n",
       "      <td>0</td>\n",
       "      <td>0</td>\n",
       "      <td>1</td>\n",
       "      <td>0</td>\n",
       "      <td>0</td>\n",
       "      <td>0</td>\n",
       "      <td>0</td>\n",
       "      <td>0</td>\n",
       "      <td>0</td>\n",
       "      <td>0</td>\n",
       "      <td>1</td>\n",
       "      <td>0</td>\n",
       "      <td>0</td>\n",
       "      <td>0</td>\n",
       "      <td>0</td>\n",
       "      <td>0</td>\n",
       "      <td>0</td>\n",
       "      <td>0</td>\n",
       "    </tr>\n",
       "    <tr>\n",
       "      <th>3</th>\n",
       "      <td>0.0</td>\n",
       "      <td>0</td>\n",
       "      <td>10</td>\n",
       "      <td>29</td>\n",
       "      <td>0.0</td>\n",
       "      <td>0.0</td>\n",
       "      <td>0.0</td>\n",
       "      <td>0.0</td>\n",
       "      <td>0.0</td>\n",
       "      <td>0.0</td>\n",
       "      <td>12.354839</td>\n",
       "      <td>12.0</td>\n",
       "      <td>27</td>\n",
       "      <td>5.172995</td>\n",
       "      <td>8.349981</td>\n",
       "      <td>4.501537</td>\n",
       "      <td>4</td>\n",
       "      <td>0</td>\n",
       "      <td>10</td>\n",
       "      <td>15</td>\n",
       "      <td>9.687500</td>\n",
       "      <td>9.0</td>\n",
       "      <td>22</td>\n",
       "      <td>12.464435</td>\n",
       "      <td>12.0</td>\n",
       "      <td>30</td>\n",
       "      <td>12.210526</td>\n",
       "      <td>13.0</td>\n",
       "      <td>21</td>\n",
       "      <td>0</td>\n",
       "      <td>0</td>\n",
       "      <td>0</td>\n",
       "      <td>0</td>\n",
       "      <td>0</td>\n",
       "      <td>0</td>\n",
       "      <td>0</td>\n",
       "      <td>1</td>\n",
       "      <td>0</td>\n",
       "      <td>0</td>\n",
       "      <td>0</td>\n",
       "      <td>0</td>\n",
       "      <td>0</td>\n",
       "      <td>0</td>\n",
       "      <td>0</td>\n",
       "      <td>1</td>\n",
       "      <td>0</td>\n",
       "      <td>0</td>\n",
       "      <td>0</td>\n",
       "      <td>0</td>\n",
       "      <td>0</td>\n",
       "      <td>0</td>\n",
       "      <td>0</td>\n",
       "    </tr>\n",
       "    <tr>\n",
       "      <th>4</th>\n",
       "      <td>0.0</td>\n",
       "      <td>0</td>\n",
       "      <td>10</td>\n",
       "      <td>29</td>\n",
       "      <td>0.0</td>\n",
       "      <td>0.0</td>\n",
       "      <td>0.0</td>\n",
       "      <td>0.0</td>\n",
       "      <td>0.0</td>\n",
       "      <td>0.0</td>\n",
       "      <td>12.354839</td>\n",
       "      <td>12.0</td>\n",
       "      <td>27</td>\n",
       "      <td>5.172995</td>\n",
       "      <td>8.349981</td>\n",
       "      <td>4.501537</td>\n",
       "      <td>4</td>\n",
       "      <td>1</td>\n",
       "      <td>11</td>\n",
       "      <td>15</td>\n",
       "      <td>11.025000</td>\n",
       "      <td>10.5</td>\n",
       "      <td>24</td>\n",
       "      <td>12.464435</td>\n",
       "      <td>12.0</td>\n",
       "      <td>30</td>\n",
       "      <td>12.210526</td>\n",
       "      <td>13.0</td>\n",
       "      <td>21</td>\n",
       "      <td>0</td>\n",
       "      <td>0</td>\n",
       "      <td>0</td>\n",
       "      <td>0</td>\n",
       "      <td>0</td>\n",
       "      <td>0</td>\n",
       "      <td>0</td>\n",
       "      <td>1</td>\n",
       "      <td>0</td>\n",
       "      <td>0</td>\n",
       "      <td>0</td>\n",
       "      <td>0</td>\n",
       "      <td>0</td>\n",
       "      <td>0</td>\n",
       "      <td>0</td>\n",
       "      <td>1</td>\n",
       "      <td>0</td>\n",
       "      <td>0</td>\n",
       "      <td>0</td>\n",
       "      <td>0</td>\n",
       "      <td>0</td>\n",
       "      <td>0</td>\n",
       "      <td>0</td>\n",
       "    </tr>\n",
       "  </tbody>\n",
       "</table>\n",
       "</div>"
      ],
      "text/plain": [
       "   holiday_eve  non_working_day  ...  Western food  Yakiniku/Korean food\n",
       "0          0.0                0  ...             0                     0\n",
       "1          0.0                0  ...             0                     0\n",
       "2          0.0                1  ...             0                     0\n",
       "3          0.0                0  ...             0                     0\n",
       "4          0.0                0  ...             0                     0\n",
       "\n",
       "[5 rows x 52 columns]"
      ]
     },
     "execution_count": 133,
     "metadata": {
      "tags": []
     },
     "output_type": "execute_result"
    }
   ],
   "source": [
    "y = ntrain_1['visitors']\n",
    "x = ntrain_1[final_cols]\n",
    "test_x = ntest_1[final_cols]\n",
    "test_x.head()"
   ]
  },
  {
   "cell_type": "markdown",
   "metadata": {
    "id": "evvqK0Fh2Hn9"
   },
   "source": [
    "##### *Linear Regression*"
   ]
  },
  {
   "cell_type": "code",
   "execution_count": 134,
   "metadata": {
    "id": "2xFUcNIRDIYm"
   },
   "outputs": [],
   "source": [
    "# Create linear regression object\n",
    "regr = linear_model.LinearRegression()\n",
    "\n",
    "# Train the model using the training sets\n",
    "# x = features used for training\n",
    "# y = Target(ie- no of visitors)\n",
    "regr.fit(x, y)\n",
    "\n",
    "# Make predictions using the testing set\n",
    "y_pred = regr.predict(test_x)"
   ]
  },
  {
   "cell_type": "code",
   "execution_count": 135,
   "metadata": {
    "colab": {
     "base_uri": "https://localhost:8080/"
    },
    "id": "GX470Is0Rnwn",
    "outputId": "668e645b-0893-4fc9-e73b-2acfc1fd8598"
   },
   "outputs": [
    {
     "name": "stderr",
     "output_type": "stream",
     "text": [
      "/usr/local/lib/python3.6/dist-packages/ipykernel_launcher.py:3: SettingWithCopyWarning: \n",
      "A value is trying to be set on a copy of a slice from a DataFrame.\n",
      "Try using .loc[row_indexer,col_indexer] = value instead\n",
      "\n",
      "See the caveats in the documentation: https://pandas.pydata.org/pandas-docs/stable/user_guide/indexing.html#returning-a-view-versus-a-copy\n",
      "  This is separate from the ipykernel package so we can avoid doing imports until\n",
      "/usr/local/lib/python3.6/dist-packages/ipykernel_launcher.py:4: SettingWithCopyWarning: \n",
      "A value is trying to be set on a copy of a slice from a DataFrame.\n",
      "Try using .loc[row_indexer,col_indexer] = value instead\n",
      "\n",
      "See the caveats in the documentation: https://pandas.pydata.org/pandas-docs/stable/user_guide/indexing.html#returning-a-view-versus-a-copy\n",
      "  after removing the cwd from sys.path.\n"
     ]
    }
   ],
   "source": [
    "# create final_submissions dataframe out of y_pred array\n",
    "final_submissions = ntest[['id','visitors']]\n",
    "final_submissions['id'] = ntest[['id']]\n",
    "final_submissions['visitors'] = pd.DataFrame({'visitors': y_pred})"
   ]
  },
  {
   "cell_type": "code",
   "execution_count": 136,
   "metadata": {
    "id": "BEw-b9jJUBhj"
   },
   "outputs": [],
   "source": [
    "final_submissions = final_submissions.reindex(['id','visitors'],axis=1)"
   ]
  },
  {
   "cell_type": "code",
   "execution_count": 137,
   "metadata": {
    "id": "ogE5O9ZkTT2U"
   },
   "outputs": [],
   "source": [
    "#Generate a submission csv file out of the predictions obtained from linear regression\n",
    "final_submissions.to_csv('LinearRegression_FinalFeat.csv',index = False)"
   ]
  },
  {
   "cell_type": "markdown",
   "metadata": {
    "id": "DA7V8k9aK06D"
   },
   "source": [
    "##### *Decision Tree Regressor - Hyper parameter Tuning with GridSearch and Cross Validation of 5*"
   ]
  },
  {
   "cell_type": "code",
   "execution_count": 138,
   "metadata": {
    "colab": {
     "base_uri": "https://localhost:8080/"
    },
    "id": "402c4l52K3U9",
    "outputId": "970e7f89-83e3-4510-e6a1-53d67e2f1132"
   },
   "outputs": [
    {
     "name": "stdout",
     "output_type": "stream",
     "text": [
      "{'max_depth': 10, 'min_samples_split': 50}\n",
      "0.2746654141390682\n"
     ]
    }
   ],
   "source": [
    "# Hyper parameters for Decision Tree Regressor are max_depth and min_samples_split\n",
    "# njobs = -1 which means that all threads are run parallelly\n",
    "\n",
    "model = DecisionTreeRegressor()\n",
    "gs = GridSearchCV(model,\n",
    "                  param_grid = {'max_depth': range(1, 11),\n",
    "                                'min_samples_split': range(10, 60, 10)},\n",
    "                  cv=5,\n",
    "                  n_jobs=-1,\n",
    "                  scoring='neg_mean_squared_log_error')\n",
    "\n",
    "#Fit the model\n",
    "gs.fit(x,y)\n",
    "print(gs.best_params_)\n",
    "print(-gs.best_score_)"
   ]
  },
  {
   "cell_type": "code",
   "execution_count": 139,
   "metadata": {
    "id": "cDZAm7kDPldH"
   },
   "outputs": [],
   "source": [
    "# Make predictions using the Decision Tree Regressor\n",
    "y_pred_tree = gs.predict(test_x)"
   ]
  },
  {
   "cell_type": "code",
   "execution_count": 140,
   "metadata": {
    "colab": {
     "base_uri": "https://localhost:8080/",
     "height": 397
    },
    "id": "9rA8o0qsRCdm",
    "outputId": "3f89e041-6bf8-48d5-9a4a-f9d5e422b931"
   },
   "outputs": [
    {
     "name": "stderr",
     "output_type": "stream",
     "text": [
      "/usr/local/lib/python3.6/dist-packages/ipykernel_launcher.py:3: SettingWithCopyWarning: \n",
      "A value is trying to be set on a copy of a slice from a DataFrame.\n",
      "Try using .loc[row_indexer,col_indexer] = value instead\n",
      "\n",
      "See the caveats in the documentation: https://pandas.pydata.org/pandas-docs/stable/user_guide/indexing.html#returning-a-view-versus-a-copy\n",
      "  This is separate from the ipykernel package so we can avoid doing imports until\n",
      "/usr/local/lib/python3.6/dist-packages/ipykernel_launcher.py:4: SettingWithCopyWarning: \n",
      "A value is trying to be set on a copy of a slice from a DataFrame.\n",
      "Try using .loc[row_indexer,col_indexer] = value instead\n",
      "\n",
      "See the caveats in the documentation: https://pandas.pydata.org/pandas-docs/stable/user_guide/indexing.html#returning-a-view-versus-a-copy\n",
      "  after removing the cwd from sys.path.\n"
     ]
    },
    {
     "data": {
      "text/html": [
       "<div>\n",
       "<style scoped>\n",
       "    .dataframe tbody tr th:only-of-type {\n",
       "        vertical-align: middle;\n",
       "    }\n",
       "\n",
       "    .dataframe tbody tr th {\n",
       "        vertical-align: top;\n",
       "    }\n",
       "\n",
       "    .dataframe thead th {\n",
       "        text-align: right;\n",
       "    }\n",
       "</style>\n",
       "<table border=\"1\" class=\"dataframe\">\n",
       "  <thead>\n",
       "    <tr style=\"text-align: right;\">\n",
       "      <th></th>\n",
       "      <th>id</th>\n",
       "      <th>visitors</th>\n",
       "    </tr>\n",
       "  </thead>\n",
       "  <tbody>\n",
       "    <tr>\n",
       "      <th>0</th>\n",
       "      <td>air_e3020992d5fe5dfd_2017-04-06</td>\n",
       "      <td>10.301092</td>\n",
       "    </tr>\n",
       "    <tr>\n",
       "      <th>1</th>\n",
       "      <td>air_e3020992d5fe5dfd_2017-04-07</td>\n",
       "      <td>16.822053</td>\n",
       "    </tr>\n",
       "    <tr>\n",
       "      <th>2</th>\n",
       "      <td>air_e3020992d5fe5dfd_2017-04-08</td>\n",
       "      <td>13.060459</td>\n",
       "    </tr>\n",
       "    <tr>\n",
       "      <th>3</th>\n",
       "      <td>air_e3020992d5fe5dfd_2017-04-10</td>\n",
       "      <td>10.301092</td>\n",
       "    </tr>\n",
       "    <tr>\n",
       "      <th>4</th>\n",
       "      <td>air_e3020992d5fe5dfd_2017-04-11</td>\n",
       "      <td>10.301092</td>\n",
       "    </tr>\n",
       "  </tbody>\n",
       "</table>\n",
       "</div>"
      ],
      "text/plain": [
       "                                id   visitors\n",
       "0  air_e3020992d5fe5dfd_2017-04-06  10.301092\n",
       "1  air_e3020992d5fe5dfd_2017-04-07  16.822053\n",
       "2  air_e3020992d5fe5dfd_2017-04-08  13.060459\n",
       "3  air_e3020992d5fe5dfd_2017-04-10  10.301092\n",
       "4  air_e3020992d5fe5dfd_2017-04-11  10.301092"
      ]
     },
     "execution_count": 140,
     "metadata": {
      "tags": []
     },
     "output_type": "execute_result"
    }
   ],
   "source": [
    "# create final_submissions dataframe out of y_pred_tree array\n",
    "final_submissions_tree = ntest[['id','visitors']]\n",
    "final_submissions_tree['id'] = ntest[['id']]\n",
    "final_submissions_tree['visitors'] = pd.DataFrame({'visitors': y_pred_tree})\n",
    "final_submissions_tree = final_submissions_tree.reindex(['id','visitors'],axis=1)\n",
    "final_submissions_tree.head()"
   ]
  },
  {
   "cell_type": "code",
   "execution_count": 141,
   "metadata": {
    "id": "VIB2jkBkSHNO"
   },
   "outputs": [],
   "source": [
    "#Generate a submission csv file out of the predictions obtained from Decision Tree Regressor\n",
    "final_submissions_tree.to_csv('DecisionTree_FinalFeat.csv',index = False)"
   ]
  },
  {
   "cell_type": "markdown",
   "metadata": {
    "id": "1oHPeYkcnd4m"
   },
   "source": [
    "##### *K nearest neighbors*"
   ]
  },
  {
   "cell_type": "code",
   "execution_count": 145,
   "metadata": {
    "colab": {
     "base_uri": "https://localhost:8080/"
    },
    "id": "hBD5KpN9n9ek",
    "outputId": "261662ff-d186-4e60-f9cd-9dea91291082"
   },
   "outputs": [
    {
     "name": "stdout",
     "output_type": "stream",
     "text": [
      "KNeighborsRegressor(algorithm='auto', leaf_size=30, metric='minkowski',\n",
      "                    metric_params=None, n_jobs=-1, n_neighbors=4, p=2,\n",
      "                    weights='uniform')\n",
      "RMSLE KNeighborsRegressor:  0.1899994539937567\n"
     ]
    }
   ],
   "source": [
    "model2 = KNeighborsRegressor(n_jobs=-1,n_neighbors=4)\n",
    "print(model2)\n",
    "\n",
    "#Fit Knn model\n",
    "model2.fit(x, y)\n",
    "preds2 = model2.predict(x)\n",
    "print('RMSLE KNeighborsRegressor: ', mean_squared_log_error(y, preds2))\n",
    "preds2 = model2.predict(test_x)\n",
    "\n"
   ]
  },
  {
   "cell_type": "code",
   "execution_count": 146,
   "metadata": {
    "colab": {
     "base_uri": "https://localhost:8080/",
     "height": 397
    },
    "id": "DiUCkvuqjqV6",
    "outputId": "13854b9b-e132-4053-f253-2d702ff55923"
   },
   "outputs": [
    {
     "name": "stderr",
     "output_type": "stream",
     "text": [
      "/usr/local/lib/python3.6/dist-packages/ipykernel_launcher.py:3: SettingWithCopyWarning: \n",
      "A value is trying to be set on a copy of a slice from a DataFrame.\n",
      "Try using .loc[row_indexer,col_indexer] = value instead\n",
      "\n",
      "See the caveats in the documentation: https://pandas.pydata.org/pandas-docs/stable/user_guide/indexing.html#returning-a-view-versus-a-copy\n",
      "  This is separate from the ipykernel package so we can avoid doing imports until\n",
      "/usr/local/lib/python3.6/dist-packages/ipykernel_launcher.py:4: SettingWithCopyWarning: \n",
      "A value is trying to be set on a copy of a slice from a DataFrame.\n",
      "Try using .loc[row_indexer,col_indexer] = value instead\n",
      "\n",
      "See the caveats in the documentation: https://pandas.pydata.org/pandas-docs/stable/user_guide/indexing.html#returning-a-view-versus-a-copy\n",
      "  after removing the cwd from sys.path.\n"
     ]
    },
    {
     "data": {
      "text/html": [
       "<div>\n",
       "<style scoped>\n",
       "    .dataframe tbody tr th:only-of-type {\n",
       "        vertical-align: middle;\n",
       "    }\n",
       "\n",
       "    .dataframe tbody tr th {\n",
       "        vertical-align: top;\n",
       "    }\n",
       "\n",
       "    .dataframe thead th {\n",
       "        text-align: right;\n",
       "    }\n",
       "</style>\n",
       "<table border=\"1\" class=\"dataframe\">\n",
       "  <thead>\n",
       "    <tr style=\"text-align: right;\">\n",
       "      <th></th>\n",
       "      <th>id</th>\n",
       "      <th>visitors</th>\n",
       "    </tr>\n",
       "  </thead>\n",
       "  <tbody>\n",
       "    <tr>\n",
       "      <th>0</th>\n",
       "      <td>air_e3020992d5fe5dfd_2017-04-06</td>\n",
       "      <td>8.25</td>\n",
       "    </tr>\n",
       "    <tr>\n",
       "      <th>1</th>\n",
       "      <td>air_e3020992d5fe5dfd_2017-04-07</td>\n",
       "      <td>17.75</td>\n",
       "    </tr>\n",
       "    <tr>\n",
       "      <th>2</th>\n",
       "      <td>air_e3020992d5fe5dfd_2017-04-08</td>\n",
       "      <td>14.75</td>\n",
       "    </tr>\n",
       "    <tr>\n",
       "      <th>3</th>\n",
       "      <td>air_e3020992d5fe5dfd_2017-04-10</td>\n",
       "      <td>9.00</td>\n",
       "    </tr>\n",
       "    <tr>\n",
       "      <th>4</th>\n",
       "      <td>air_e3020992d5fe5dfd_2017-04-11</td>\n",
       "      <td>9.00</td>\n",
       "    </tr>\n",
       "  </tbody>\n",
       "</table>\n",
       "</div>"
      ],
      "text/plain": [
       "                                id  visitors\n",
       "0  air_e3020992d5fe5dfd_2017-04-06      8.25\n",
       "1  air_e3020992d5fe5dfd_2017-04-07     17.75\n",
       "2  air_e3020992d5fe5dfd_2017-04-08     14.75\n",
       "3  air_e3020992d5fe5dfd_2017-04-10      9.00\n",
       "4  air_e3020992d5fe5dfd_2017-04-11      9.00"
      ]
     },
     "execution_count": 146,
     "metadata": {
      "tags": []
     },
     "output_type": "execute_result"
    }
   ],
   "source": [
    "# create final_submissions dataframe out of preds2 array\n",
    "final_submissions_knn_1 = ntest[['id','visitors']]\n",
    "final_submissions_knn_1['id'] = ntest[['id']]\n",
    "final_submissions_knn_1['visitors'] = pd.DataFrame({'visitors': preds2})\n",
    "final_submissions_knn_1 = final_submissions_knn_1.reindex(['id','visitors'],axis=1)\n",
    "final_submissions_knn_1.head()"
   ]
  },
  {
   "cell_type": "code",
   "execution_count": 147,
   "metadata": {
    "colab": {
     "base_uri": "https://localhost:8080/"
    },
    "id": "SbxJvafzh52y",
    "outputId": "ae795de3-084e-4d86-de89-5f035754dcf4"
   },
   "outputs": [
    {
     "name": "stdout",
     "output_type": "stream",
     "text": [
      "KNeighborsRegressor(algorithm='auto', leaf_size=30, metric='minkowski',\n",
      "                    metric_params=None, n_jobs=-1, n_neighbors=3, p=2,\n",
      "                    weights='uniform')\n",
      "RMSLE KNeighborsRegressor:  0.17018163164083275\n"
     ]
    }
   ],
   "source": [
    "# Knn with neighbors=3 \n",
    "from sklearn.metrics import mean_squared_log_error\n",
    "from sklearn.neighbors import KNeighborsRegressor\n",
    "\n",
    "model2 = KNeighborsRegressor(n_jobs=-1,n_neighbors=3)\n",
    "print(model2)\n",
    "\n",
    "model2.fit(x, y)\n",
    "preds2 = model2.predict(x)\n",
    "print('RMSLE KNeighborsRegressor: ', mean_squared_log_error(y, preds2))\n",
    "preds2 = model2.predict(test_x)"
   ]
  },
  {
   "cell_type": "code",
   "execution_count": 149,
   "metadata": {
    "colab": {
     "base_uri": "https://localhost:8080/",
     "height": 397
    },
    "id": "zyPYA80SoLsq",
    "outputId": "4c9c1cf9-6cd7-4c8e-ee09-5f2c4664f398"
   },
   "outputs": [
    {
     "name": "stderr",
     "output_type": "stream",
     "text": [
      "/usr/local/lib/python3.6/dist-packages/ipykernel_launcher.py:3: SettingWithCopyWarning: \n",
      "A value is trying to be set on a copy of a slice from a DataFrame.\n",
      "Try using .loc[row_indexer,col_indexer] = value instead\n",
      "\n",
      "See the caveats in the documentation: https://pandas.pydata.org/pandas-docs/stable/user_guide/indexing.html#returning-a-view-versus-a-copy\n",
      "  This is separate from the ipykernel package so we can avoid doing imports until\n",
      "/usr/local/lib/python3.6/dist-packages/ipykernel_launcher.py:4: SettingWithCopyWarning: \n",
      "A value is trying to be set on a copy of a slice from a DataFrame.\n",
      "Try using .loc[row_indexer,col_indexer] = value instead\n",
      "\n",
      "See the caveats in the documentation: https://pandas.pydata.org/pandas-docs/stable/user_guide/indexing.html#returning-a-view-versus-a-copy\n",
      "  after removing the cwd from sys.path.\n"
     ]
    },
    {
     "data": {
      "text/html": [
       "<div>\n",
       "<style scoped>\n",
       "    .dataframe tbody tr th:only-of-type {\n",
       "        vertical-align: middle;\n",
       "    }\n",
       "\n",
       "    .dataframe tbody tr th {\n",
       "        vertical-align: top;\n",
       "    }\n",
       "\n",
       "    .dataframe thead th {\n",
       "        text-align: right;\n",
       "    }\n",
       "</style>\n",
       "<table border=\"1\" class=\"dataframe\">\n",
       "  <thead>\n",
       "    <tr style=\"text-align: right;\">\n",
       "      <th></th>\n",
       "      <th>id</th>\n",
       "      <th>visitors</th>\n",
       "    </tr>\n",
       "  </thead>\n",
       "  <tbody>\n",
       "    <tr>\n",
       "      <th>0</th>\n",
       "      <td>air_e3020992d5fe5dfd_2017-04-06</td>\n",
       "      <td>7.666667</td>\n",
       "    </tr>\n",
       "    <tr>\n",
       "      <th>1</th>\n",
       "      <td>air_e3020992d5fe5dfd_2017-04-07</td>\n",
       "      <td>17.333333</td>\n",
       "    </tr>\n",
       "    <tr>\n",
       "      <th>2</th>\n",
       "      <td>air_e3020992d5fe5dfd_2017-04-08</td>\n",
       "      <td>15.000000</td>\n",
       "    </tr>\n",
       "    <tr>\n",
       "      <th>3</th>\n",
       "      <td>air_e3020992d5fe5dfd_2017-04-10</td>\n",
       "      <td>6.666667</td>\n",
       "    </tr>\n",
       "    <tr>\n",
       "      <th>4</th>\n",
       "      <td>air_e3020992d5fe5dfd_2017-04-11</td>\n",
       "      <td>8.000000</td>\n",
       "    </tr>\n",
       "  </tbody>\n",
       "</table>\n",
       "</div>"
      ],
      "text/plain": [
       "                                id   visitors\n",
       "0  air_e3020992d5fe5dfd_2017-04-06   7.666667\n",
       "1  air_e3020992d5fe5dfd_2017-04-07  17.333333\n",
       "2  air_e3020992d5fe5dfd_2017-04-08  15.000000\n",
       "3  air_e3020992d5fe5dfd_2017-04-10   6.666667\n",
       "4  air_e3020992d5fe5dfd_2017-04-11   8.000000"
      ]
     },
     "execution_count": 149,
     "metadata": {
      "tags": []
     },
     "output_type": "execute_result"
    }
   ],
   "source": [
    "# create final_submissions dataframe out of preds2 array\n",
    "final_submissions_knn = ntest[['id','visitors']]\n",
    "final_submissions_knn['id'] = ntest[['id']]\n",
    "final_submissions_knn['visitors'] = pd.DataFrame({'visitors': preds2})\n",
    "final_submissions_knn = final_submissions_knn.reindex(['id','visitors'],axis=1)\n",
    "final_submissions_knn.head()"
   ]
  },
  {
   "cell_type": "code",
   "execution_count": 150,
   "metadata": {
    "id": "_2aH6jBDoc7x"
   },
   "outputs": [],
   "source": [
    "#Generate a submission csv file out of the predictions obtained from Knn\n",
    "final_submissions_knn_1.to_csv('Knn_Neighbors.csv',index = False)"
   ]
  },
  {
   "cell_type": "markdown",
   "metadata": {
    "id": "nXV6AZjkgicL"
   },
   "source": [
    "##### *XgBoost Model using train,test and split method to split train dataset into Training and Validation Datasets*"
   ]
  },
  {
   "cell_type": "code",
   "execution_count": 151,
   "metadata": {
    "colab": {
     "base_uri": "https://localhost:8080/"
    },
    "id": "f0CaEh6RguhV",
    "outputId": "6ca5f87a-b492-4541-a1b0-d4b5e5542820"
   },
   "outputs": [
    {
     "name": "stdout",
     "output_type": "stream",
     "text": [
      "[09:31:29] WARNING: /workspace/src/objective/regression_obj.cu:152: reg:linear is now deprecated in favor of reg:squarederror.\n",
      "RMSE :  0.587321\n"
     ]
    }
   ],
   "source": [
    "  \n",
    "# Splitting \n",
    "train_X, test_valid_x, train_y, test_valid_y = train_test_split(x, y, test_size = 0.3, random_state = 123) \n",
    "  \n",
    "# Instantiation \n",
    "xgb_r = xg.XGBRegressor(objective ='reg:linear', n_estimators = 10, seed = 123) \n",
    "  \n",
    "# Fitting the model \n",
    "xgb_r.fit(train_X, train_y) \n",
    "  \n",
    "# Predict the model \n",
    "pred = xgb_r.predict(test_valid_x) \n",
    "  \n",
    "# RMSE Computation \n",
    "rmse = np.sqrt(mean_squared_log_error(test_valid_y, pred)) \n",
    "print(\"RMSE : % f\" %(rmse)) "
   ]
  },
  {
   "cell_type": "code",
   "execution_count": 152,
   "metadata": {
    "id": "e0aWdS1jjD6h"
   },
   "outputs": [],
   "source": [
    "y_pred_xgboost = xgb_r.predict(test_x)"
   ]
  },
  {
   "cell_type": "code",
   "execution_count": 153,
   "metadata": {
    "colab": {
     "base_uri": "https://localhost:8080/",
     "height": 397
    },
    "id": "_X7VsoIljXBn",
    "outputId": "00e7c827-5ca7-44a5-d7b6-404065737850"
   },
   "outputs": [
    {
     "name": "stderr",
     "output_type": "stream",
     "text": [
      "/usr/local/lib/python3.6/dist-packages/ipykernel_launcher.py:2: SettingWithCopyWarning: \n",
      "A value is trying to be set on a copy of a slice from a DataFrame.\n",
      "Try using .loc[row_indexer,col_indexer] = value instead\n",
      "\n",
      "See the caveats in the documentation: https://pandas.pydata.org/pandas-docs/stable/user_guide/indexing.html#returning-a-view-versus-a-copy\n",
      "  \n",
      "/usr/local/lib/python3.6/dist-packages/ipykernel_launcher.py:3: SettingWithCopyWarning: \n",
      "A value is trying to be set on a copy of a slice from a DataFrame.\n",
      "Try using .loc[row_indexer,col_indexer] = value instead\n",
      "\n",
      "See the caveats in the documentation: https://pandas.pydata.org/pandas-docs/stable/user_guide/indexing.html#returning-a-view-versus-a-copy\n",
      "  This is separate from the ipykernel package so we can avoid doing imports until\n"
     ]
    },
    {
     "data": {
      "text/html": [
       "<div>\n",
       "<style scoped>\n",
       "    .dataframe tbody tr th:only-of-type {\n",
       "        vertical-align: middle;\n",
       "    }\n",
       "\n",
       "    .dataframe tbody tr th {\n",
       "        vertical-align: top;\n",
       "    }\n",
       "\n",
       "    .dataframe thead th {\n",
       "        text-align: right;\n",
       "    }\n",
       "</style>\n",
       "<table border=\"1\" class=\"dataframe\">\n",
       "  <thead>\n",
       "    <tr style=\"text-align: right;\">\n",
       "      <th></th>\n",
       "      <th>id</th>\n",
       "      <th>visitors</th>\n",
       "    </tr>\n",
       "  </thead>\n",
       "  <tbody>\n",
       "    <tr>\n",
       "      <th>0</th>\n",
       "      <td>air_e3020992d5fe5dfd_2017-04-06</td>\n",
       "      <td>7.805145</td>\n",
       "    </tr>\n",
       "    <tr>\n",
       "      <th>1</th>\n",
       "      <td>air_e3020992d5fe5dfd_2017-04-07</td>\n",
       "      <td>10.205526</td>\n",
       "    </tr>\n",
       "    <tr>\n",
       "      <th>2</th>\n",
       "      <td>air_e3020992d5fe5dfd_2017-04-08</td>\n",
       "      <td>8.894953</td>\n",
       "    </tr>\n",
       "    <tr>\n",
       "      <th>3</th>\n",
       "      <td>air_e3020992d5fe5dfd_2017-04-10</td>\n",
       "      <td>6.540884</td>\n",
       "    </tr>\n",
       "    <tr>\n",
       "      <th>4</th>\n",
       "      <td>air_e3020992d5fe5dfd_2017-04-11</td>\n",
       "      <td>7.805145</td>\n",
       "    </tr>\n",
       "  </tbody>\n",
       "</table>\n",
       "</div>"
      ],
      "text/plain": [
       "                                id   visitors\n",
       "0  air_e3020992d5fe5dfd_2017-04-06   7.805145\n",
       "1  air_e3020992d5fe5dfd_2017-04-07  10.205526\n",
       "2  air_e3020992d5fe5dfd_2017-04-08   8.894953\n",
       "3  air_e3020992d5fe5dfd_2017-04-10   6.540884\n",
       "4  air_e3020992d5fe5dfd_2017-04-11   7.805145"
      ]
     },
     "execution_count": 153,
     "metadata": {
      "tags": []
     },
     "output_type": "execute_result"
    }
   ],
   "source": [
    "final_submissions_xgboost = ntest[['id','visitors']]\n",
    "final_submissions_xgboost['id'] = ntest[['id']]\n",
    "final_submissions_xgboost['visitors'] = pd.DataFrame({'visitors': y_pred_xgboost})\n",
    "final_submissions_xgboost = final_submissions_xgboost.reindex(['id','visitors'],axis=1)\n",
    "final_submissions_xgboost.head()"
   ]
  },
  {
   "cell_type": "code",
   "execution_count": 154,
   "metadata": {
    "id": "gdk0s1-4juua"
   },
   "outputs": [],
   "source": [
    "final_submissions_xgboost.to_csv('XGBoost.csv',index = False)"
   ]
  },
  {
   "cell_type": "markdown",
   "metadata": {
    "id": "oCrKZXyUlxRj"
   },
   "source": [
    "##### *Light Gradient Boosting Model - with Train, test and split method*"
   ]
  },
  {
   "cell_type": "code",
   "execution_count": 159,
   "metadata": {
    "colab": {
     "base_uri": "https://localhost:8080/"
    },
    "id": "vb6LuXKekg_y",
    "outputId": "9f55512d-7a8b-45dd-c723-3ae79c7f76d8"
   },
   "outputs": [
    {
     "name": "stdout",
     "output_type": "stream",
     "text": [
      "RMSLE :  0.517668\n"
     ]
    }
   ],
   "source": [
    "import lightgbm\n",
    "# Splitting \n",
    "train_X, test_valid_x, train_y, test_valid_y = train_test_split(x, y, test_size = 0.2, random_state = 150) \n",
    "\n",
    "# Create the LightGBM data containers\n",
    "\n",
    "train_data = lightgbm.Dataset(train_X, label=train_y)\n",
    "test_data = lightgbm.Dataset(test_valid_x, label=test_valid_y)\n",
    "\n",
    "# Train the model with below set of hyper parameters\n",
    "parameters = {\n",
    "    'application': 'regression',\n",
    "    'objective': 'regression',\n",
    "    'metric': 'mean_squared_log_error',\n",
    "    'is_unbalance': 'true',\n",
    "    'boosting': 'gbdt',\n",
    "    'num_leaves': 31,\n",
    "    'feature_fraction': 0.5,\n",
    "    'bagging_fraction': 0.5,\n",
    "    'bagging_freq': 20,\n",
    "    'learning_rate': 0.05,\n",
    "    'verbose': 0\n",
    "}\n",
    "\n",
    "\n",
    "model = lightgbm.train(parameters,train_data,valid_sets=test_data)\n",
    "\n",
    "# Predict the model \n",
    "pred = model.predict(test_valid_x)\n",
    "  \n",
    "# RMSLE Computation \n",
    "rmsle = np.sqrt(mean_squared_log_error(test_valid_y, pred)) \n",
    "print(\"RMSLE : % f\" %(rmsle))"
   ]
  },
  {
   "cell_type": "code",
   "execution_count": 160,
   "metadata": {
    "id": "kUAk-pG0tKsS"
   },
   "outputs": [],
   "source": [
    "# Predict the model \n",
    "y_pred_lgbm_split = model.predict(test_x)"
   ]
  },
  {
   "cell_type": "code",
   "execution_count": 161,
   "metadata": {
    "colab": {
     "base_uri": "https://localhost:8080/",
     "height": 397
    },
    "id": "LartlTF2tLA7",
    "outputId": "84e408bc-a1c0-479b-928e-7f7e0845c48b"
   },
   "outputs": [
    {
     "name": "stderr",
     "output_type": "stream",
     "text": [
      "/usr/local/lib/python3.6/dist-packages/ipykernel_launcher.py:3: SettingWithCopyWarning: \n",
      "A value is trying to be set on a copy of a slice from a DataFrame.\n",
      "Try using .loc[row_indexer,col_indexer] = value instead\n",
      "\n",
      "See the caveats in the documentation: https://pandas.pydata.org/pandas-docs/stable/user_guide/indexing.html#returning-a-view-versus-a-copy\n",
      "  This is separate from the ipykernel package so we can avoid doing imports until\n",
      "/usr/local/lib/python3.6/dist-packages/ipykernel_launcher.py:4: SettingWithCopyWarning: \n",
      "A value is trying to be set on a copy of a slice from a DataFrame.\n",
      "Try using .loc[row_indexer,col_indexer] = value instead\n",
      "\n",
      "See the caveats in the documentation: https://pandas.pydata.org/pandas-docs/stable/user_guide/indexing.html#returning-a-view-versus-a-copy\n",
      "  after removing the cwd from sys.path.\n"
     ]
    },
    {
     "data": {
      "text/html": [
       "<div>\n",
       "<style scoped>\n",
       "    .dataframe tbody tr th:only-of-type {\n",
       "        vertical-align: middle;\n",
       "    }\n",
       "\n",
       "    .dataframe tbody tr th {\n",
       "        vertical-align: top;\n",
       "    }\n",
       "\n",
       "    .dataframe thead th {\n",
       "        text-align: right;\n",
       "    }\n",
       "</style>\n",
       "<table border=\"1\" class=\"dataframe\">\n",
       "  <thead>\n",
       "    <tr style=\"text-align: right;\">\n",
       "      <th></th>\n",
       "      <th>id</th>\n",
       "      <th>visitors</th>\n",
       "    </tr>\n",
       "  </thead>\n",
       "  <tbody>\n",
       "    <tr>\n",
       "      <th>0</th>\n",
       "      <td>air_e3020992d5fe5dfd_2017-04-06</td>\n",
       "      <td>10.292926</td>\n",
       "    </tr>\n",
       "    <tr>\n",
       "      <th>1</th>\n",
       "      <td>air_e3020992d5fe5dfd_2017-04-07</td>\n",
       "      <td>14.660237</td>\n",
       "    </tr>\n",
       "    <tr>\n",
       "      <th>2</th>\n",
       "      <td>air_e3020992d5fe5dfd_2017-04-08</td>\n",
       "      <td>13.770623</td>\n",
       "    </tr>\n",
       "    <tr>\n",
       "      <th>3</th>\n",
       "      <td>air_e3020992d5fe5dfd_2017-04-10</td>\n",
       "      <td>9.872821</td>\n",
       "    </tr>\n",
       "    <tr>\n",
       "      <th>4</th>\n",
       "      <td>air_e3020992d5fe5dfd_2017-04-11</td>\n",
       "      <td>10.459560</td>\n",
       "    </tr>\n",
       "  </tbody>\n",
       "</table>\n",
       "</div>"
      ],
      "text/plain": [
       "                                id   visitors\n",
       "0  air_e3020992d5fe5dfd_2017-04-06  10.292926\n",
       "1  air_e3020992d5fe5dfd_2017-04-07  14.660237\n",
       "2  air_e3020992d5fe5dfd_2017-04-08  13.770623\n",
       "3  air_e3020992d5fe5dfd_2017-04-10   9.872821\n",
       "4  air_e3020992d5fe5dfd_2017-04-11  10.459560"
      ]
     },
     "execution_count": 161,
     "metadata": {
      "tags": []
     },
     "output_type": "execute_result"
    }
   ],
   "source": [
    "# Genrating Submission For Light GBM \n",
    "final_submissions_lgbm_withsplit = ntest[['id','visitors']]\n",
    "final_submissions_lgbm_withsplit['id'] = ntest[['id']]\n",
    "final_submissions_lgbm_withsplit['visitors'] = pd.DataFrame({'visitors': y_pred_lgbm_split})\n",
    "final_submissions_lgbm_withsplit = final_submissions_lgbm_withsplit.reindex(['id','visitors'],axis=1)\n",
    "final_submissions_lgbm_withsplit.head()"
   ]
  },
  {
   "cell_type": "code",
   "execution_count": 162,
   "metadata": {
    "id": "rpE_Hn3jtU1E"
   },
   "outputs": [],
   "source": [
    "final_submissions_lgbm_withsplit.to_csv('LightGBWithSplit_FinalFeat.csv',index = False)"
   ]
  },
  {
   "cell_type": "markdown",
   "metadata": {
    "id": "QRDiy1Wvfg14"
   },
   "source": [
    "##### *Light Gradient Boosting Model - Without Train, test and split method*"
   ]
  },
  {
   "cell_type": "code",
   "execution_count": 164,
   "metadata": {
    "id": "Ia_Pb9wPnqXr"
   },
   "outputs": [],
   "source": [
    "# Light GBM Train on whole data set -\n",
    "parameters = {}\n",
    "\n",
    "# Create the LightGBM data containers\n",
    "\n",
    "train_data = lightgbm.Dataset(x, label=y)\n",
    "model = lightgbm.train(parameters,train_data)\n",
    "\n",
    "# Predict the model \n",
    "y_pred_lgbm = model.predict(test_x)"
   ]
  },
  {
   "cell_type": "code",
   "execution_count": 165,
   "metadata": {
    "colab": {
     "base_uri": "https://localhost:8080/",
     "height": 397
    },
    "id": "04edlTWIqida",
    "outputId": "6dae97d0-8296-4f08-f899-a1b783f8a123"
   },
   "outputs": [
    {
     "name": "stderr",
     "output_type": "stream",
     "text": [
      "/usr/local/lib/python3.6/dist-packages/ipykernel_launcher.py:3: SettingWithCopyWarning: \n",
      "A value is trying to be set on a copy of a slice from a DataFrame.\n",
      "Try using .loc[row_indexer,col_indexer] = value instead\n",
      "\n",
      "See the caveats in the documentation: https://pandas.pydata.org/pandas-docs/stable/user_guide/indexing.html#returning-a-view-versus-a-copy\n",
      "  This is separate from the ipykernel package so we can avoid doing imports until\n",
      "/usr/local/lib/python3.6/dist-packages/ipykernel_launcher.py:4: SettingWithCopyWarning: \n",
      "A value is trying to be set on a copy of a slice from a DataFrame.\n",
      "Try using .loc[row_indexer,col_indexer] = value instead\n",
      "\n",
      "See the caveats in the documentation: https://pandas.pydata.org/pandas-docs/stable/user_guide/indexing.html#returning-a-view-versus-a-copy\n",
      "  after removing the cwd from sys.path.\n"
     ]
    },
    {
     "data": {
      "text/html": [
       "<div>\n",
       "<style scoped>\n",
       "    .dataframe tbody tr th:only-of-type {\n",
       "        vertical-align: middle;\n",
       "    }\n",
       "\n",
       "    .dataframe tbody tr th {\n",
       "        vertical-align: top;\n",
       "    }\n",
       "\n",
       "    .dataframe thead th {\n",
       "        text-align: right;\n",
       "    }\n",
       "</style>\n",
       "<table border=\"1\" class=\"dataframe\">\n",
       "  <thead>\n",
       "    <tr style=\"text-align: right;\">\n",
       "      <th></th>\n",
       "      <th>id</th>\n",
       "      <th>visitors</th>\n",
       "    </tr>\n",
       "  </thead>\n",
       "  <tbody>\n",
       "    <tr>\n",
       "      <th>0</th>\n",
       "      <td>air_e3020992d5fe5dfd_2017-04-06</td>\n",
       "      <td>10.462215</td>\n",
       "    </tr>\n",
       "    <tr>\n",
       "      <th>1</th>\n",
       "      <td>air_e3020992d5fe5dfd_2017-04-07</td>\n",
       "      <td>15.599184</td>\n",
       "    </tr>\n",
       "    <tr>\n",
       "      <th>2</th>\n",
       "      <td>air_e3020992d5fe5dfd_2017-04-08</td>\n",
       "      <td>13.924715</td>\n",
       "    </tr>\n",
       "    <tr>\n",
       "      <th>3</th>\n",
       "      <td>air_e3020992d5fe5dfd_2017-04-10</td>\n",
       "      <td>9.514874</td>\n",
       "    </tr>\n",
       "    <tr>\n",
       "      <th>4</th>\n",
       "      <td>air_e3020992d5fe5dfd_2017-04-11</td>\n",
       "      <td>10.802720</td>\n",
       "    </tr>\n",
       "  </tbody>\n",
       "</table>\n",
       "</div>"
      ],
      "text/plain": [
       "                                id   visitors\n",
       "0  air_e3020992d5fe5dfd_2017-04-06  10.462215\n",
       "1  air_e3020992d5fe5dfd_2017-04-07  15.599184\n",
       "2  air_e3020992d5fe5dfd_2017-04-08  13.924715\n",
       "3  air_e3020992d5fe5dfd_2017-04-10   9.514874\n",
       "4  air_e3020992d5fe5dfd_2017-04-11  10.802720"
      ]
     },
     "execution_count": 165,
     "metadata": {
      "tags": []
     },
     "output_type": "execute_result"
    }
   ],
   "source": [
    "# Genrating Submission For Light GBM without train_test_split\n",
    "final_submissions_lgbm_without = ntest[['id','visitors']]\n",
    "final_submissions_lgbm_without['id'] = ntest[['id']]\n",
    "final_submissions_lgbm_without['visitors'] = pd.DataFrame({'visitors': y_pred_lgbm})\n",
    "final_submissions_lgbm_without = final_submissions_lgbm_without.reindex(['id','visitors'],axis=1)\n",
    "final_submissions_lgbm_without.head()"
   ]
  },
  {
   "cell_type": "code",
   "execution_count": 166,
   "metadata": {
    "id": "BkwG-fpurP-T"
   },
   "outputs": [],
   "source": [
    "final_submissions_lgbm_without.to_csv('LightGradientBoostingWithoutTrainTestSlit.csv',index = False)"
   ]
  },
  {
   "cell_type": "markdown",
   "metadata": {
    "id": "7CAgpdBNgver"
   },
   "source": [
    "##### *Cat Boost Regressor*"
   ]
  },
  {
   "cell_type": "code",
   "execution_count": 169,
   "metadata": {
    "colab": {
     "base_uri": "https://localhost:8080/"
    },
    "id": "1ftyILkP596c",
    "outputId": "b49b4096-d3b9-42ad-9407-b244e03e6238"
   },
   "outputs": [
    {
     "name": "stdout",
     "output_type": "stream",
     "text": [
      "Collecting catboost\n",
      "\u001b[?25l  Downloading https://files.pythonhosted.org/packages/7e/c1/c1c4707013f9e2f8a96899dd3a87f66c9167d6d776a6dc8fe7ec8678d446/catboost-0.24.3-cp36-none-manylinux1_x86_64.whl (66.3MB)\n",
      "\u001b[K     |████████████████████████████████| 66.3MB 95kB/s \n",
      "\u001b[?25hRequirement already satisfied: pandas>=0.24.0 in /usr/local/lib/python3.6/dist-packages (from catboost) (1.1.4)\n",
      "Requirement already satisfied: numpy>=1.16.0 in /usr/local/lib/python3.6/dist-packages (from catboost) (1.18.5)\n",
      "Requirement already satisfied: matplotlib in /usr/local/lib/python3.6/dist-packages (from catboost) (3.2.2)\n",
      "Requirement already satisfied: six in /usr/local/lib/python3.6/dist-packages (from catboost) (1.15.0)\n",
      "Requirement already satisfied: scipy in /usr/local/lib/python3.6/dist-packages (from catboost) (1.4.1)\n",
      "Requirement already satisfied: plotly in /usr/local/lib/python3.6/dist-packages (from catboost) (4.4.1)\n",
      "Requirement already satisfied: graphviz in /usr/local/lib/python3.6/dist-packages (from catboost) (0.10.1)\n",
      "Requirement already satisfied: python-dateutil>=2.7.3 in /usr/local/lib/python3.6/dist-packages (from pandas>=0.24.0->catboost) (2.8.1)\n",
      "Requirement already satisfied: pytz>=2017.2 in /usr/local/lib/python3.6/dist-packages (from pandas>=0.24.0->catboost) (2018.9)\n",
      "Requirement already satisfied: cycler>=0.10 in /usr/local/lib/python3.6/dist-packages (from matplotlib->catboost) (0.10.0)\n",
      "Requirement already satisfied: pyparsing!=2.0.4,!=2.1.2,!=2.1.6,>=2.0.1 in /usr/local/lib/python3.6/dist-packages (from matplotlib->catboost) (2.4.7)\n",
      "Requirement already satisfied: kiwisolver>=1.0.1 in /usr/local/lib/python3.6/dist-packages (from matplotlib->catboost) (1.3.1)\n",
      "Requirement already satisfied: retrying>=1.3.3 in /usr/local/lib/python3.6/dist-packages (from plotly->catboost) (1.3.3)\n",
      "Installing collected packages: catboost\n",
      "Successfully installed catboost-0.24.3\n"
     ]
    }
   ],
   "source": [
    "#pip install catboost"
   ]
  },
  {
   "cell_type": "code",
   "execution_count": 171,
   "metadata": {
    "colab": {
     "base_uri": "https://localhost:8080/"
    },
    "id": "ch37AofEJwC7",
    "outputId": "6bbf378c-65bc-4af9-a594-ba54154f2e49"
   },
   "outputs": [
    {
     "name": "stdout",
     "output_type": "stream",
     "text": [
      "Learning rate set to 0.100377\n",
      "0:\tlearn: 15.8161763\ttotal: 102ms\tremaining: 1m 42s\n",
      "1:\tlearn: 15.0600118\ttotal: 151ms\tremaining: 1m 15s\n",
      "2:\tlearn: 14.3997381\ttotal: 201ms\tremaining: 1m 6s\n",
      "3:\tlearn: 13.8291636\ttotal: 247ms\tremaining: 1m 1s\n",
      "4:\tlearn: 13.3495668\ttotal: 294ms\tremaining: 58.6s\n",
      "5:\tlearn: 12.9219750\ttotal: 339ms\tremaining: 56.2s\n",
      "6:\tlearn: 12.5685330\ttotal: 387ms\tremaining: 54.9s\n",
      "7:\tlearn: 12.2596256\ttotal: 431ms\tremaining: 53.5s\n",
      "8:\tlearn: 11.9946507\ttotal: 477ms\tremaining: 52.5s\n",
      "9:\tlearn: 11.7709616\ttotal: 520ms\tremaining: 51.5s\n",
      "10:\tlearn: 11.5818062\ttotal: 563ms\tremaining: 50.6s\n",
      "11:\tlearn: 11.4200970\ttotal: 615ms\tremaining: 50.6s\n",
      "12:\tlearn: 11.2836201\ttotal: 660ms\tremaining: 50.1s\n",
      "13:\tlearn: 11.1648494\ttotal: 702ms\tremaining: 49.4s\n",
      "14:\tlearn: 11.0600577\ttotal: 742ms\tremaining: 48.7s\n",
      "15:\tlearn: 10.9678310\ttotal: 783ms\tremaining: 48.1s\n",
      "16:\tlearn: 10.8910474\ttotal: 831ms\tremaining: 48.1s\n",
      "17:\tlearn: 10.8204334\ttotal: 877ms\tremaining: 47.9s\n",
      "18:\tlearn: 10.7610990\ttotal: 917ms\tremaining: 47.3s\n",
      "19:\tlearn: 10.7087175\ttotal: 958ms\tremaining: 47s\n",
      "20:\tlearn: 10.6607897\ttotal: 1s\tremaining: 46.8s\n",
      "21:\tlearn: 10.6177764\ttotal: 1.06s\tremaining: 47.2s\n",
      "22:\tlearn: 10.5771544\ttotal: 1.11s\tremaining: 47.1s\n",
      "23:\tlearn: 10.5431194\ttotal: 1.16s\tremaining: 47.1s\n",
      "24:\tlearn: 10.5124748\ttotal: 1.2s\tremaining: 46.9s\n",
      "25:\tlearn: 10.4846247\ttotal: 1.24s\tremaining: 46.5s\n",
      "26:\tlearn: 10.4527188\ttotal: 1.29s\tremaining: 46.5s\n",
      "27:\tlearn: 10.4273348\ttotal: 1.33s\tremaining: 46.3s\n",
      "28:\tlearn: 10.3961658\ttotal: 1.38s\tremaining: 46.1s\n",
      "29:\tlearn: 10.3723993\ttotal: 1.42s\tremaining: 45.9s\n",
      "30:\tlearn: 10.3492690\ttotal: 1.47s\tremaining: 45.8s\n",
      "31:\tlearn: 10.3274222\ttotal: 1.5s\tremaining: 45.6s\n",
      "32:\tlearn: 10.3098148\ttotal: 1.55s\tremaining: 45.5s\n",
      "33:\tlearn: 10.2942215\ttotal: 1.59s\tremaining: 45.3s\n",
      "34:\tlearn: 10.2834203\ttotal: 1.64s\tremaining: 45.1s\n",
      "35:\tlearn: 10.2704431\ttotal: 1.67s\tremaining: 44.7s\n",
      "36:\tlearn: 10.2584009\ttotal: 1.71s\tremaining: 44.4s\n",
      "37:\tlearn: 10.2426273\ttotal: 1.74s\tremaining: 44.1s\n",
      "38:\tlearn: 10.2325145\ttotal: 1.79s\tremaining: 44s\n",
      "39:\tlearn: 10.2234078\ttotal: 1.83s\tremaining: 43.8s\n",
      "40:\tlearn: 10.2115815\ttotal: 1.86s\tremaining: 43.6s\n",
      "41:\tlearn: 10.1969021\ttotal: 1.91s\tremaining: 43.6s\n",
      "42:\tlearn: 10.1852586\ttotal: 1.96s\tremaining: 43.7s\n",
      "43:\tlearn: 10.1748056\ttotal: 2.01s\tremaining: 43.6s\n",
      "44:\tlearn: 10.1646031\ttotal: 2.05s\tremaining: 43.6s\n",
      "45:\tlearn: 10.1589522\ttotal: 2.09s\tremaining: 43.4s\n",
      "46:\tlearn: 10.1523184\ttotal: 2.15s\tremaining: 43.6s\n",
      "47:\tlearn: 10.1455340\ttotal: 2.19s\tremaining: 43.4s\n",
      "48:\tlearn: 10.1423719\ttotal: 2.23s\tremaining: 43.2s\n",
      "49:\tlearn: 10.1287114\ttotal: 2.27s\tremaining: 43.1s\n",
      "50:\tlearn: 10.1195098\ttotal: 2.32s\tremaining: 43.1s\n",
      "51:\tlearn: 10.1114679\ttotal: 2.36s\tremaining: 43s\n",
      "52:\tlearn: 10.1062534\ttotal: 2.4s\tremaining: 42.8s\n",
      "53:\tlearn: 10.0969640\ttotal: 2.44s\tremaining: 42.8s\n",
      "54:\tlearn: 10.0903854\ttotal: 2.48s\tremaining: 42.7s\n",
      "55:\tlearn: 10.0850447\ttotal: 2.52s\tremaining: 42.5s\n",
      "56:\tlearn: 10.0812497\ttotal: 2.56s\tremaining: 42.4s\n",
      "57:\tlearn: 10.0652157\ttotal: 2.6s\tremaining: 42.3s\n",
      "58:\tlearn: 10.0601884\ttotal: 2.64s\tremaining: 42.1s\n",
      "59:\tlearn: 10.0556913\ttotal: 2.69s\tremaining: 42.1s\n",
      "60:\tlearn: 10.0506483\ttotal: 2.73s\tremaining: 42s\n",
      "61:\tlearn: 10.0394620\ttotal: 2.77s\tremaining: 41.9s\n",
      "62:\tlearn: 10.0336695\ttotal: 2.81s\tremaining: 41.8s\n",
      "63:\tlearn: 10.0243201\ttotal: 2.85s\tremaining: 41.7s\n",
      "64:\tlearn: 10.0185953\ttotal: 2.89s\tremaining: 41.6s\n",
      "65:\tlearn: 10.0154962\ttotal: 2.92s\tremaining: 41.4s\n",
      "66:\tlearn: 10.0107632\ttotal: 2.96s\tremaining: 41.3s\n",
      "67:\tlearn: 10.0032287\ttotal: 3.02s\tremaining: 41.4s\n",
      "68:\tlearn: 9.9974403\ttotal: 3.06s\tremaining: 41.3s\n",
      "69:\tlearn: 9.9906585\ttotal: 3.1s\tremaining: 41.2s\n",
      "70:\tlearn: 9.9835609\ttotal: 3.14s\tremaining: 41.1s\n",
      "71:\tlearn: 9.9772509\ttotal: 3.19s\tremaining: 41.1s\n",
      "72:\tlearn: 9.9657057\ttotal: 3.23s\tremaining: 41.1s\n",
      "73:\tlearn: 9.9618258\ttotal: 3.27s\tremaining: 41s\n",
      "74:\tlearn: 9.9573776\ttotal: 3.31s\tremaining: 40.8s\n",
      "75:\tlearn: 9.9471992\ttotal: 3.35s\tremaining: 40.7s\n",
      "76:\tlearn: 9.9426140\ttotal: 3.39s\tremaining: 40.7s\n",
      "77:\tlearn: 9.9375264\ttotal: 3.44s\tremaining: 40.7s\n",
      "78:\tlearn: 9.9350419\ttotal: 3.48s\tremaining: 40.5s\n",
      "79:\tlearn: 9.9293689\ttotal: 3.52s\tremaining: 40.5s\n",
      "80:\tlearn: 9.9233768\ttotal: 3.57s\tremaining: 40.5s\n",
      "81:\tlearn: 9.9137199\ttotal: 3.6s\tremaining: 40.4s\n",
      "82:\tlearn: 9.9085653\ttotal: 3.65s\tremaining: 40.4s\n",
      "83:\tlearn: 9.9055933\ttotal: 3.69s\tremaining: 40.2s\n",
      "84:\tlearn: 9.9006165\ttotal: 3.74s\tremaining: 40.2s\n",
      "85:\tlearn: 9.8966829\ttotal: 3.78s\tremaining: 40.2s\n",
      "86:\tlearn: 9.8934287\ttotal: 3.82s\tremaining: 40.1s\n",
      "87:\tlearn: 9.8872044\ttotal: 3.87s\tremaining: 40.1s\n",
      "88:\tlearn: 9.8846008\ttotal: 3.91s\tremaining: 40s\n",
      "89:\tlearn: 9.8766721\ttotal: 3.95s\tremaining: 39.9s\n",
      "90:\tlearn: 9.8721601\ttotal: 4s\tremaining: 39.9s\n",
      "91:\tlearn: 9.8667354\ttotal: 4.05s\tremaining: 40s\n",
      "92:\tlearn: 9.8619220\ttotal: 4.09s\tremaining: 39.9s\n",
      "93:\tlearn: 9.8548497\ttotal: 4.13s\tremaining: 39.8s\n",
      "94:\tlearn: 9.8503378\ttotal: 4.17s\tremaining: 39.7s\n",
      "95:\tlearn: 9.8459309\ttotal: 4.21s\tremaining: 39.7s\n",
      "96:\tlearn: 9.8419568\ttotal: 4.26s\tremaining: 39.6s\n",
      "97:\tlearn: 9.8396438\ttotal: 4.3s\tremaining: 39.6s\n",
      "98:\tlearn: 9.8374581\ttotal: 4.34s\tremaining: 39.5s\n",
      "99:\tlearn: 9.8329095\ttotal: 4.39s\tremaining: 39.5s\n",
      "100:\tlearn: 9.8227731\ttotal: 4.44s\tremaining: 39.5s\n",
      "101:\tlearn: 9.8206447\ttotal: 4.48s\tremaining: 39.4s\n",
      "102:\tlearn: 9.8170487\ttotal: 4.52s\tremaining: 39.4s\n",
      "103:\tlearn: 9.8124276\ttotal: 4.56s\tremaining: 39.3s\n",
      "104:\tlearn: 9.8060675\ttotal: 4.6s\tremaining: 39.2s\n",
      "105:\tlearn: 9.8020362\ttotal: 4.64s\tremaining: 39.1s\n",
      "106:\tlearn: 9.7924385\ttotal: 4.67s\tremaining: 39s\n",
      "107:\tlearn: 9.7882396\ttotal: 4.72s\tremaining: 39s\n",
      "108:\tlearn: 9.7849916\ttotal: 4.76s\tremaining: 38.9s\n",
      "109:\tlearn: 9.7817188\ttotal: 4.81s\tremaining: 38.9s\n",
      "110:\tlearn: 9.7788242\ttotal: 4.85s\tremaining: 38.8s\n",
      "111:\tlearn: 9.7696571\ttotal: 4.89s\tremaining: 38.8s\n",
      "112:\tlearn: 9.7678979\ttotal: 4.93s\tremaining: 38.7s\n",
      "113:\tlearn: 9.7650827\ttotal: 4.97s\tremaining: 38.7s\n",
      "114:\tlearn: 9.7615648\ttotal: 5.03s\tremaining: 38.7s\n",
      "115:\tlearn: 9.7572130\ttotal: 5.07s\tremaining: 38.6s\n",
      "116:\tlearn: 9.7553452\ttotal: 5.11s\tremaining: 38.5s\n",
      "117:\tlearn: 9.7525226\ttotal: 5.14s\tremaining: 38.5s\n",
      "118:\tlearn: 9.7501928\ttotal: 5.18s\tremaining: 38.4s\n",
      "119:\tlearn: 9.7463301\ttotal: 5.23s\tremaining: 38.4s\n",
      "120:\tlearn: 9.7424664\ttotal: 5.28s\tremaining: 38.4s\n",
      "121:\tlearn: 9.7409592\ttotal: 5.32s\tremaining: 38.3s\n",
      "122:\tlearn: 9.7359921\ttotal: 5.36s\tremaining: 38.2s\n",
      "123:\tlearn: 9.7339469\ttotal: 5.39s\tremaining: 38.1s\n",
      "124:\tlearn: 9.7287119\ttotal: 5.43s\tremaining: 38s\n",
      "125:\tlearn: 9.7237736\ttotal: 5.48s\tremaining: 38s\n",
      "126:\tlearn: 9.7198682\ttotal: 5.52s\tremaining: 37.9s\n",
      "127:\tlearn: 9.7117986\ttotal: 5.57s\tremaining: 38s\n",
      "128:\tlearn: 9.7024505\ttotal: 5.61s\tremaining: 37.9s\n",
      "129:\tlearn: 9.6990435\ttotal: 5.66s\tremaining: 37.9s\n",
      "130:\tlearn: 9.6957533\ttotal: 5.71s\tremaining: 37.9s\n",
      "131:\tlearn: 9.6928212\ttotal: 5.74s\tremaining: 37.8s\n",
      "132:\tlearn: 9.6891277\ttotal: 5.78s\tremaining: 37.7s\n",
      "133:\tlearn: 9.6835327\ttotal: 5.83s\tremaining: 37.7s\n",
      "134:\tlearn: 9.6774079\ttotal: 5.87s\tremaining: 37.6s\n",
      "135:\tlearn: 9.6701708\ttotal: 5.92s\tremaining: 37.6s\n",
      "136:\tlearn: 9.6595874\ttotal: 5.96s\tremaining: 37.5s\n",
      "137:\tlearn: 9.6567040\ttotal: 6s\tremaining: 37.5s\n",
      "138:\tlearn: 9.6521524\ttotal: 6.05s\tremaining: 37.5s\n",
      "139:\tlearn: 9.6483290\ttotal: 6.09s\tremaining: 37.4s\n",
      "140:\tlearn: 9.6433959\ttotal: 6.13s\tremaining: 37.4s\n",
      "141:\tlearn: 9.6362383\ttotal: 6.17s\tremaining: 37.3s\n",
      "142:\tlearn: 9.6316625\ttotal: 6.21s\tremaining: 37.3s\n",
      "143:\tlearn: 9.6285395\ttotal: 6.25s\tremaining: 37.2s\n",
      "144:\tlearn: 9.6265245\ttotal: 6.3s\tremaining: 37.1s\n",
      "145:\tlearn: 9.6230967\ttotal: 6.34s\tremaining: 37.1s\n",
      "146:\tlearn: 9.6160881\ttotal: 6.39s\tremaining: 37.1s\n",
      "147:\tlearn: 9.6113683\ttotal: 6.44s\tremaining: 37.1s\n",
      "148:\tlearn: 9.6096435\ttotal: 6.49s\tremaining: 37s\n",
      "149:\tlearn: 9.6046124\ttotal: 6.53s\tremaining: 37s\n",
      "150:\tlearn: 9.6006652\ttotal: 6.57s\tremaining: 36.9s\n",
      "151:\tlearn: 9.5975333\ttotal: 6.6s\tremaining: 36.8s\n",
      "152:\tlearn: 9.5960111\ttotal: 6.64s\tremaining: 36.8s\n",
      "153:\tlearn: 9.5902571\ttotal: 6.68s\tremaining: 36.7s\n",
      "154:\tlearn: 9.5878956\ttotal: 6.72s\tremaining: 36.7s\n",
      "155:\tlearn: 9.5832118\ttotal: 6.78s\tremaining: 36.7s\n",
      "156:\tlearn: 9.5778767\ttotal: 6.81s\tremaining: 36.6s\n",
      "157:\tlearn: 9.5698185\ttotal: 6.85s\tremaining: 36.5s\n",
      "158:\tlearn: 9.5667591\ttotal: 6.91s\tremaining: 36.5s\n",
      "159:\tlearn: 9.5632061\ttotal: 6.96s\tremaining: 36.5s\n",
      "160:\tlearn: 9.5608110\ttotal: 7.01s\tremaining: 36.5s\n",
      "161:\tlearn: 9.5588942\ttotal: 7.06s\tremaining: 36.5s\n",
      "162:\tlearn: 9.5559908\ttotal: 7.12s\tremaining: 36.5s\n",
      "163:\tlearn: 9.5528856\ttotal: 7.16s\tremaining: 36.5s\n",
      "164:\tlearn: 9.5433278\ttotal: 7.2s\tremaining: 36.4s\n",
      "165:\tlearn: 9.5427051\ttotal: 7.23s\tremaining: 36.3s\n",
      "166:\tlearn: 9.5420346\ttotal: 7.27s\tremaining: 36.3s\n",
      "167:\tlearn: 9.5400437\ttotal: 7.31s\tremaining: 36.2s\n",
      "168:\tlearn: 9.5395632\ttotal: 7.34s\tremaining: 36.1s\n",
      "169:\tlearn: 9.5379953\ttotal: 7.39s\tremaining: 36.1s\n",
      "170:\tlearn: 9.5354537\ttotal: 7.44s\tremaining: 36.1s\n",
      "171:\tlearn: 9.5329957\ttotal: 7.48s\tremaining: 36s\n",
      "172:\tlearn: 9.5307904\ttotal: 7.53s\tremaining: 36s\n",
      "173:\tlearn: 9.5244492\ttotal: 7.57s\tremaining: 36s\n",
      "174:\tlearn: 9.5216746\ttotal: 7.62s\tremaining: 35.9s\n",
      "175:\tlearn: 9.5181776\ttotal: 7.66s\tremaining: 35.9s\n",
      "176:\tlearn: 9.5144664\ttotal: 7.72s\tremaining: 35.9s\n",
      "177:\tlearn: 9.5125144\ttotal: 7.76s\tremaining: 35.8s\n",
      "178:\tlearn: 9.5104736\ttotal: 7.79s\tremaining: 35.7s\n",
      "179:\tlearn: 9.5078782\ttotal: 7.83s\tremaining: 35.7s\n",
      "180:\tlearn: 9.5055972\ttotal: 7.87s\tremaining: 35.6s\n",
      "181:\tlearn: 9.5030492\ttotal: 7.91s\tremaining: 35.5s\n",
      "182:\tlearn: 9.5008676\ttotal: 7.96s\tremaining: 35.5s\n",
      "183:\tlearn: 9.4992605\ttotal: 8s\tremaining: 35.5s\n",
      "184:\tlearn: 9.4967067\ttotal: 8.04s\tremaining: 35.4s\n",
      "185:\tlearn: 9.4944958\ttotal: 8.08s\tremaining: 35.4s\n",
      "186:\tlearn: 9.4889279\ttotal: 8.12s\tremaining: 35.3s\n",
      "187:\tlearn: 9.4873564\ttotal: 8.16s\tremaining: 35.2s\n",
      "188:\tlearn: 9.4813717\ttotal: 8.2s\tremaining: 35.2s\n",
      "189:\tlearn: 9.4792657\ttotal: 8.24s\tremaining: 35.1s\n",
      "190:\tlearn: 9.4780181\ttotal: 8.28s\tremaining: 35.1s\n",
      "191:\tlearn: 9.4763563\ttotal: 8.32s\tremaining: 35s\n",
      "192:\tlearn: 9.4733072\ttotal: 8.37s\tremaining: 35s\n",
      "193:\tlearn: 9.4718250\ttotal: 8.4s\tremaining: 34.9s\n",
      "194:\tlearn: 9.4698990\ttotal: 8.44s\tremaining: 34.9s\n",
      "195:\tlearn: 9.4679987\ttotal: 8.48s\tremaining: 34.8s\n",
      "196:\tlearn: 9.4663691\ttotal: 8.52s\tremaining: 34.7s\n",
      "197:\tlearn: 9.4645481\ttotal: 8.56s\tremaining: 34.7s\n",
      "198:\tlearn: 9.4597158\ttotal: 8.6s\tremaining: 34.6s\n",
      "199:\tlearn: 9.4581135\ttotal: 8.64s\tremaining: 34.6s\n",
      "200:\tlearn: 9.4554791\ttotal: 8.69s\tremaining: 34.6s\n",
      "201:\tlearn: 9.4538949\ttotal: 8.73s\tremaining: 34.5s\n",
      "202:\tlearn: 9.4521795\ttotal: 8.77s\tremaining: 34.4s\n",
      "203:\tlearn: 9.4507033\ttotal: 8.8s\tremaining: 34.4s\n",
      "204:\tlearn: 9.4445559\ttotal: 8.85s\tremaining: 34.3s\n",
      "205:\tlearn: 9.4416394\ttotal: 8.88s\tremaining: 34.2s\n",
      "206:\tlearn: 9.4394336\ttotal: 8.94s\tremaining: 34.3s\n",
      "207:\tlearn: 9.4383017\ttotal: 8.98s\tremaining: 34.2s\n",
      "208:\tlearn: 9.4367781\ttotal: 9.02s\tremaining: 34.2s\n",
      "209:\tlearn: 9.4347274\ttotal: 9.08s\tremaining: 34.1s\n",
      "210:\tlearn: 9.4326533\ttotal: 9.13s\tremaining: 34.1s\n",
      "211:\tlearn: 9.4308056\ttotal: 9.16s\tremaining: 34.1s\n",
      "212:\tlearn: 9.4300200\ttotal: 9.2s\tremaining: 34s\n",
      "213:\tlearn: 9.4292430\ttotal: 9.24s\tremaining: 33.9s\n",
      "214:\tlearn: 9.4262425\ttotal: 9.29s\tremaining: 33.9s\n",
      "215:\tlearn: 9.4259090\ttotal: 9.32s\tremaining: 33.8s\n",
      "216:\tlearn: 9.4235500\ttotal: 9.37s\tremaining: 33.8s\n",
      "217:\tlearn: 9.4219512\ttotal: 9.42s\tremaining: 33.8s\n",
      "218:\tlearn: 9.4205476\ttotal: 9.46s\tremaining: 33.7s\n",
      "219:\tlearn: 9.4184608\ttotal: 9.5s\tremaining: 33.7s\n",
      "220:\tlearn: 9.4171694\ttotal: 9.54s\tremaining: 33.6s\n",
      "221:\tlearn: 9.4155931\ttotal: 9.58s\tremaining: 33.6s\n",
      "222:\tlearn: 9.4133653\ttotal: 9.62s\tremaining: 33.5s\n",
      "223:\tlearn: 9.4116310\ttotal: 9.66s\tremaining: 33.5s\n",
      "224:\tlearn: 9.4097913\ttotal: 9.71s\tremaining: 33.4s\n",
      "225:\tlearn: 9.4089159\ttotal: 9.75s\tremaining: 33.4s\n",
      "226:\tlearn: 9.4068147\ttotal: 9.79s\tremaining: 33.3s\n",
      "227:\tlearn: 9.4054202\ttotal: 9.82s\tremaining: 33.3s\n",
      "228:\tlearn: 9.4023611\ttotal: 9.87s\tremaining: 33.2s\n",
      "229:\tlearn: 9.4006750\ttotal: 9.91s\tremaining: 33.2s\n",
      "230:\tlearn: 9.3988683\ttotal: 9.95s\tremaining: 33.1s\n",
      "231:\tlearn: 9.3974576\ttotal: 10s\tremaining: 33.1s\n",
      "232:\tlearn: 9.3922088\ttotal: 10s\tremaining: 33s\n",
      "233:\tlearn: 9.3893722\ttotal: 10.1s\tremaining: 33s\n",
      "234:\tlearn: 9.3874759\ttotal: 10.1s\tremaining: 33s\n",
      "235:\tlearn: 9.3865973\ttotal: 10.2s\tremaining: 32.9s\n",
      "236:\tlearn: 9.3829574\ttotal: 10.2s\tremaining: 32.8s\n",
      "237:\tlearn: 9.3808821\ttotal: 10.2s\tremaining: 32.8s\n",
      "238:\tlearn: 9.3795917\ttotal: 10.3s\tremaining: 32.7s\n",
      "239:\tlearn: 9.3774861\ttotal: 10.3s\tremaining: 32.7s\n",
      "240:\tlearn: 9.3758566\ttotal: 10.4s\tremaining: 32.7s\n",
      "241:\tlearn: 9.3733651\ttotal: 10.4s\tremaining: 32.7s\n",
      "242:\tlearn: 9.3724172\ttotal: 10.5s\tremaining: 32.6s\n",
      "243:\tlearn: 9.3701718\ttotal: 10.5s\tremaining: 32.6s\n",
      "244:\tlearn: 9.3689615\ttotal: 10.6s\tremaining: 32.5s\n",
      "245:\tlearn: 9.3675391\ttotal: 10.6s\tremaining: 32.5s\n",
      "246:\tlearn: 9.3665317\ttotal: 10.6s\tremaining: 32.4s\n",
      "247:\tlearn: 9.3647132\ttotal: 10.7s\tremaining: 32.3s\n",
      "248:\tlearn: 9.3630571\ttotal: 10.7s\tremaining: 32.3s\n",
      "249:\tlearn: 9.3617058\ttotal: 10.7s\tremaining: 32.2s\n",
      "250:\tlearn: 9.3598753\ttotal: 10.8s\tremaining: 32.2s\n",
      "251:\tlearn: 9.3587346\ttotal: 10.8s\tremaining: 32.1s\n",
      "252:\tlearn: 9.3545722\ttotal: 10.9s\tremaining: 32.1s\n",
      "253:\tlearn: 9.3538861\ttotal: 10.9s\tremaining: 32s\n",
      "254:\tlearn: 9.3525481\ttotal: 11s\tremaining: 32s\n",
      "255:\tlearn: 9.3522261\ttotal: 11s\tremaining: 31.9s\n",
      "256:\tlearn: 9.3496124\ttotal: 11s\tremaining: 31.9s\n",
      "257:\tlearn: 9.3479782\ttotal: 11.1s\tremaining: 31.8s\n",
      "258:\tlearn: 9.3446610\ttotal: 11.1s\tremaining: 31.8s\n",
      "259:\tlearn: 9.3428894\ttotal: 11.2s\tremaining: 31.7s\n",
      "260:\tlearn: 9.3413912\ttotal: 11.2s\tremaining: 31.7s\n",
      "261:\tlearn: 9.3374707\ttotal: 11.2s\tremaining: 31.7s\n",
      "262:\tlearn: 9.3359700\ttotal: 11.3s\tremaining: 31.7s\n",
      "263:\tlearn: 9.3352587\ttotal: 11.3s\tremaining: 31.6s\n",
      "264:\tlearn: 9.3334215\ttotal: 11.4s\tremaining: 31.6s\n",
      "265:\tlearn: 9.3321134\ttotal: 11.4s\tremaining: 31.5s\n",
      "266:\tlearn: 9.3287412\ttotal: 11.5s\tremaining: 31.5s\n",
      "267:\tlearn: 9.3275299\ttotal: 11.5s\tremaining: 31.4s\n",
      "268:\tlearn: 9.3265687\ttotal: 11.5s\tremaining: 31.4s\n",
      "269:\tlearn: 9.3256232\ttotal: 11.6s\tremaining: 31.3s\n",
      "270:\tlearn: 9.3232507\ttotal: 11.6s\tremaining: 31.2s\n",
      "271:\tlearn: 9.3220986\ttotal: 11.7s\tremaining: 31.2s\n",
      "272:\tlearn: 9.3213158\ttotal: 11.7s\tremaining: 31.2s\n",
      "273:\tlearn: 9.3204228\ttotal: 11.8s\tremaining: 31.1s\n",
      "274:\tlearn: 9.3156815\ttotal: 11.8s\tremaining: 31.1s\n",
      "275:\tlearn: 9.3146916\ttotal: 11.8s\tremaining: 31.1s\n",
      "276:\tlearn: 9.3123828\ttotal: 11.9s\tremaining: 31s\n",
      "277:\tlearn: 9.3109049\ttotal: 11.9s\tremaining: 31s\n",
      "278:\tlearn: 9.3096794\ttotal: 12s\tremaining: 30.9s\n",
      "279:\tlearn: 9.3084100\ttotal: 12s\tremaining: 30.9s\n",
      "280:\tlearn: 9.3064001\ttotal: 12.1s\tremaining: 30.8s\n",
      "281:\tlearn: 9.3043312\ttotal: 12.1s\tremaining: 30.8s\n",
      "282:\tlearn: 9.3031199\ttotal: 12.1s\tremaining: 30.8s\n",
      "283:\tlearn: 9.3015799\ttotal: 12.2s\tremaining: 30.8s\n",
      "284:\tlearn: 9.2985394\ttotal: 12.2s\tremaining: 30.7s\n",
      "285:\tlearn: 9.2972466\ttotal: 12.3s\tremaining: 30.7s\n",
      "286:\tlearn: 9.2943336\ttotal: 12.3s\tremaining: 30.6s\n",
      "287:\tlearn: 9.2932703\ttotal: 12.4s\tremaining: 30.6s\n",
      "288:\tlearn: 9.2921782\ttotal: 12.4s\tremaining: 30.6s\n",
      "289:\tlearn: 9.2911913\ttotal: 12.5s\tremaining: 30.5s\n",
      "290:\tlearn: 9.2899166\ttotal: 12.5s\tremaining: 30.5s\n",
      "291:\tlearn: 9.2884750\ttotal: 12.5s\tremaining: 30.4s\n",
      "292:\tlearn: 9.2854875\ttotal: 12.6s\tremaining: 30.4s\n",
      "293:\tlearn: 9.2842029\ttotal: 12.6s\tremaining: 30.4s\n",
      "294:\tlearn: 9.2831256\ttotal: 12.7s\tremaining: 30.3s\n",
      "295:\tlearn: 9.2821163\ttotal: 12.7s\tremaining: 30.3s\n",
      "296:\tlearn: 9.2805762\ttotal: 12.8s\tremaining: 30.3s\n",
      "297:\tlearn: 9.2799058\ttotal: 12.8s\tremaining: 30.2s\n",
      "298:\tlearn: 9.2791249\ttotal: 12.9s\tremaining: 30.2s\n",
      "299:\tlearn: 9.2774382\ttotal: 12.9s\tremaining: 30.1s\n",
      "300:\tlearn: 9.2731584\ttotal: 12.9s\tremaining: 30.1s\n",
      "301:\tlearn: 9.2715369\ttotal: 13s\tremaining: 30s\n",
      "302:\tlearn: 9.2700401\ttotal: 13s\tremaining: 30s\n",
      "303:\tlearn: 9.2693113\ttotal: 13.1s\tremaining: 29.9s\n",
      "304:\tlearn: 9.2672789\ttotal: 13.1s\tremaining: 29.9s\n",
      "305:\tlearn: 9.2642805\ttotal: 13.2s\tremaining: 29.8s\n",
      "306:\tlearn: 9.2625093\ttotal: 13.2s\tremaining: 29.8s\n",
      "307:\tlearn: 9.2594639\ttotal: 13.2s\tremaining: 29.7s\n",
      "308:\tlearn: 9.2581899\ttotal: 13.3s\tremaining: 29.7s\n",
      "309:\tlearn: 9.2565523\ttotal: 13.3s\tremaining: 29.6s\n",
      "310:\tlearn: 9.2558536\ttotal: 13.4s\tremaining: 29.6s\n",
      "311:\tlearn: 9.2524153\ttotal: 13.4s\tremaining: 29.6s\n",
      "312:\tlearn: 9.2513517\ttotal: 13.5s\tremaining: 29.5s\n",
      "313:\tlearn: 9.2489562\ttotal: 13.5s\tremaining: 29.5s\n",
      "314:\tlearn: 9.2484210\ttotal: 13.5s\tremaining: 29.5s\n",
      "315:\tlearn: 9.2447788\ttotal: 13.6s\tremaining: 29.4s\n",
      "316:\tlearn: 9.2418922\ttotal: 13.6s\tremaining: 29.4s\n",
      "317:\tlearn: 9.2408550\ttotal: 13.7s\tremaining: 29.3s\n",
      "318:\tlearn: 9.2398517\ttotal: 13.7s\tremaining: 29.3s\n",
      "319:\tlearn: 9.2383858\ttotal: 13.8s\tremaining: 29.2s\n",
      "320:\tlearn: 9.2374883\ttotal: 13.8s\tremaining: 29.2s\n",
      "321:\tlearn: 9.2366983\ttotal: 13.8s\tremaining: 29.2s\n",
      "322:\tlearn: 9.2358482\ttotal: 13.9s\tremaining: 29.1s\n",
      "323:\tlearn: 9.2353423\ttotal: 13.9s\tremaining: 29.1s\n",
      "324:\tlearn: 9.2344101\ttotal: 14s\tremaining: 29s\n",
      "325:\tlearn: 9.2337658\ttotal: 14s\tremaining: 28.9s\n",
      "326:\tlearn: 9.2323343\ttotal: 14s\tremaining: 28.9s\n",
      "327:\tlearn: 9.2277572\ttotal: 14.1s\tremaining: 28.9s\n",
      "328:\tlearn: 9.2268397\ttotal: 14.1s\tremaining: 28.8s\n",
      "329:\tlearn: 9.2250038\ttotal: 14.2s\tremaining: 28.7s\n",
      "330:\tlearn: 9.2241560\ttotal: 14.2s\tremaining: 28.7s\n",
      "331:\tlearn: 9.2216936\ttotal: 14.2s\tremaining: 28.6s\n",
      "332:\tlearn: 9.2178869\ttotal: 14.3s\tremaining: 28.6s\n",
      "333:\tlearn: 9.2164511\ttotal: 14.3s\tremaining: 28.5s\n",
      "334:\tlearn: 9.2148753\ttotal: 14.3s\tremaining: 28.5s\n",
      "335:\tlearn: 9.2139646\ttotal: 14.4s\tremaining: 28.4s\n",
      "336:\tlearn: 9.2128121\ttotal: 14.4s\tremaining: 28.4s\n",
      "337:\tlearn: 9.2120835\ttotal: 14.5s\tremaining: 28.4s\n",
      "338:\tlearn: 9.2113952\ttotal: 14.5s\tremaining: 28.3s\n",
      "339:\tlearn: 9.2073869\ttotal: 14.6s\tremaining: 28.3s\n",
      "340:\tlearn: 9.2060945\ttotal: 14.6s\tremaining: 28.2s\n",
      "341:\tlearn: 9.2054687\ttotal: 14.7s\tremaining: 28.2s\n",
      "342:\tlearn: 9.2043287\ttotal: 14.7s\tremaining: 28.2s\n",
      "343:\tlearn: 9.2014309\ttotal: 14.7s\tremaining: 28.1s\n",
      "344:\tlearn: 9.1993126\ttotal: 14.8s\tremaining: 28.1s\n",
      "345:\tlearn: 9.1978319\ttotal: 14.8s\tremaining: 28s\n",
      "346:\tlearn: 9.1974537\ttotal: 14.9s\tremaining: 28s\n",
      "347:\tlearn: 9.1951163\ttotal: 14.9s\tremaining: 27.9s\n",
      "348:\tlearn: 9.1933645\ttotal: 15s\tremaining: 27.9s\n",
      "349:\tlearn: 9.1916021\ttotal: 15s\tremaining: 27.9s\n",
      "350:\tlearn: 9.1908253\ttotal: 15s\tremaining: 27.8s\n",
      "351:\tlearn: 9.1895780\ttotal: 15.1s\tremaining: 27.8s\n",
      "352:\tlearn: 9.1887552\ttotal: 15.1s\tremaining: 27.7s\n",
      "353:\tlearn: 9.1873612\ttotal: 15.2s\tremaining: 27.7s\n",
      "354:\tlearn: 9.1851023\ttotal: 15.2s\tremaining: 27.7s\n",
      "355:\tlearn: 9.1828976\ttotal: 15.3s\tremaining: 27.6s\n",
      "356:\tlearn: 9.1810284\ttotal: 15.3s\tremaining: 27.6s\n",
      "357:\tlearn: 9.1802640\ttotal: 15.3s\tremaining: 27.5s\n",
      "358:\tlearn: 9.1796071\ttotal: 15.4s\tremaining: 27.5s\n",
      "359:\tlearn: 9.1786979\ttotal: 15.4s\tremaining: 27.4s\n",
      "360:\tlearn: 9.1781477\ttotal: 15.5s\tremaining: 27.4s\n",
      "361:\tlearn: 9.1773303\ttotal: 15.5s\tremaining: 27.3s\n",
      "362:\tlearn: 9.1764028\ttotal: 15.6s\tremaining: 27.3s\n",
      "363:\tlearn: 9.1756550\ttotal: 15.6s\tremaining: 27.3s\n",
      "364:\tlearn: 9.1752353\ttotal: 15.6s\tremaining: 27.2s\n",
      "365:\tlearn: 9.1735312\ttotal: 15.7s\tremaining: 27.2s\n",
      "366:\tlearn: 9.1719819\ttotal: 15.7s\tremaining: 27.1s\n",
      "367:\tlearn: 9.1703014\ttotal: 15.8s\tremaining: 27.1s\n",
      "368:\tlearn: 9.1690376\ttotal: 15.8s\tremaining: 27.1s\n",
      "369:\tlearn: 9.1680096\ttotal: 15.9s\tremaining: 27s\n",
      "370:\tlearn: 9.1664270\ttotal: 15.9s\tremaining: 27s\n",
      "371:\tlearn: 9.1649655\ttotal: 16s\tremaining: 26.9s\n",
      "372:\tlearn: 9.1641318\ttotal: 16s\tremaining: 26.9s\n",
      "373:\tlearn: 9.1628612\ttotal: 16.1s\tremaining: 26.9s\n",
      "374:\tlearn: 9.1620623\ttotal: 16.1s\tremaining: 26.8s\n",
      "375:\tlearn: 9.1603715\ttotal: 16.1s\tremaining: 26.8s\n",
      "376:\tlearn: 9.1588737\ttotal: 16.2s\tremaining: 26.7s\n",
      "377:\tlearn: 9.1573640\ttotal: 16.2s\tremaining: 26.7s\n",
      "378:\tlearn: 9.1565763\ttotal: 16.3s\tremaining: 26.7s\n",
      "379:\tlearn: 9.1556879\ttotal: 16.3s\tremaining: 26.6s\n",
      "380:\tlearn: 9.1547694\ttotal: 16.4s\tremaining: 26.6s\n",
      "381:\tlearn: 9.1542855\ttotal: 16.4s\tremaining: 26.5s\n",
      "382:\tlearn: 9.1530288\ttotal: 16.4s\tremaining: 26.5s\n",
      "383:\tlearn: 9.1519581\ttotal: 16.5s\tremaining: 26.4s\n",
      "384:\tlearn: 9.1509364\ttotal: 16.5s\tremaining: 26.4s\n",
      "385:\tlearn: 9.1501200\ttotal: 16.6s\tremaining: 26.3s\n",
      "386:\tlearn: 9.1497097\ttotal: 16.6s\tremaining: 26.3s\n",
      "387:\tlearn: 9.1457598\ttotal: 16.7s\tremaining: 26.3s\n",
      "388:\tlearn: 9.1432760\ttotal: 16.7s\tremaining: 26.2s\n",
      "389:\tlearn: 9.1418564\ttotal: 16.7s\tremaining: 26.2s\n",
      "390:\tlearn: 9.1414364\ttotal: 16.8s\tremaining: 26.1s\n",
      "391:\tlearn: 9.1392356\ttotal: 16.8s\tremaining: 26.1s\n",
      "392:\tlearn: 9.1384156\ttotal: 16.9s\tremaining: 26s\n",
      "393:\tlearn: 9.1377693\ttotal: 16.9s\tremaining: 26s\n",
      "394:\tlearn: 9.1371326\ttotal: 16.9s\tremaining: 26s\n",
      "395:\tlearn: 9.1348055\ttotal: 17s\tremaining: 25.9s\n",
      "396:\tlearn: 9.1333079\ttotal: 17s\tremaining: 25.9s\n",
      "397:\tlearn: 9.1323421\ttotal: 17.1s\tremaining: 25.8s\n",
      "398:\tlearn: 9.1294341\ttotal: 17.1s\tremaining: 25.8s\n",
      "399:\tlearn: 9.1284991\ttotal: 17.2s\tremaining: 25.8s\n",
      "400:\tlearn: 9.1262446\ttotal: 17.2s\tremaining: 25.7s\n",
      "401:\tlearn: 9.1254399\ttotal: 17.2s\tremaining: 25.6s\n",
      "402:\tlearn: 9.1239575\ttotal: 17.3s\tremaining: 25.6s\n",
      "403:\tlearn: 9.1233706\ttotal: 17.3s\tremaining: 25.6s\n",
      "404:\tlearn: 9.1216919\ttotal: 17.4s\tremaining: 25.5s\n",
      "405:\tlearn: 9.1203945\ttotal: 17.4s\tremaining: 25.5s\n",
      "406:\tlearn: 9.1201221\ttotal: 17.4s\tremaining: 25.4s\n",
      "407:\tlearn: 9.1190858\ttotal: 17.5s\tremaining: 25.3s\n",
      "408:\tlearn: 9.1182419\ttotal: 17.5s\tremaining: 25.3s\n",
      "409:\tlearn: 9.1173102\ttotal: 17.6s\tremaining: 25.3s\n",
      "410:\tlearn: 9.1166657\ttotal: 17.6s\tremaining: 25.2s\n",
      "411:\tlearn: 9.1161843\ttotal: 17.6s\tremaining: 25.2s\n",
      "412:\tlearn: 9.1152300\ttotal: 17.7s\tremaining: 25.1s\n",
      "413:\tlearn: 9.1120964\ttotal: 17.7s\tremaining: 25.1s\n",
      "414:\tlearn: 9.1114035\ttotal: 17.8s\tremaining: 25s\n",
      "415:\tlearn: 9.1108109\ttotal: 17.8s\tremaining: 25s\n",
      "416:\tlearn: 9.1097958\ttotal: 17.8s\tremaining: 24.9s\n",
      "417:\tlearn: 9.1087099\ttotal: 17.9s\tremaining: 24.9s\n",
      "418:\tlearn: 9.1072544\ttotal: 17.9s\tremaining: 24.9s\n",
      "419:\tlearn: 9.1067419\ttotal: 18s\tremaining: 24.8s\n",
      "420:\tlearn: 9.1061538\ttotal: 18s\tremaining: 24.8s\n",
      "421:\tlearn: 9.1056462\ttotal: 18.1s\tremaining: 24.7s\n",
      "422:\tlearn: 9.1045754\ttotal: 18.1s\tremaining: 24.7s\n",
      "423:\tlearn: 9.1036503\ttotal: 18.1s\tremaining: 24.7s\n",
      "424:\tlearn: 9.1024562\ttotal: 18.2s\tremaining: 24.6s\n",
      "425:\tlearn: 9.1018764\ttotal: 18.2s\tremaining: 24.6s\n",
      "426:\tlearn: 9.1003053\ttotal: 18.3s\tremaining: 24.5s\n",
      "427:\tlearn: 9.0991285\ttotal: 18.3s\tremaining: 24.5s\n",
      "428:\tlearn: 9.0978087\ttotal: 18.4s\tremaining: 24.4s\n",
      "429:\tlearn: 9.0961043\ttotal: 18.4s\tremaining: 24.4s\n",
      "430:\tlearn: 9.0953940\ttotal: 18.4s\tremaining: 24.4s\n",
      "431:\tlearn: 9.0948679\ttotal: 18.5s\tremaining: 24.3s\n",
      "432:\tlearn: 9.0938811\ttotal: 18.5s\tremaining: 24.3s\n",
      "433:\tlearn: 9.0935339\ttotal: 18.6s\tremaining: 24.2s\n",
      "434:\tlearn: 9.0920420\ttotal: 18.6s\tremaining: 24.2s\n",
      "435:\tlearn: 9.0910400\ttotal: 18.7s\tremaining: 24.1s\n",
      "436:\tlearn: 9.0886784\ttotal: 18.7s\tremaining: 24.1s\n",
      "437:\tlearn: 9.0881702\ttotal: 18.7s\tremaining: 24s\n",
      "438:\tlearn: 9.0866384\ttotal: 18.8s\tremaining: 24s\n",
      "439:\tlearn: 9.0851445\ttotal: 18.8s\tremaining: 24s\n",
      "440:\tlearn: 9.0837168\ttotal: 18.9s\tremaining: 23.9s\n",
      "441:\tlearn: 9.0830663\ttotal: 18.9s\tremaining: 23.9s\n",
      "442:\tlearn: 9.0819571\ttotal: 19s\tremaining: 23.8s\n",
      "443:\tlearn: 9.0803347\ttotal: 19s\tremaining: 23.8s\n",
      "444:\tlearn: 9.0799037\ttotal: 19.1s\tremaining: 23.8s\n",
      "445:\tlearn: 9.0794220\ttotal: 19.1s\tremaining: 23.7s\n",
      "446:\tlearn: 9.0786914\ttotal: 19.1s\tremaining: 23.7s\n",
      "447:\tlearn: 9.0778157\ttotal: 19.2s\tremaining: 23.6s\n",
      "448:\tlearn: 9.0773089\ttotal: 19.2s\tremaining: 23.6s\n",
      "449:\tlearn: 9.0762273\ttotal: 19.3s\tremaining: 23.6s\n",
      "450:\tlearn: 9.0756735\ttotal: 19.3s\tremaining: 23.5s\n",
      "451:\tlearn: 9.0744950\ttotal: 19.4s\tremaining: 23.5s\n",
      "452:\tlearn: 9.0732704\ttotal: 19.4s\tremaining: 23.4s\n",
      "453:\tlearn: 9.0721323\ttotal: 19.5s\tremaining: 23.4s\n",
      "454:\tlearn: 9.0714053\ttotal: 19.5s\tremaining: 23.4s\n",
      "455:\tlearn: 9.0711663\ttotal: 19.5s\tremaining: 23.3s\n",
      "456:\tlearn: 9.0707521\ttotal: 19.6s\tremaining: 23.3s\n",
      "457:\tlearn: 9.0696882\ttotal: 19.6s\tremaining: 23.2s\n",
      "458:\tlearn: 9.0684081\ttotal: 19.7s\tremaining: 23.2s\n",
      "459:\tlearn: 9.0672117\ttotal: 19.7s\tremaining: 23.1s\n",
      "460:\tlearn: 9.0659105\ttotal: 19.8s\tremaining: 23.1s\n",
      "461:\tlearn: 9.0641751\ttotal: 19.8s\tremaining: 23.1s\n",
      "462:\tlearn: 9.0635896\ttotal: 19.8s\tremaining: 23s\n",
      "463:\tlearn: 9.0633614\ttotal: 19.9s\tremaining: 23s\n",
      "464:\tlearn: 9.0624788\ttotal: 19.9s\tremaining: 22.9s\n",
      "465:\tlearn: 9.0616364\ttotal: 20s\tremaining: 22.9s\n",
      "466:\tlearn: 9.0610155\ttotal: 20s\tremaining: 22.8s\n",
      "467:\tlearn: 9.0601565\ttotal: 20.1s\tremaining: 22.8s\n",
      "468:\tlearn: 9.0590872\ttotal: 20.1s\tremaining: 22.8s\n",
      "469:\tlearn: 9.0590434\ttotal: 20.1s\tremaining: 22.7s\n",
      "470:\tlearn: 9.0583076\ttotal: 20.2s\tremaining: 22.7s\n",
      "471:\tlearn: 9.0576655\ttotal: 20.2s\tremaining: 22.6s\n",
      "472:\tlearn: 9.0565186\ttotal: 20.3s\tremaining: 22.6s\n",
      "473:\tlearn: 9.0557332\ttotal: 20.3s\tremaining: 22.5s\n",
      "474:\tlearn: 9.0527980\ttotal: 20.3s\tremaining: 22.5s\n",
      "475:\tlearn: 9.0515995\ttotal: 20.4s\tremaining: 22.4s\n",
      "476:\tlearn: 9.0515631\ttotal: 20.4s\tremaining: 22.4s\n",
      "477:\tlearn: 9.0502313\ttotal: 20.5s\tremaining: 22.3s\n",
      "478:\tlearn: 9.0492798\ttotal: 20.5s\tremaining: 22.3s\n",
      "479:\tlearn: 9.0478590\ttotal: 20.6s\tremaining: 22.3s\n",
      "480:\tlearn: 9.0476414\ttotal: 20.6s\tremaining: 22.2s\n",
      "481:\tlearn: 9.0475254\ttotal: 20.6s\tremaining: 22.2s\n",
      "482:\tlearn: 9.0472830\ttotal: 20.7s\tremaining: 22.1s\n",
      "483:\tlearn: 9.0472081\ttotal: 20.7s\tremaining: 22.1s\n",
      "484:\tlearn: 9.0466963\ttotal: 20.7s\tremaining: 22s\n",
      "485:\tlearn: 9.0453042\ttotal: 20.8s\tremaining: 22s\n",
      "486:\tlearn: 9.0432180\ttotal: 20.8s\tremaining: 21.9s\n",
      "487:\tlearn: 9.0421818\ttotal: 20.9s\tremaining: 21.9s\n",
      "488:\tlearn: 9.0413286\ttotal: 20.9s\tremaining: 21.8s\n",
      "489:\tlearn: 9.0401692\ttotal: 20.9s\tremaining: 21.8s\n",
      "490:\tlearn: 9.0397180\ttotal: 21s\tremaining: 21.8s\n",
      "491:\tlearn: 9.0390675\ttotal: 21s\tremaining: 21.7s\n",
      "492:\tlearn: 9.0381735\ttotal: 21.1s\tremaining: 21.7s\n",
      "493:\tlearn: 9.0361168\ttotal: 21.1s\tremaining: 21.6s\n",
      "494:\tlearn: 9.0339720\ttotal: 21.2s\tremaining: 21.6s\n",
      "495:\tlearn: 9.0328882\ttotal: 21.2s\tremaining: 21.6s\n",
      "496:\tlearn: 9.0322170\ttotal: 21.3s\tremaining: 21.5s\n",
      "497:\tlearn: 9.0315943\ttotal: 21.3s\tremaining: 21.5s\n",
      "498:\tlearn: 9.0305039\ttotal: 21.4s\tremaining: 21.4s\n",
      "499:\tlearn: 9.0287622\ttotal: 21.4s\tremaining: 21.4s\n",
      "500:\tlearn: 9.0277569\ttotal: 21.4s\tremaining: 21.4s\n",
      "501:\tlearn: 9.0269563\ttotal: 21.5s\tremaining: 21.3s\n",
      "502:\tlearn: 9.0258591\ttotal: 21.5s\tremaining: 21.3s\n",
      "503:\tlearn: 9.0253759\ttotal: 21.6s\tremaining: 21.2s\n",
      "504:\tlearn: 9.0250179\ttotal: 21.6s\tremaining: 21.2s\n",
      "505:\tlearn: 9.0242458\ttotal: 21.7s\tremaining: 21.1s\n",
      "506:\tlearn: 9.0233988\ttotal: 21.7s\tremaining: 21.1s\n",
      "507:\tlearn: 9.0227365\ttotal: 21.8s\tremaining: 21.1s\n",
      "508:\tlearn: 9.0222877\ttotal: 21.8s\tremaining: 21s\n",
      "509:\tlearn: 9.0211101\ttotal: 21.8s\tremaining: 21s\n",
      "510:\tlearn: 9.0199719\ttotal: 21.9s\tremaining: 20.9s\n",
      "511:\tlearn: 9.0197515\ttotal: 21.9s\tremaining: 20.9s\n",
      "512:\tlearn: 9.0184885\ttotal: 22s\tremaining: 20.9s\n",
      "513:\tlearn: 9.0171171\ttotal: 22s\tremaining: 20.8s\n",
      "514:\tlearn: 9.0163595\ttotal: 22.1s\tremaining: 20.8s\n",
      "515:\tlearn: 9.0153396\ttotal: 22.1s\tremaining: 20.7s\n",
      "516:\tlearn: 9.0139654\ttotal: 22.1s\tremaining: 20.7s\n",
      "517:\tlearn: 9.0131605\ttotal: 22.2s\tremaining: 20.6s\n",
      "518:\tlearn: 9.0126373\ttotal: 22.2s\tremaining: 20.6s\n",
      "519:\tlearn: 9.0117134\ttotal: 22.3s\tremaining: 20.5s\n",
      "520:\tlearn: 9.0109482\ttotal: 22.3s\tremaining: 20.5s\n",
      "521:\tlearn: 9.0096046\ttotal: 22.3s\tremaining: 20.5s\n",
      "522:\tlearn: 9.0089709\ttotal: 22.4s\tremaining: 20.4s\n",
      "523:\tlearn: 9.0075659\ttotal: 22.4s\tremaining: 20.4s\n",
      "524:\tlearn: 9.0067382\ttotal: 22.5s\tremaining: 20.3s\n",
      "525:\tlearn: 9.0049446\ttotal: 22.5s\tremaining: 20.3s\n",
      "526:\tlearn: 9.0042742\ttotal: 22.6s\tremaining: 20.3s\n",
      "527:\tlearn: 9.0032940\ttotal: 22.6s\tremaining: 20.2s\n",
      "528:\tlearn: 9.0021772\ttotal: 22.7s\tremaining: 20.2s\n",
      "529:\tlearn: 9.0015623\ttotal: 22.7s\tremaining: 20.1s\n",
      "530:\tlearn: 9.0000903\ttotal: 22.8s\tremaining: 20.1s\n",
      "531:\tlearn: 8.9992958\ttotal: 22.8s\tremaining: 20.1s\n",
      "532:\tlearn: 8.9986344\ttotal: 22.8s\tremaining: 20s\n",
      "533:\tlearn: 8.9973838\ttotal: 22.9s\tremaining: 20s\n",
      "534:\tlearn: 8.9967830\ttotal: 22.9s\tremaining: 19.9s\n",
      "535:\tlearn: 8.9960773\ttotal: 23s\tremaining: 19.9s\n",
      "536:\tlearn: 8.9956976\ttotal: 23s\tremaining: 19.8s\n",
      "537:\tlearn: 8.9948824\ttotal: 23.1s\tremaining: 19.8s\n",
      "538:\tlearn: 8.9936837\ttotal: 23.1s\tremaining: 19.8s\n",
      "539:\tlearn: 8.9933071\ttotal: 23.1s\tremaining: 19.7s\n",
      "540:\tlearn: 8.9924960\ttotal: 23.2s\tremaining: 19.7s\n",
      "541:\tlearn: 8.9916003\ttotal: 23.2s\tremaining: 19.6s\n",
      "542:\tlearn: 8.9908307\ttotal: 23.3s\tremaining: 19.6s\n",
      "543:\tlearn: 8.9894850\ttotal: 23.3s\tremaining: 19.5s\n",
      "544:\tlearn: 8.9884723\ttotal: 23.4s\tremaining: 19.5s\n",
      "545:\tlearn: 8.9875013\ttotal: 23.4s\tremaining: 19.5s\n",
      "546:\tlearn: 8.9855061\ttotal: 23.5s\tremaining: 19.4s\n",
      "547:\tlearn: 8.9850397\ttotal: 23.5s\tremaining: 19.4s\n",
      "548:\tlearn: 8.9834654\ttotal: 23.5s\tremaining: 19.3s\n",
      "549:\tlearn: 8.9829328\ttotal: 23.6s\tremaining: 19.3s\n",
      "550:\tlearn: 8.9821931\ttotal: 23.6s\tremaining: 19.3s\n",
      "551:\tlearn: 8.9812636\ttotal: 23.7s\tremaining: 19.2s\n",
      "552:\tlearn: 8.9806233\ttotal: 23.7s\tremaining: 19.2s\n",
      "553:\tlearn: 8.9798988\ttotal: 23.8s\tremaining: 19.1s\n",
      "554:\tlearn: 8.9783145\ttotal: 23.8s\tremaining: 19.1s\n",
      "555:\tlearn: 8.9775815\ttotal: 23.8s\tremaining: 19s\n",
      "556:\tlearn: 8.9770431\ttotal: 23.9s\tremaining: 19s\n",
      "557:\tlearn: 8.9754634\ttotal: 23.9s\tremaining: 19s\n",
      "558:\tlearn: 8.9745808\ttotal: 24s\tremaining: 18.9s\n",
      "559:\tlearn: 8.9739676\ttotal: 24s\tremaining: 18.9s\n",
      "560:\tlearn: 8.9729592\ttotal: 24.1s\tremaining: 18.8s\n",
      "561:\tlearn: 8.9719466\ttotal: 24.1s\tremaining: 18.8s\n",
      "562:\tlearn: 8.9712315\ttotal: 24.2s\tremaining: 18.7s\n",
      "563:\tlearn: 8.9702173\ttotal: 24.2s\tremaining: 18.7s\n",
      "564:\tlearn: 8.9698609\ttotal: 24.2s\tremaining: 18.7s\n",
      "565:\tlearn: 8.9690977\ttotal: 24.3s\tremaining: 18.6s\n",
      "566:\tlearn: 8.9686788\ttotal: 24.3s\tremaining: 18.6s\n",
      "567:\tlearn: 8.9683792\ttotal: 24.3s\tremaining: 18.5s\n",
      "568:\tlearn: 8.9676101\ttotal: 24.4s\tremaining: 18.5s\n",
      "569:\tlearn: 8.9670193\ttotal: 24.4s\tremaining: 18.4s\n",
      "570:\tlearn: 8.9645075\ttotal: 24.5s\tremaining: 18.4s\n",
      "571:\tlearn: 8.9639708\ttotal: 24.5s\tremaining: 18.3s\n",
      "572:\tlearn: 8.9631199\ttotal: 24.6s\tremaining: 18.3s\n",
      "573:\tlearn: 8.9620570\ttotal: 24.6s\tremaining: 18.3s\n",
      "574:\tlearn: 8.9613507\ttotal: 24.6s\tremaining: 18.2s\n",
      "575:\tlearn: 8.9610381\ttotal: 24.7s\tremaining: 18.2s\n",
      "576:\tlearn: 8.9604629\ttotal: 24.7s\tremaining: 18.1s\n",
      "577:\tlearn: 8.9597677\ttotal: 24.8s\tremaining: 18.1s\n",
      "578:\tlearn: 8.9590764\ttotal: 24.8s\tremaining: 18s\n",
      "579:\tlearn: 8.9581624\ttotal: 24.9s\tremaining: 18s\n",
      "580:\tlearn: 8.9576109\ttotal: 24.9s\tremaining: 18s\n",
      "581:\tlearn: 8.9566596\ttotal: 25s\tremaining: 17.9s\n",
      "582:\tlearn: 8.9560242\ttotal: 25s\tremaining: 17.9s\n",
      "583:\tlearn: 8.9551140\ttotal: 25s\tremaining: 17.8s\n",
      "584:\tlearn: 8.9546981\ttotal: 25.1s\tremaining: 17.8s\n",
      "585:\tlearn: 8.9539977\ttotal: 25.1s\tremaining: 17.7s\n",
      "586:\tlearn: 8.9534976\ttotal: 25.2s\tremaining: 17.7s\n",
      "587:\tlearn: 8.9526957\ttotal: 25.2s\tremaining: 17.7s\n",
      "588:\tlearn: 8.9524890\ttotal: 25.2s\tremaining: 17.6s\n",
      "589:\tlearn: 8.9514136\ttotal: 25.3s\tremaining: 17.6s\n",
      "590:\tlearn: 8.9502990\ttotal: 25.3s\tremaining: 17.5s\n",
      "591:\tlearn: 8.9494632\ttotal: 25.4s\tremaining: 17.5s\n",
      "592:\tlearn: 8.9482769\ttotal: 25.4s\tremaining: 17.5s\n",
      "593:\tlearn: 8.9473791\ttotal: 25.5s\tremaining: 17.4s\n",
      "594:\tlearn: 8.9467241\ttotal: 25.5s\tremaining: 17.4s\n",
      "595:\tlearn: 8.9458359\ttotal: 25.5s\tremaining: 17.3s\n",
      "596:\tlearn: 8.9447140\ttotal: 25.6s\tremaining: 17.3s\n",
      "597:\tlearn: 8.9442461\ttotal: 25.6s\tremaining: 17.2s\n",
      "598:\tlearn: 8.9428869\ttotal: 25.7s\tremaining: 17.2s\n",
      "599:\tlearn: 8.9422182\ttotal: 25.7s\tremaining: 17.2s\n",
      "600:\tlearn: 8.9415509\ttotal: 25.8s\tremaining: 17.1s\n",
      "601:\tlearn: 8.9409534\ttotal: 25.8s\tremaining: 17.1s\n",
      "602:\tlearn: 8.9401668\ttotal: 25.9s\tremaining: 17s\n",
      "603:\tlearn: 8.9399056\ttotal: 25.9s\tremaining: 17s\n",
      "604:\tlearn: 8.9394597\ttotal: 25.9s\tremaining: 16.9s\n",
      "605:\tlearn: 8.9388021\ttotal: 26s\tremaining: 16.9s\n",
      "606:\tlearn: 8.9381782\ttotal: 26s\tremaining: 16.9s\n",
      "607:\tlearn: 8.9377728\ttotal: 26.1s\tremaining: 16.8s\n",
      "608:\tlearn: 8.9368481\ttotal: 26.1s\tremaining: 16.8s\n",
      "609:\tlearn: 8.9342440\ttotal: 26.1s\tremaining: 16.7s\n",
      "610:\tlearn: 8.9330289\ttotal: 26.2s\tremaining: 16.7s\n",
      "611:\tlearn: 8.9328031\ttotal: 26.2s\tremaining: 16.6s\n",
      "612:\tlearn: 8.9324538\ttotal: 26.3s\tremaining: 16.6s\n",
      "613:\tlearn: 8.9318322\ttotal: 26.3s\tremaining: 16.5s\n",
      "614:\tlearn: 8.9312442\ttotal: 26.4s\tremaining: 16.5s\n",
      "615:\tlearn: 8.9309271\ttotal: 26.4s\tremaining: 16.5s\n",
      "616:\tlearn: 8.9304503\ttotal: 26.4s\tremaining: 16.4s\n",
      "617:\tlearn: 8.9297219\ttotal: 26.5s\tremaining: 16.4s\n",
      "618:\tlearn: 8.9287798\ttotal: 26.5s\tremaining: 16.3s\n",
      "619:\tlearn: 8.9284964\ttotal: 26.6s\tremaining: 16.3s\n",
      "620:\tlearn: 8.9280086\ttotal: 26.6s\tremaining: 16.2s\n",
      "621:\tlearn: 8.9269449\ttotal: 26.6s\tremaining: 16.2s\n",
      "622:\tlearn: 8.9268810\ttotal: 26.7s\tremaining: 16.1s\n",
      "623:\tlearn: 8.9257662\ttotal: 26.7s\tremaining: 16.1s\n",
      "624:\tlearn: 8.9250846\ttotal: 26.8s\tremaining: 16.1s\n",
      "625:\tlearn: 8.9242779\ttotal: 26.8s\tremaining: 16s\n",
      "626:\tlearn: 8.9230741\ttotal: 26.8s\tremaining: 16s\n",
      "627:\tlearn: 8.9225405\ttotal: 26.9s\tremaining: 15.9s\n",
      "628:\tlearn: 8.9217397\ttotal: 26.9s\tremaining: 15.9s\n",
      "629:\tlearn: 8.9212899\ttotal: 27s\tremaining: 15.8s\n",
      "630:\tlearn: 8.9204177\ttotal: 27s\tremaining: 15.8s\n",
      "631:\tlearn: 8.9196604\ttotal: 27.1s\tremaining: 15.8s\n",
      "632:\tlearn: 8.9186304\ttotal: 27.1s\tremaining: 15.7s\n",
      "633:\tlearn: 8.9183088\ttotal: 27.1s\tremaining: 15.7s\n",
      "634:\tlearn: 8.9178222\ttotal: 27.2s\tremaining: 15.6s\n",
      "635:\tlearn: 8.9172589\ttotal: 27.2s\tremaining: 15.6s\n",
      "636:\tlearn: 8.9164913\ttotal: 27.3s\tremaining: 15.5s\n",
      "637:\tlearn: 8.9159070\ttotal: 27.3s\tremaining: 15.5s\n",
      "638:\tlearn: 8.9154524\ttotal: 27.3s\tremaining: 15.4s\n",
      "639:\tlearn: 8.9149528\ttotal: 27.4s\tremaining: 15.4s\n",
      "640:\tlearn: 8.9142622\ttotal: 27.4s\tremaining: 15.4s\n",
      "641:\tlearn: 8.9134490\ttotal: 27.5s\tremaining: 15.3s\n",
      "642:\tlearn: 8.9116478\ttotal: 27.5s\tremaining: 15.3s\n",
      "643:\tlearn: 8.9111576\ttotal: 27.6s\tremaining: 15.2s\n",
      "644:\tlearn: 8.9105877\ttotal: 27.6s\tremaining: 15.2s\n",
      "645:\tlearn: 8.9093326\ttotal: 27.6s\tremaining: 15.1s\n",
      "646:\tlearn: 8.9082252\ttotal: 27.7s\tremaining: 15.1s\n",
      "647:\tlearn: 8.9071358\ttotal: 27.7s\tremaining: 15.1s\n",
      "648:\tlearn: 8.9062487\ttotal: 27.8s\tremaining: 15s\n",
      "649:\tlearn: 8.9048951\ttotal: 27.8s\tremaining: 15s\n",
      "650:\tlearn: 8.9045402\ttotal: 27.9s\tremaining: 14.9s\n",
      "651:\tlearn: 8.9036460\ttotal: 27.9s\tremaining: 14.9s\n",
      "652:\tlearn: 8.9030141\ttotal: 28s\tremaining: 14.9s\n",
      "653:\tlearn: 8.9026872\ttotal: 28s\tremaining: 14.8s\n",
      "654:\tlearn: 8.9020750\ttotal: 28s\tremaining: 14.8s\n",
      "655:\tlearn: 8.9010165\ttotal: 28.1s\tremaining: 14.7s\n",
      "656:\tlearn: 8.9000834\ttotal: 28.1s\tremaining: 14.7s\n",
      "657:\tlearn: 8.8994950\ttotal: 28.2s\tremaining: 14.6s\n",
      "658:\tlearn: 8.8988289\ttotal: 28.2s\tremaining: 14.6s\n",
      "659:\tlearn: 8.8983394\ttotal: 28.3s\tremaining: 14.6s\n",
      "660:\tlearn: 8.8975321\ttotal: 28.3s\tremaining: 14.5s\n",
      "661:\tlearn: 8.8969645\ttotal: 28.4s\tremaining: 14.5s\n",
      "662:\tlearn: 8.8963860\ttotal: 28.4s\tremaining: 14.4s\n",
      "663:\tlearn: 8.8950145\ttotal: 28.4s\tremaining: 14.4s\n",
      "664:\tlearn: 8.8942118\ttotal: 28.5s\tremaining: 14.4s\n",
      "665:\tlearn: 8.8934385\ttotal: 28.5s\tremaining: 14.3s\n",
      "666:\tlearn: 8.8930327\ttotal: 28.6s\tremaining: 14.3s\n",
      "667:\tlearn: 8.8923796\ttotal: 28.6s\tremaining: 14.2s\n",
      "668:\tlearn: 8.8915837\ttotal: 28.7s\tremaining: 14.2s\n",
      "669:\tlearn: 8.8911506\ttotal: 28.7s\tremaining: 14.1s\n",
      "670:\tlearn: 8.8905738\ttotal: 28.8s\tremaining: 14.1s\n",
      "671:\tlearn: 8.8893458\ttotal: 28.8s\tremaining: 14.1s\n",
      "672:\tlearn: 8.8888923\ttotal: 28.8s\tremaining: 14s\n",
      "673:\tlearn: 8.8879130\ttotal: 28.9s\tremaining: 14s\n",
      "674:\tlearn: 8.8876671\ttotal: 28.9s\tremaining: 13.9s\n",
      "675:\tlearn: 8.8872285\ttotal: 29s\tremaining: 13.9s\n",
      "676:\tlearn: 8.8858443\ttotal: 29s\tremaining: 13.8s\n",
      "677:\tlearn: 8.8852712\ttotal: 29s\tremaining: 13.8s\n",
      "678:\tlearn: 8.8850056\ttotal: 29.1s\tremaining: 13.8s\n",
      "679:\tlearn: 8.8841993\ttotal: 29.1s\tremaining: 13.7s\n",
      "680:\tlearn: 8.8835749\ttotal: 29.2s\tremaining: 13.7s\n",
      "681:\tlearn: 8.8829468\ttotal: 29.2s\tremaining: 13.6s\n",
      "682:\tlearn: 8.8822563\ttotal: 29.3s\tremaining: 13.6s\n",
      "683:\tlearn: 8.8817627\ttotal: 29.3s\tremaining: 13.5s\n",
      "684:\tlearn: 8.8810099\ttotal: 29.4s\tremaining: 13.5s\n",
      "685:\tlearn: 8.8803435\ttotal: 29.4s\tremaining: 13.5s\n",
      "686:\tlearn: 8.8803091\ttotal: 29.4s\tremaining: 13.4s\n",
      "687:\tlearn: 8.8796576\ttotal: 29.5s\tremaining: 13.4s\n",
      "688:\tlearn: 8.8792215\ttotal: 29.5s\tremaining: 13.3s\n",
      "689:\tlearn: 8.8785233\ttotal: 29.6s\tremaining: 13.3s\n",
      "690:\tlearn: 8.8782283\ttotal: 29.6s\tremaining: 13.2s\n",
      "691:\tlearn: 8.8774714\ttotal: 29.7s\tremaining: 13.2s\n",
      "692:\tlearn: 8.8767242\ttotal: 29.7s\tremaining: 13.2s\n",
      "693:\tlearn: 8.8763757\ttotal: 29.8s\tremaining: 13.1s\n",
      "694:\tlearn: 8.8758627\ttotal: 29.8s\tremaining: 13.1s\n",
      "695:\tlearn: 8.8752960\ttotal: 29.8s\tremaining: 13s\n",
      "696:\tlearn: 8.8750394\ttotal: 29.9s\tremaining: 13s\n",
      "697:\tlearn: 8.8742410\ttotal: 29.9s\tremaining: 12.9s\n",
      "698:\tlearn: 8.8735217\ttotal: 30s\tremaining: 12.9s\n",
      "699:\tlearn: 8.8727134\ttotal: 30s\tremaining: 12.9s\n",
      "700:\tlearn: 8.8725538\ttotal: 30s\tremaining: 12.8s\n",
      "701:\tlearn: 8.8720631\ttotal: 30.1s\tremaining: 12.8s\n",
      "702:\tlearn: 8.8713951\ttotal: 30.1s\tremaining: 12.7s\n",
      "703:\tlearn: 8.8712267\ttotal: 30.2s\tremaining: 12.7s\n",
      "704:\tlearn: 8.8702843\ttotal: 30.2s\tremaining: 12.6s\n",
      "705:\tlearn: 8.8694980\ttotal: 30.2s\tremaining: 12.6s\n",
      "706:\tlearn: 8.8683183\ttotal: 30.3s\tremaining: 12.6s\n",
      "707:\tlearn: 8.8679982\ttotal: 30.3s\tremaining: 12.5s\n",
      "708:\tlearn: 8.8678053\ttotal: 30.4s\tremaining: 12.5s\n",
      "709:\tlearn: 8.8670019\ttotal: 30.4s\tremaining: 12.4s\n",
      "710:\tlearn: 8.8662975\ttotal: 30.5s\tremaining: 12.4s\n",
      "711:\tlearn: 8.8656520\ttotal: 30.5s\tremaining: 12.3s\n",
      "712:\tlearn: 8.8653325\ttotal: 30.6s\tremaining: 12.3s\n",
      "713:\tlearn: 8.8651142\ttotal: 30.6s\tremaining: 12.3s\n",
      "714:\tlearn: 8.8644262\ttotal: 30.6s\tremaining: 12.2s\n",
      "715:\tlearn: 8.8638676\ttotal: 30.7s\tremaining: 12.2s\n",
      "716:\tlearn: 8.8633340\ttotal: 30.7s\tremaining: 12.1s\n",
      "717:\tlearn: 8.8622775\ttotal: 30.8s\tremaining: 12.1s\n",
      "718:\tlearn: 8.8621437\ttotal: 30.8s\tremaining: 12s\n",
      "719:\tlearn: 8.8615376\ttotal: 30.8s\tremaining: 12s\n",
      "720:\tlearn: 8.8611106\ttotal: 30.9s\tremaining: 12s\n",
      "721:\tlearn: 8.8608229\ttotal: 30.9s\tremaining: 11.9s\n",
      "722:\tlearn: 8.8602236\ttotal: 31s\tremaining: 11.9s\n",
      "723:\tlearn: 8.8592810\ttotal: 31s\tremaining: 11.8s\n",
      "724:\tlearn: 8.8585354\ttotal: 31.1s\tremaining: 11.8s\n",
      "725:\tlearn: 8.8581202\ttotal: 31.1s\tremaining: 11.7s\n",
      "726:\tlearn: 8.8576213\ttotal: 31.2s\tremaining: 11.7s\n",
      "727:\tlearn: 8.8567780\ttotal: 31.2s\tremaining: 11.7s\n",
      "728:\tlearn: 8.8563990\ttotal: 31.3s\tremaining: 11.6s\n",
      "729:\tlearn: 8.8558280\ttotal: 31.3s\tremaining: 11.6s\n",
      "730:\tlearn: 8.8548742\ttotal: 31.3s\tremaining: 11.5s\n",
      "731:\tlearn: 8.8543194\ttotal: 31.4s\tremaining: 11.5s\n",
      "732:\tlearn: 8.8535346\ttotal: 31.4s\tremaining: 11.4s\n",
      "733:\tlearn: 8.8521872\ttotal: 31.5s\tremaining: 11.4s\n",
      "734:\tlearn: 8.8517121\ttotal: 31.5s\tremaining: 11.4s\n",
      "735:\tlearn: 8.8516994\ttotal: 31.5s\tremaining: 11.3s\n",
      "736:\tlearn: 8.8510637\ttotal: 31.6s\tremaining: 11.3s\n",
      "737:\tlearn: 8.8504485\ttotal: 31.6s\tremaining: 11.2s\n",
      "738:\tlearn: 8.8496538\ttotal: 31.7s\tremaining: 11.2s\n",
      "739:\tlearn: 8.8494699\ttotal: 31.7s\tremaining: 11.1s\n",
      "740:\tlearn: 8.8482555\ttotal: 31.8s\tremaining: 11.1s\n",
      "741:\tlearn: 8.8477725\ttotal: 31.8s\tremaining: 11.1s\n",
      "742:\tlearn: 8.8475613\ttotal: 31.8s\tremaining: 11s\n",
      "743:\tlearn: 8.8472307\ttotal: 31.9s\tremaining: 11s\n",
      "744:\tlearn: 8.8464143\ttotal: 31.9s\tremaining: 10.9s\n",
      "745:\tlearn: 8.8458971\ttotal: 32s\tremaining: 10.9s\n",
      "746:\tlearn: 8.8455487\ttotal: 32s\tremaining: 10.8s\n",
      "747:\tlearn: 8.8454977\ttotal: 32.1s\tremaining: 10.8s\n",
      "748:\tlearn: 8.8449144\ttotal: 32.1s\tremaining: 10.8s\n",
      "749:\tlearn: 8.8443124\ttotal: 32.2s\tremaining: 10.7s\n",
      "750:\tlearn: 8.8435755\ttotal: 32.2s\tremaining: 10.7s\n",
      "751:\tlearn: 8.8426601\ttotal: 32.2s\tremaining: 10.6s\n",
      "752:\tlearn: 8.8423514\ttotal: 32.3s\tremaining: 10.6s\n",
      "753:\tlearn: 8.8417848\ttotal: 32.3s\tremaining: 10.5s\n",
      "754:\tlearn: 8.8412446\ttotal: 32.4s\tremaining: 10.5s\n",
      "755:\tlearn: 8.8402556\ttotal: 32.4s\tremaining: 10.5s\n",
      "756:\tlearn: 8.8398142\ttotal: 32.4s\tremaining: 10.4s\n",
      "757:\tlearn: 8.8388351\ttotal: 32.5s\tremaining: 10.4s\n",
      "758:\tlearn: 8.8371746\ttotal: 32.5s\tremaining: 10.3s\n",
      "759:\tlearn: 8.8364886\ttotal: 32.6s\tremaining: 10.3s\n",
      "760:\tlearn: 8.8360806\ttotal: 32.6s\tremaining: 10.2s\n",
      "761:\tlearn: 8.8353460\ttotal: 32.7s\tremaining: 10.2s\n",
      "762:\tlearn: 8.8345049\ttotal: 32.7s\tremaining: 10.2s\n",
      "763:\tlearn: 8.8336455\ttotal: 32.7s\tremaining: 10.1s\n",
      "764:\tlearn: 8.8333918\ttotal: 32.8s\tremaining: 10.1s\n",
      "765:\tlearn: 8.8332504\ttotal: 32.8s\tremaining: 10s\n",
      "766:\tlearn: 8.8327971\ttotal: 32.9s\tremaining: 9.99s\n",
      "767:\tlearn: 8.8320495\ttotal: 32.9s\tremaining: 9.94s\n",
      "768:\tlearn: 8.8316848\ttotal: 33s\tremaining: 9.9s\n",
      "769:\tlearn: 8.8305430\ttotal: 33s\tremaining: 9.86s\n",
      "770:\tlearn: 8.8284580\ttotal: 33.1s\tremaining: 9.82s\n",
      "771:\tlearn: 8.8278830\ttotal: 33.1s\tremaining: 9.78s\n",
      "772:\tlearn: 8.8271255\ttotal: 33.1s\tremaining: 9.73s\n",
      "773:\tlearn: 8.8264971\ttotal: 33.2s\tremaining: 9.69s\n",
      "774:\tlearn: 8.8260207\ttotal: 33.2s\tremaining: 9.64s\n",
      "775:\tlearn: 8.8247417\ttotal: 33.3s\tremaining: 9.6s\n",
      "776:\tlearn: 8.8243482\ttotal: 33.3s\tremaining: 9.56s\n",
      "777:\tlearn: 8.8239364\ttotal: 33.3s\tremaining: 9.52s\n",
      "778:\tlearn: 8.8235085\ttotal: 33.4s\tremaining: 9.47s\n",
      "779:\tlearn: 8.8232292\ttotal: 33.4s\tremaining: 9.43s\n",
      "780:\tlearn: 8.8229709\ttotal: 33.5s\tremaining: 9.39s\n",
      "781:\tlearn: 8.8223428\ttotal: 33.5s\tremaining: 9.35s\n",
      "782:\tlearn: 8.8214614\ttotal: 33.6s\tremaining: 9.3s\n",
      "783:\tlearn: 8.8212656\ttotal: 33.6s\tremaining: 9.26s\n",
      "784:\tlearn: 8.8209377\ttotal: 33.7s\tremaining: 9.22s\n",
      "785:\tlearn: 8.8203425\ttotal: 33.7s\tremaining: 9.18s\n",
      "786:\tlearn: 8.8198659\ttotal: 33.8s\tremaining: 9.14s\n",
      "787:\tlearn: 8.8194062\ttotal: 33.8s\tremaining: 9.09s\n",
      "788:\tlearn: 8.8187438\ttotal: 33.8s\tremaining: 9.05s\n",
      "789:\tlearn: 8.8181481\ttotal: 33.9s\tremaining: 9.01s\n",
      "790:\tlearn: 8.8177872\ttotal: 33.9s\tremaining: 8.96s\n",
      "791:\tlearn: 8.8172501\ttotal: 34s\tremaining: 8.92s\n",
      "792:\tlearn: 8.8171527\ttotal: 34s\tremaining: 8.88s\n",
      "793:\tlearn: 8.8161182\ttotal: 34s\tremaining: 8.83s\n",
      "794:\tlearn: 8.8153026\ttotal: 34.1s\tremaining: 8.79s\n",
      "795:\tlearn: 8.8147640\ttotal: 34.1s\tremaining: 8.74s\n",
      "796:\tlearn: 8.8147174\ttotal: 34.2s\tremaining: 8.7s\n",
      "797:\tlearn: 8.8143280\ttotal: 34.2s\tremaining: 8.66s\n",
      "798:\tlearn: 8.8136569\ttotal: 34.2s\tremaining: 8.62s\n",
      "799:\tlearn: 8.8123004\ttotal: 34.3s\tremaining: 8.57s\n",
      "800:\tlearn: 8.8115142\ttotal: 34.3s\tremaining: 8.53s\n",
      "801:\tlearn: 8.8110633\ttotal: 34.4s\tremaining: 8.49s\n",
      "802:\tlearn: 8.8108536\ttotal: 34.4s\tremaining: 8.44s\n",
      "803:\tlearn: 8.8100730\ttotal: 34.5s\tremaining: 8.4s\n",
      "804:\tlearn: 8.8097730\ttotal: 34.5s\tremaining: 8.36s\n",
      "805:\tlearn: 8.8088658\ttotal: 34.5s\tremaining: 8.31s\n",
      "806:\tlearn: 8.8080558\ttotal: 34.6s\tremaining: 8.27s\n",
      "807:\tlearn: 8.8076224\ttotal: 34.6s\tremaining: 8.23s\n",
      "808:\tlearn: 8.8068438\ttotal: 34.7s\tremaining: 8.19s\n",
      "809:\tlearn: 8.8064177\ttotal: 34.7s\tremaining: 8.14s\n",
      "810:\tlearn: 8.8059222\ttotal: 34.8s\tremaining: 8.1s\n",
      "811:\tlearn: 8.8058565\ttotal: 34.8s\tremaining: 8.06s\n",
      "812:\tlearn: 8.8054520\ttotal: 34.9s\tremaining: 8.02s\n",
      "813:\tlearn: 8.8054391\ttotal: 34.9s\tremaining: 7.97s\n",
      "814:\tlearn: 8.8050899\ttotal: 34.9s\tremaining: 7.93s\n",
      "815:\tlearn: 8.8040961\ttotal: 35s\tremaining: 7.89s\n",
      "816:\tlearn: 8.8031790\ttotal: 35s\tremaining: 7.84s\n",
      "817:\tlearn: 8.8023777\ttotal: 35.1s\tremaining: 7.8s\n",
      "818:\tlearn: 8.8016355\ttotal: 35.1s\tremaining: 7.76s\n",
      "819:\tlearn: 8.8011571\ttotal: 35.1s\tremaining: 7.71s\n",
      "820:\tlearn: 8.8004367\ttotal: 35.2s\tremaining: 7.67s\n",
      "821:\tlearn: 8.7997980\ttotal: 35.2s\tremaining: 7.63s\n",
      "822:\tlearn: 8.7992617\ttotal: 35.3s\tremaining: 7.59s\n",
      "823:\tlearn: 8.7986324\ttotal: 35.3s\tremaining: 7.54s\n",
      "824:\tlearn: 8.7966398\ttotal: 35.4s\tremaining: 7.5s\n",
      "825:\tlearn: 8.7962349\ttotal: 35.4s\tremaining: 7.46s\n",
      "826:\tlearn: 8.7955045\ttotal: 35.4s\tremaining: 7.41s\n",
      "827:\tlearn: 8.7944971\ttotal: 35.5s\tremaining: 7.37s\n",
      "828:\tlearn: 8.7938960\ttotal: 35.5s\tremaining: 7.33s\n",
      "829:\tlearn: 8.7932074\ttotal: 35.6s\tremaining: 7.28s\n",
      "830:\tlearn: 8.7927000\ttotal: 35.6s\tremaining: 7.24s\n",
      "831:\tlearn: 8.7923676\ttotal: 35.7s\tremaining: 7.2s\n",
      "832:\tlearn: 8.7908550\ttotal: 35.7s\tremaining: 7.16s\n",
      "833:\tlearn: 8.7902412\ttotal: 35.7s\tremaining: 7.11s\n",
      "834:\tlearn: 8.7890519\ttotal: 35.8s\tremaining: 7.07s\n",
      "835:\tlearn: 8.7877570\ttotal: 35.8s\tremaining: 7.03s\n",
      "836:\tlearn: 8.7872670\ttotal: 35.9s\tremaining: 6.99s\n",
      "837:\tlearn: 8.7870708\ttotal: 35.9s\tremaining: 6.94s\n",
      "838:\tlearn: 8.7862876\ttotal: 36s\tremaining: 6.9s\n",
      "839:\tlearn: 8.7855224\ttotal: 36s\tremaining: 6.86s\n",
      "840:\tlearn: 8.7847573\ttotal: 36s\tremaining: 6.81s\n",
      "841:\tlearn: 8.7843086\ttotal: 36.1s\tremaining: 6.77s\n",
      "842:\tlearn: 8.7838029\ttotal: 36.1s\tremaining: 6.72s\n",
      "843:\tlearn: 8.7827557\ttotal: 36.2s\tremaining: 6.68s\n",
      "844:\tlearn: 8.7823381\ttotal: 36.2s\tremaining: 6.64s\n",
      "845:\tlearn: 8.7820649\ttotal: 36.2s\tremaining: 6.6s\n",
      "846:\tlearn: 8.7816052\ttotal: 36.3s\tremaining: 6.55s\n",
      "847:\tlearn: 8.7814335\ttotal: 36.3s\tremaining: 6.51s\n",
      "848:\tlearn: 8.7807680\ttotal: 36.4s\tremaining: 6.47s\n",
      "849:\tlearn: 8.7806568\ttotal: 36.4s\tremaining: 6.42s\n",
      "850:\tlearn: 8.7803210\ttotal: 36.4s\tremaining: 6.38s\n",
      "851:\tlearn: 8.7798936\ttotal: 36.5s\tremaining: 6.34s\n",
      "852:\tlearn: 8.7786356\ttotal: 36.5s\tremaining: 6.3s\n",
      "853:\tlearn: 8.7775196\ttotal: 36.6s\tremaining: 6.25s\n",
      "854:\tlearn: 8.7770384\ttotal: 36.6s\tremaining: 6.21s\n",
      "855:\tlearn: 8.7769185\ttotal: 36.7s\tremaining: 6.17s\n",
      "856:\tlearn: 8.7762912\ttotal: 36.7s\tremaining: 6.13s\n",
      "857:\tlearn: 8.7745329\ttotal: 36.8s\tremaining: 6.08s\n",
      "858:\tlearn: 8.7740641\ttotal: 36.8s\tremaining: 6.04s\n",
      "859:\tlearn: 8.7733252\ttotal: 36.8s\tremaining: 6s\n",
      "860:\tlearn: 8.7726848\ttotal: 36.9s\tremaining: 5.95s\n",
      "861:\tlearn: 8.7723244\ttotal: 36.9s\tremaining: 5.91s\n",
      "862:\tlearn: 8.7723132\ttotal: 36.9s\tremaining: 5.87s\n",
      "863:\tlearn: 8.7718538\ttotal: 37s\tremaining: 5.82s\n",
      "864:\tlearn: 8.7718454\ttotal: 37s\tremaining: 5.78s\n",
      "865:\tlearn: 8.7715444\ttotal: 37.1s\tremaining: 5.73s\n",
      "866:\tlearn: 8.7712579\ttotal: 37.1s\tremaining: 5.69s\n",
      "867:\tlearn: 8.7706890\ttotal: 37.1s\tremaining: 5.65s\n",
      "868:\tlearn: 8.7703269\ttotal: 37.2s\tremaining: 5.6s\n",
      "869:\tlearn: 8.7698632\ttotal: 37.2s\tremaining: 5.56s\n",
      "870:\tlearn: 8.7691409\ttotal: 37.3s\tremaining: 5.52s\n",
      "871:\tlearn: 8.7687104\ttotal: 37.3s\tremaining: 5.48s\n",
      "872:\tlearn: 8.7681513\ttotal: 37.4s\tremaining: 5.43s\n",
      "873:\tlearn: 8.7681443\ttotal: 37.4s\tremaining: 5.39s\n",
      "874:\tlearn: 8.7675758\ttotal: 37.4s\tremaining: 5.34s\n",
      "875:\tlearn: 8.7671664\ttotal: 37.5s\tremaining: 5.3s\n",
      "876:\tlearn: 8.7668558\ttotal: 37.5s\tremaining: 5.26s\n",
      "877:\tlearn: 8.7663742\ttotal: 37.5s\tremaining: 5.22s\n",
      "878:\tlearn: 8.7663682\ttotal: 37.6s\tremaining: 5.17s\n",
      "879:\tlearn: 8.7661953\ttotal: 37.6s\tremaining: 5.13s\n",
      "880:\tlearn: 8.7657751\ttotal: 37.7s\tremaining: 5.09s\n",
      "881:\tlearn: 8.7647367\ttotal: 37.7s\tremaining: 5.04s\n",
      "882:\tlearn: 8.7640328\ttotal: 37.8s\tremaining: 5s\n",
      "883:\tlearn: 8.7640249\ttotal: 37.8s\tremaining: 4.96s\n",
      "884:\tlearn: 8.7636313\ttotal: 37.8s\tremaining: 4.92s\n",
      "885:\tlearn: 8.7628103\ttotal: 37.9s\tremaining: 4.87s\n",
      "886:\tlearn: 8.7623076\ttotal: 37.9s\tremaining: 4.83s\n",
      "887:\tlearn: 8.7616578\ttotal: 37.9s\tremaining: 4.79s\n",
      "888:\tlearn: 8.7613343\ttotal: 38s\tremaining: 4.74s\n",
      "889:\tlearn: 8.7613290\ttotal: 38s\tremaining: 4.7s\n",
      "890:\tlearn: 8.7608535\ttotal: 38.1s\tremaining: 4.66s\n",
      "891:\tlearn: 8.7608294\ttotal: 38.1s\tremaining: 4.61s\n",
      "892:\tlearn: 8.7601008\ttotal: 38.1s\tremaining: 4.57s\n",
      "893:\tlearn: 8.7594004\ttotal: 38.2s\tremaining: 4.53s\n",
      "894:\tlearn: 8.7586473\ttotal: 38.2s\tremaining: 4.48s\n",
      "895:\tlearn: 8.7578275\ttotal: 38.3s\tremaining: 4.44s\n",
      "896:\tlearn: 8.7570880\ttotal: 38.3s\tremaining: 4.4s\n",
      "897:\tlearn: 8.7555855\ttotal: 38.4s\tremaining: 4.36s\n",
      "898:\tlearn: 8.7552359\ttotal: 38.4s\tremaining: 4.31s\n",
      "899:\tlearn: 8.7547278\ttotal: 38.4s\tremaining: 4.27s\n",
      "900:\tlearn: 8.7545940\ttotal: 38.5s\tremaining: 4.23s\n",
      "901:\tlearn: 8.7543986\ttotal: 38.5s\tremaining: 4.18s\n",
      "902:\tlearn: 8.7535759\ttotal: 38.6s\tremaining: 4.14s\n",
      "903:\tlearn: 8.7532604\ttotal: 38.6s\tremaining: 4.1s\n",
      "904:\tlearn: 8.7521704\ttotal: 38.6s\tremaining: 4.06s\n",
      "905:\tlearn: 8.7516662\ttotal: 38.7s\tremaining: 4.01s\n",
      "906:\tlearn: 8.7514250\ttotal: 38.7s\tremaining: 3.97s\n",
      "907:\tlearn: 8.7506355\ttotal: 38.8s\tremaining: 3.93s\n",
      "908:\tlearn: 8.7500586\ttotal: 38.8s\tremaining: 3.88s\n",
      "909:\tlearn: 8.7499582\ttotal: 38.8s\tremaining: 3.84s\n",
      "910:\tlearn: 8.7494114\ttotal: 38.9s\tremaining: 3.8s\n",
      "911:\tlearn: 8.7492925\ttotal: 38.9s\tremaining: 3.75s\n",
      "912:\tlearn: 8.7480712\ttotal: 39s\tremaining: 3.71s\n",
      "913:\tlearn: 8.7467294\ttotal: 39s\tremaining: 3.67s\n",
      "914:\tlearn: 8.7463991\ttotal: 39.1s\tremaining: 3.63s\n",
      "915:\tlearn: 8.7460432\ttotal: 39.1s\tremaining: 3.58s\n",
      "916:\tlearn: 8.7451277\ttotal: 39.1s\tremaining: 3.54s\n",
      "917:\tlearn: 8.7447314\ttotal: 39.2s\tremaining: 3.5s\n",
      "918:\tlearn: 8.7446006\ttotal: 39.2s\tremaining: 3.46s\n",
      "919:\tlearn: 8.7440839\ttotal: 39.3s\tremaining: 3.41s\n",
      "920:\tlearn: 8.7434665\ttotal: 39.3s\tremaining: 3.37s\n",
      "921:\tlearn: 8.7428063\ttotal: 39.3s\tremaining: 3.33s\n",
      "922:\tlearn: 8.7423307\ttotal: 39.4s\tremaining: 3.29s\n",
      "923:\tlearn: 8.7412908\ttotal: 39.4s\tremaining: 3.24s\n",
      "924:\tlearn: 8.7404809\ttotal: 39.5s\tremaining: 3.2s\n",
      "925:\tlearn: 8.7400164\ttotal: 39.5s\tremaining: 3.16s\n",
      "926:\tlearn: 8.7396131\ttotal: 39.6s\tremaining: 3.12s\n",
      "927:\tlearn: 8.7391766\ttotal: 39.6s\tremaining: 3.07s\n",
      "928:\tlearn: 8.7377805\ttotal: 39.7s\tremaining: 3.03s\n",
      "929:\tlearn: 8.7366849\ttotal: 39.7s\tremaining: 2.99s\n",
      "930:\tlearn: 8.7363526\ttotal: 39.7s\tremaining: 2.94s\n",
      "931:\tlearn: 8.7359075\ttotal: 39.8s\tremaining: 2.9s\n",
      "932:\tlearn: 8.7353697\ttotal: 39.8s\tremaining: 2.86s\n",
      "933:\tlearn: 8.7347077\ttotal: 39.9s\tremaining: 2.82s\n",
      "934:\tlearn: 8.7329532\ttotal: 39.9s\tremaining: 2.77s\n",
      "935:\tlearn: 8.7324441\ttotal: 40s\tremaining: 2.73s\n",
      "936:\tlearn: 8.7319225\ttotal: 40s\tremaining: 2.69s\n",
      "937:\tlearn: 8.7314110\ttotal: 40s\tremaining: 2.65s\n",
      "938:\tlearn: 8.7310662\ttotal: 40.1s\tremaining: 2.6s\n",
      "939:\tlearn: 8.7306652\ttotal: 40.1s\tremaining: 2.56s\n",
      "940:\tlearn: 8.7301909\ttotal: 40.1s\tremaining: 2.52s\n",
      "941:\tlearn: 8.7297578\ttotal: 40.2s\tremaining: 2.47s\n",
      "942:\tlearn: 8.7296618\ttotal: 40.2s\tremaining: 2.43s\n",
      "943:\tlearn: 8.7293909\ttotal: 40.3s\tremaining: 2.39s\n",
      "944:\tlearn: 8.7289843\ttotal: 40.3s\tremaining: 2.35s\n",
      "945:\tlearn: 8.7286592\ttotal: 40.3s\tremaining: 2.3s\n",
      "946:\tlearn: 8.7280321\ttotal: 40.4s\tremaining: 2.26s\n",
      "947:\tlearn: 8.7272758\ttotal: 40.4s\tremaining: 2.22s\n",
      "948:\tlearn: 8.7270039\ttotal: 40.5s\tremaining: 2.17s\n",
      "949:\tlearn: 8.7264363\ttotal: 40.5s\tremaining: 2.13s\n",
      "950:\tlearn: 8.7259780\ttotal: 40.6s\tremaining: 2.09s\n",
      "951:\tlearn: 8.7257797\ttotal: 40.6s\tremaining: 2.05s\n",
      "952:\tlearn: 8.7254394\ttotal: 40.6s\tremaining: 2s\n",
      "953:\tlearn: 8.7251345\ttotal: 40.7s\tremaining: 1.96s\n",
      "954:\tlearn: 8.7246967\ttotal: 40.7s\tremaining: 1.92s\n",
      "955:\tlearn: 8.7240928\ttotal: 40.8s\tremaining: 1.88s\n",
      "956:\tlearn: 8.7235500\ttotal: 40.8s\tremaining: 1.83s\n",
      "957:\tlearn: 8.7228094\ttotal: 40.9s\tremaining: 1.79s\n",
      "958:\tlearn: 8.7223048\ttotal: 40.9s\tremaining: 1.75s\n",
      "959:\tlearn: 8.7218317\ttotal: 40.9s\tremaining: 1.71s\n",
      "960:\tlearn: 8.7212334\ttotal: 41s\tremaining: 1.66s\n",
      "961:\tlearn: 8.7205878\ttotal: 41s\tremaining: 1.62s\n",
      "962:\tlearn: 8.7202113\ttotal: 41.1s\tremaining: 1.58s\n",
      "963:\tlearn: 8.7200737\ttotal: 41.1s\tremaining: 1.53s\n",
      "964:\tlearn: 8.7189588\ttotal: 41.1s\tremaining: 1.49s\n",
      "965:\tlearn: 8.7185822\ttotal: 41.2s\tremaining: 1.45s\n",
      "966:\tlearn: 8.7179464\ttotal: 41.2s\tremaining: 1.41s\n",
      "967:\tlearn: 8.7172530\ttotal: 41.3s\tremaining: 1.36s\n",
      "968:\tlearn: 8.7167355\ttotal: 41.3s\tremaining: 1.32s\n",
      "969:\tlearn: 8.7165505\ttotal: 41.4s\tremaining: 1.28s\n",
      "970:\tlearn: 8.7161492\ttotal: 41.4s\tremaining: 1.24s\n",
      "971:\tlearn: 8.7158311\ttotal: 41.4s\tremaining: 1.19s\n",
      "972:\tlearn: 8.7152674\ttotal: 41.5s\tremaining: 1.15s\n",
      "973:\tlearn: 8.7151091\ttotal: 41.5s\tremaining: 1.11s\n",
      "974:\tlearn: 8.7144085\ttotal: 41.6s\tremaining: 1.06s\n",
      "975:\tlearn: 8.7140526\ttotal: 41.6s\tremaining: 1.02s\n",
      "976:\tlearn: 8.7131302\ttotal: 41.7s\tremaining: 981ms\n",
      "977:\tlearn: 8.7125999\ttotal: 41.7s\tremaining: 938ms\n",
      "978:\tlearn: 8.7119012\ttotal: 41.8s\tremaining: 896ms\n",
      "979:\tlearn: 8.7115490\ttotal: 41.8s\tremaining: 853ms\n",
      "980:\tlearn: 8.7112963\ttotal: 41.8s\tremaining: 810ms\n",
      "981:\tlearn: 8.7104088\ttotal: 41.9s\tremaining: 768ms\n",
      "982:\tlearn: 8.7097871\ttotal: 41.9s\tremaining: 725ms\n",
      "983:\tlearn: 8.7092943\ttotal: 41.9s\tremaining: 682ms\n",
      "984:\tlearn: 8.7089406\ttotal: 42s\tremaining: 639ms\n",
      "985:\tlearn: 8.7086370\ttotal: 42s\tremaining: 597ms\n",
      "986:\tlearn: 8.7085168\ttotal: 42.1s\tremaining: 554ms\n",
      "987:\tlearn: 8.7078655\ttotal: 42.1s\tremaining: 512ms\n",
      "988:\tlearn: 8.7076865\ttotal: 42.1s\tremaining: 469ms\n",
      "989:\tlearn: 8.7064449\ttotal: 42.2s\tremaining: 426ms\n",
      "990:\tlearn: 8.7062061\ttotal: 42.2s\tremaining: 384ms\n",
      "991:\tlearn: 8.7059216\ttotal: 42.3s\tremaining: 341ms\n",
      "992:\tlearn: 8.7053913\ttotal: 42.3s\tremaining: 298ms\n",
      "993:\tlearn: 8.7052660\ttotal: 42.4s\tremaining: 256ms\n",
      "994:\tlearn: 8.7048874\ttotal: 42.4s\tremaining: 213ms\n",
      "995:\tlearn: 8.7045025\ttotal: 42.5s\tremaining: 170ms\n",
      "996:\tlearn: 8.7040319\ttotal: 42.5s\tremaining: 128ms\n",
      "997:\tlearn: 8.7032766\ttotal: 42.6s\tremaining: 85.3ms\n",
      "998:\tlearn: 8.7029189\ttotal: 42.6s\tremaining: 42.6ms\n",
      "999:\tlearn: 8.7025822\ttotal: 42.6s\tremaining: 0us\n",
      "RMSLE :  0.589542\n"
     ]
    }
   ],
   "source": [
    "import catboost\n",
    "# Splitting \n",
    "train_X, test_valid_x, train_y, test_valid_y = train_test_split(x, y, test_size = 0.2, random_state = 123) \n",
    "  \n",
    "cat_r = catboost.CatBoostRegressor()\n",
    "\n",
    "# Fitting the model \n",
    "cat_r.fit(train_X, train_y) \n",
    "  \n",
    "# Predict the model \n",
    "pred = xgb_r.predict(test_valid_x) \n",
    "  \n",
    "# RMSE Computation \n",
    "rmsle = np.sqrt(mean_squared_log_error(test_valid_y, pred)) \n",
    "print(\"RMSLE : % f\" %(rmsle)) "
   ]
  },
  {
   "cell_type": "markdown",
   "metadata": {
    "id": "kah8NovL5QEx"
   },
   "source": [
    "##### *Random Forest Regressor*"
   ]
  },
  {
   "cell_type": "code",
   "execution_count": 172,
   "metadata": {
    "colab": {
     "base_uri": "https://localhost:8080/"
    },
    "id": "s82801lz5O8I",
    "outputId": "fad7e820-6098-4bfc-91a2-78641c1ebd28"
   },
   "outputs": [
    {
     "data": {
      "text/plain": [
       "RandomForestRegressor(bootstrap=True, ccp_alpha=0.0, criterion='mse',\n",
       "                      max_depth=8, max_features='auto', max_leaf_nodes=None,\n",
       "                      max_samples=None, min_impurity_decrease=0.0,\n",
       "                      min_impurity_split=None, min_samples_leaf=1,\n",
       "                      min_samples_split=2, min_weight_fraction_leaf=0.0,\n",
       "                      n_estimators=500, n_jobs=None, oob_score=False,\n",
       "                      random_state=42, verbose=False, warm_start=False)"
      ]
     },
     "execution_count": 172,
     "metadata": {
      "tags": []
     },
     "output_type": "execute_result"
    }
   ],
   "source": [
    "rf = RandomForestRegressor(max_depth=8, n_estimators=500,random_state=42,verbose=False)\n",
    "rf.fit(x,y)"
   ]
  },
  {
   "cell_type": "code",
   "execution_count": 173,
   "metadata": {
    "id": "6pQoXdec6aBx"
   },
   "outputs": [],
   "source": [
    "# Predict the model \n",
    "y_pred_rf = rf.predict(test_x)"
   ]
  },
  {
   "cell_type": "code",
   "execution_count": 174,
   "metadata": {
    "colab": {
     "base_uri": "https://localhost:8080/",
     "height": 397
    },
    "id": "pDHYzlvj8Cey",
    "outputId": "33c927fe-1bd4-4053-bc27-e7fe31f1b466"
   },
   "outputs": [
    {
     "name": "stderr",
     "output_type": "stream",
     "text": [
      "/usr/local/lib/python3.6/dist-packages/ipykernel_launcher.py:3: SettingWithCopyWarning: \n",
      "A value is trying to be set on a copy of a slice from a DataFrame.\n",
      "Try using .loc[row_indexer,col_indexer] = value instead\n",
      "\n",
      "See the caveats in the documentation: https://pandas.pydata.org/pandas-docs/stable/user_guide/indexing.html#returning-a-view-versus-a-copy\n",
      "  This is separate from the ipykernel package so we can avoid doing imports until\n",
      "/usr/local/lib/python3.6/dist-packages/ipykernel_launcher.py:4: SettingWithCopyWarning: \n",
      "A value is trying to be set on a copy of a slice from a DataFrame.\n",
      "Try using .loc[row_indexer,col_indexer] = value instead\n",
      "\n",
      "See the caveats in the documentation: https://pandas.pydata.org/pandas-docs/stable/user_guide/indexing.html#returning-a-view-versus-a-copy\n",
      "  after removing the cwd from sys.path.\n"
     ]
    },
    {
     "data": {
      "text/html": [
       "<div>\n",
       "<style scoped>\n",
       "    .dataframe tbody tr th:only-of-type {\n",
       "        vertical-align: middle;\n",
       "    }\n",
       "\n",
       "    .dataframe tbody tr th {\n",
       "        vertical-align: top;\n",
       "    }\n",
       "\n",
       "    .dataframe thead th {\n",
       "        text-align: right;\n",
       "    }\n",
       "</style>\n",
       "<table border=\"1\" class=\"dataframe\">\n",
       "  <thead>\n",
       "    <tr style=\"text-align: right;\">\n",
       "      <th></th>\n",
       "      <th>id</th>\n",
       "      <th>visitors</th>\n",
       "    </tr>\n",
       "  </thead>\n",
       "  <tbody>\n",
       "    <tr>\n",
       "      <th>0</th>\n",
       "      <td>air_e3020992d5fe5dfd_2017-04-06</td>\n",
       "      <td>10.976295</td>\n",
       "    </tr>\n",
       "    <tr>\n",
       "      <th>1</th>\n",
       "      <td>air_e3020992d5fe5dfd_2017-04-07</td>\n",
       "      <td>15.869616</td>\n",
       "    </tr>\n",
       "    <tr>\n",
       "      <th>2</th>\n",
       "      <td>air_e3020992d5fe5dfd_2017-04-08</td>\n",
       "      <td>12.770211</td>\n",
       "    </tr>\n",
       "    <tr>\n",
       "      <th>3</th>\n",
       "      <td>air_e3020992d5fe5dfd_2017-04-10</td>\n",
       "      <td>10.506870</td>\n",
       "    </tr>\n",
       "    <tr>\n",
       "      <th>4</th>\n",
       "      <td>air_e3020992d5fe5dfd_2017-04-11</td>\n",
       "      <td>10.973663</td>\n",
       "    </tr>\n",
       "  </tbody>\n",
       "</table>\n",
       "</div>"
      ],
      "text/plain": [
       "                                id   visitors\n",
       "0  air_e3020992d5fe5dfd_2017-04-06  10.976295\n",
       "1  air_e3020992d5fe5dfd_2017-04-07  15.869616\n",
       "2  air_e3020992d5fe5dfd_2017-04-08  12.770211\n",
       "3  air_e3020992d5fe5dfd_2017-04-10  10.506870\n",
       "4  air_e3020992d5fe5dfd_2017-04-11  10.973663"
      ]
     },
     "execution_count": 174,
     "metadata": {
      "tags": []
     },
     "output_type": "execute_result"
    }
   ],
   "source": [
    "# Genrating Submission For Random Forest without train_test_split\n",
    "final_submissions_rf = ntest[['id','visitors']]\n",
    "final_submissions_rf['id'] = ntest[['id']]\n",
    "final_submissions_rf['visitors'] = pd.DataFrame({'visitors': y_pred_rf})\n",
    "final_submissions_rf = final_submissions_rf.reindex(['id','visitors'],axis=1)\n",
    "final_submissions_rf.head()"
   ]
  },
  {
   "cell_type": "code",
   "execution_count": 175,
   "metadata": {
    "id": "7Jm1uceT8qX6"
   },
   "outputs": [],
   "source": [
    "final_submissions_rf.to_csv('RandomForestRegressorWithoutTrainTestSplit.csv',index = False)"
   ]
  }
 ],
 "metadata": {
  "colab": {
   "collapsed_sections": [
    "jXNdEGavUTjI",
    "wGCcnj99N-Ie",
    "D83AI_bUOYeL",
    "fSrB5MOGWO64",
    "MvkO68VrN4Bk",
    "ClslGOXxWoz9",
    "PRfAoSp0MZA8",
    "7jasZDD1Lk2d",
    "fpqcMvEKLySM",
    "XQEWwFlpMgQy",
    "trexCtlKWpEA",
    "QVmdf-7Ki3l5",
    "bO1-s9ePjsG8",
    "C2yUCvSWlUJd",
    "SuLbwJu3r6gG",
    "_37mmH_PvFoB",
    "XXSOt1DVw3tB",
    "2V7oDJgnQJvk",
    "ZHwtTfK6QNv5",
    "wzswR_cA8xHy",
    "evvqK0Fh2Hn9",
    "DA7V8k9aK06D",
    "1oHPeYkcnd4m",
    "nXV6AZjkgicL",
    "oCrKZXyUlxRj",
    "QRDiy1Wvfg14",
    "6ZJCLMH_f5zT",
    "5Lsn0GfjupEB",
    "7CAgpdBNgver",
    "kah8NovL5QEx"
   ],
   "name": "Documentation_Review_2 Recruit_Restaurant.ipynb",
   "provenance": []
  },
  "kernelspec": {
   "display_name": "Python 3",
   "language": "python",
   "name": "python3"
  },
  "language_info": {
   "codemirror_mode": {
    "name": "ipython",
    "version": 3
   },
   "file_extension": ".py",
   "mimetype": "text/x-python",
   "name": "python",
   "nbconvert_exporter": "python",
   "pygments_lexer": "ipython3",
   "version": "3.6.5"
  }
 },
 "nbformat": 4,
 "nbformat_minor": 1
}
